{
 "cells": [
  {
   "cell_type": "code",
   "execution_count": 1,
   "metadata": {},
   "outputs": [],
   "source": [
    "import mlflow\n",
    "import quantstream as qs\n",
    "import numpy as np\n",
    "import pandas as pd\n",
    "import polars as pl\n",
    "\n",
    "from plotly.io import show\n",
    "\n",
    "from sklearn import set_config\n",
    "from sklearn.model_selection import (\n",
    "    GridSearchCV,\n",
    "    KFold,\n",
    "    RandomizedSearchCV,\n",
    "    train_test_split,\n",
    ")\n",
    "from sklearn.pipeline import Pipeline\n",
    "from scipy.stats import loguniform\n",
    "\n",
    "from skfolio import RatioMeasure, RiskMeasure, Population\n",
    "from skfolio.datasets import load_factors_dataset, load_sp500_dataset\n",
    "from skfolio.model_selection import (\n",
    "    CombinatorialPurgedCV,\n",
    "    WalkForward,\n",
    "    cross_val_predict,\n",
    ")\n",
    "from skfolio.moments import (\n",
    "    DenoiseCovariance,\n",
    "    DetoneCovariance,\n",
    "    EWMu,\n",
    "    GerberCovariance,\n",
    "    ShrunkMu,\n",
    ")\n",
    "from skfolio.optimization import (\n",
    "    MeanRisk,\n",
    "    NestedClustersOptimization,\n",
    "    InverseVolatility,\n",
    "    ObjectiveFunction,\n",
    "    RiskBudgeting,\n",
    ")\n",
    "from skfolio.pre_selection import SelectKExtremes\n",
    "from skfolio.preprocessing import prices_to_returns\n",
    "from skfolio.prior import BlackLitterman, EmpiricalPrior, FactorModel\n",
    "from skfolio.uncertainty_set import BootstrapMuUncertaintySet"
   ]
  },
  {
   "cell_type": "markdown",
   "metadata": {},
   "source": [
    "### Pull portfolio data for EDA"
   ]
  },
  {
   "cell_type": "code",
   "execution_count": 2,
   "metadata": {},
   "outputs": [
    {
     "data": {
      "text/html": [
       "<div>\n",
       "<style scoped>\n",
       "    .dataframe tbody tr th:only-of-type {\n",
       "        vertical-align: middle;\n",
       "    }\n",
       "\n",
       "    .dataframe tbody tr th {\n",
       "        vertical-align: top;\n",
       "    }\n",
       "\n",
       "    .dataframe thead th {\n",
       "        text-align: right;\n",
       "    }\n",
       "</style>\n",
       "<table border=\"1\" class=\"dataframe\">\n",
       "  <thead>\n",
       "    <tr style=\"text-align: right;\">\n",
       "      <th></th>\n",
       "      <th>AAPL</th>\n",
       "      <th>AMD</th>\n",
       "      <th>BAC</th>\n",
       "      <th>BBY</th>\n",
       "      <th>CVX</th>\n",
       "      <th>GE</th>\n",
       "      <th>HD</th>\n",
       "      <th>JNJ</th>\n",
       "      <th>JPM</th>\n",
       "      <th>KO</th>\n",
       "      <th>LLY</th>\n",
       "      <th>MRK</th>\n",
       "      <th>MSFT</th>\n",
       "      <th>PEP</th>\n",
       "      <th>PFE</th>\n",
       "      <th>PG</th>\n",
       "      <th>RRC</th>\n",
       "      <th>UNH</th>\n",
       "      <th>WMT</th>\n",
       "      <th>XOM</th>\n",
       "    </tr>\n",
       "    <tr>\n",
       "      <th>Date</th>\n",
       "      <th></th>\n",
       "      <th></th>\n",
       "      <th></th>\n",
       "      <th></th>\n",
       "      <th></th>\n",
       "      <th></th>\n",
       "      <th></th>\n",
       "      <th></th>\n",
       "      <th></th>\n",
       "      <th></th>\n",
       "      <th></th>\n",
       "      <th></th>\n",
       "      <th></th>\n",
       "      <th></th>\n",
       "      <th></th>\n",
       "      <th></th>\n",
       "      <th></th>\n",
       "      <th></th>\n",
       "      <th></th>\n",
       "      <th></th>\n",
       "    </tr>\n",
       "  </thead>\n",
       "  <tbody>\n",
       "    <tr>\n",
       "      <th>1990-01-02</th>\n",
       "      <td>0.264</td>\n",
       "      <td>4.125</td>\n",
       "      <td>4.599</td>\n",
       "      <td>0.144</td>\n",
       "      <td>4.991</td>\n",
       "      <td>14.391</td>\n",
       "      <td>1.117</td>\n",
       "      <td>3.438</td>\n",
       "      <td>3.394</td>\n",
       "      <td>2.235</td>\n",
       "      <td>6.658</td>\n",
       "      <td>4.215</td>\n",
       "      <td>0.384</td>\n",
       "      <td>4.738</td>\n",
       "      <td>1.021</td>\n",
       "      <td>3.860</td>\n",
       "      <td>3.322</td>\n",
       "      <td>0.310</td>\n",
       "      <td>3.653</td>\n",
       "      <td>4.068</td>\n",
       "    </tr>\n",
       "    <tr>\n",
       "      <th>1990-01-03</th>\n",
       "      <td>0.266</td>\n",
       "      <td>4.000</td>\n",
       "      <td>4.636</td>\n",
       "      <td>0.161</td>\n",
       "      <td>4.910</td>\n",
       "      <td>14.364</td>\n",
       "      <td>1.121</td>\n",
       "      <td>3.452</td>\n",
       "      <td>3.508</td>\n",
       "      <td>2.203</td>\n",
       "      <td>6.658</td>\n",
       "      <td>4.282</td>\n",
       "      <td>0.386</td>\n",
       "      <td>4.692</td>\n",
       "      <td>1.024</td>\n",
       "      <td>3.853</td>\n",
       "      <td>3.322</td>\n",
       "      <td>0.304</td>\n",
       "      <td>3.653</td>\n",
       "      <td>4.027</td>\n",
       "    </tr>\n",
       "    <tr>\n",
       "      <th>1990-01-04</th>\n",
       "      <td>0.267</td>\n",
       "      <td>3.938</td>\n",
       "      <td>4.537</td>\n",
       "      <td>0.159</td>\n",
       "      <td>4.847</td>\n",
       "      <td>14.283</td>\n",
       "      <td>1.128</td>\n",
       "      <td>3.459</td>\n",
       "      <td>3.522</td>\n",
       "      <td>2.192</td>\n",
       "      <td>6.621</td>\n",
       "      <td>4.215</td>\n",
       "      <td>0.397</td>\n",
       "      <td>4.646</td>\n",
       "      <td>1.041</td>\n",
       "      <td>3.777</td>\n",
       "      <td>3.322</td>\n",
       "      <td>0.301</td>\n",
       "      <td>3.634</td>\n",
       "      <td>3.987</td>\n",
       "    </tr>\n",
       "    <tr>\n",
       "      <th>1990-01-05</th>\n",
       "      <td>0.268</td>\n",
       "      <td>3.812</td>\n",
       "      <td>4.438</td>\n",
       "      <td>0.159</td>\n",
       "      <td>4.775</td>\n",
       "      <td>14.148</td>\n",
       "      <td>1.113</td>\n",
       "      <td>3.423</td>\n",
       "      <td>3.536</td>\n",
       "      <td>2.174</td>\n",
       "      <td>6.549</td>\n",
       "      <td>4.128</td>\n",
       "      <td>0.387</td>\n",
       "      <td>4.581</td>\n",
       "      <td>1.032</td>\n",
       "      <td>3.709</td>\n",
       "      <td>3.322</td>\n",
       "      <td>0.288</td>\n",
       "      <td>3.595</td>\n",
       "      <td>3.966</td>\n",
       "    </tr>\n",
       "    <tr>\n",
       "      <th>1990-01-08</th>\n",
       "      <td>0.269</td>\n",
       "      <td>3.812</td>\n",
       "      <td>4.463</td>\n",
       "      <td>0.147</td>\n",
       "      <td>4.820</td>\n",
       "      <td>14.229</td>\n",
       "      <td>1.102</td>\n",
       "      <td>3.481</td>\n",
       "      <td>3.536</td>\n",
       "      <td>2.220</td>\n",
       "      <td>6.549</td>\n",
       "      <td>4.181</td>\n",
       "      <td>0.393</td>\n",
       "      <td>4.664</td>\n",
       "      <td>1.023</td>\n",
       "      <td>3.777</td>\n",
       "      <td>3.322</td>\n",
       "      <td>0.282</td>\n",
       "      <td>3.644</td>\n",
       "      <td>4.027</td>\n",
       "    </tr>\n",
       "  </tbody>\n",
       "</table>\n",
       "</div>"
      ],
      "text/plain": [
       "             AAPL    AMD    BAC    BBY    CVX      GE     HD    JNJ    JPM  \\\n",
       "Date                                                                         \n",
       "1990-01-02  0.264  4.125  4.599  0.144  4.991  14.391  1.117  3.438  3.394   \n",
       "1990-01-03  0.266  4.000  4.636  0.161  4.910  14.364  1.121  3.452  3.508   \n",
       "1990-01-04  0.267  3.938  4.537  0.159  4.847  14.283  1.128  3.459  3.522   \n",
       "1990-01-05  0.268  3.812  4.438  0.159  4.775  14.148  1.113  3.423  3.536   \n",
       "1990-01-08  0.269  3.812  4.463  0.147  4.820  14.229  1.102  3.481  3.536   \n",
       "\n",
       "               KO    LLY    MRK   MSFT    PEP    PFE     PG    RRC    UNH  \\\n",
       "Date                                                                        \n",
       "1990-01-02  2.235  6.658  4.215  0.384  4.738  1.021  3.860  3.322  0.310   \n",
       "1990-01-03  2.203  6.658  4.282  0.386  4.692  1.024  3.853  3.322  0.304   \n",
       "1990-01-04  2.192  6.621  4.215  0.397  4.646  1.041  3.777  3.322  0.301   \n",
       "1990-01-05  2.174  6.549  4.128  0.387  4.581  1.032  3.709  3.322  0.288   \n",
       "1990-01-08  2.220  6.549  4.181  0.393  4.664  1.023  3.777  3.322  0.282   \n",
       "\n",
       "              WMT    XOM  \n",
       "Date                      \n",
       "1990-01-02  3.653  4.068  \n",
       "1990-01-03  3.653  4.027  \n",
       "1990-01-04  3.634  3.987  \n",
       "1990-01-05  3.595  3.966  \n",
       "1990-01-08  3.644  4.027  "
      ]
     },
     "execution_count": 2,
     "metadata": {},
     "output_type": "execute_result"
    }
   ],
   "source": [
    "prices = load_sp500_dataset()\n",
    "prices.head()"
   ]
  },
  {
   "cell_type": "code",
   "execution_count": 3,
   "metadata": {},
   "outputs": [],
   "source": [
    "portfolio = qs.Portfolio()\n",
    "portfolio.add_security(\"AAPL\")\n",
    "portfolio.add_security(\"ABBV\")\n",
    "portfolio.add_security(\"CVX\")\n",
    "portfolio.add_security(\"BRK-B\")\n",
    "portfolio.add_security(\"XOM\")\n",
    "portfolio.add_security(\"GM\")\n",
    "portfolio.add_security(\"JPM\")\n",
    "portfolio.add_security(\"META\")\n",
    "portfolio.add_security(\"NVDA\")\n",
    "portfolio.add_security(\"VZ\")\n",
    "portfolio.add_security(\"WMT\")"
   ]
  },
  {
   "cell_type": "code",
   "execution_count": 4,
   "metadata": {},
   "outputs": [
    {
     "data": {
      "text/html": [
       "<div><svg style=\"position: absolute; width: 0; height: 0; overflow: hidden\">\n",
       "<defs>\n",
       "<symbol id=\"icon-database\" viewBox=\"0 0 32 32\">\n",
       "<path d=\"M16 0c-8.837 0-16 2.239-16 5v4c0 2.761 7.163 5 16 5s16-2.239 16-5v-4c0-2.761-7.163-5-16-5z\"></path>\n",
       "<path d=\"M16 17c-8.837 0-16-2.239-16-5v6c0 2.761 7.163 5 16 5s16-2.239 16-5v-6c0 2.761-7.163 5-16 5z\"></path>\n",
       "<path d=\"M16 26c-8.837 0-16-2.239-16-5v6c0 2.761 7.163 5 16 5s16-2.239 16-5v-6c0 2.761-7.163 5-16 5z\"></path>\n",
       "</symbol>\n",
       "<symbol id=\"icon-file-text2\" viewBox=\"0 0 32 32\">\n",
       "<path d=\"M28.681 7.159c-0.694-0.947-1.662-2.053-2.724-3.116s-2.169-2.030-3.116-2.724c-1.612-1.182-2.393-1.319-2.841-1.319h-15.5c-1.378 0-2.5 1.121-2.5 2.5v27c0 1.378 1.122 2.5 2.5 2.5h23c1.378 0 2.5-1.122 2.5-2.5v-19.5c0-0.448-0.137-1.23-1.319-2.841zM24.543 5.457c0.959 0.959 1.712 1.825 2.268 2.543h-4.811v-4.811c0.718 0.556 1.584 1.309 2.543 2.268zM28 29.5c0 0.271-0.229 0.5-0.5 0.5h-23c-0.271 0-0.5-0.229-0.5-0.5v-27c0-0.271 0.229-0.5 0.5-0.5 0 0 15.499-0 15.5 0v7c0 0.552 0.448 1 1 1h7v19.5z\"></path>\n",
       "<path d=\"M23 26h-14c-0.552 0-1-0.448-1-1s0.448-1 1-1h14c0.552 0 1 0.448 1 1s-0.448 1-1 1z\"></path>\n",
       "<path d=\"M23 22h-14c-0.552 0-1-0.448-1-1s0.448-1 1-1h14c0.552 0 1 0.448 1 1s-0.448 1-1 1z\"></path>\n",
       "<path d=\"M23 18h-14c-0.552 0-1-0.448-1-1s0.448-1 1-1h14c0.552 0 1 0.448 1 1s-0.448 1-1 1z\"></path>\n",
       "</symbol>\n",
       "</defs>\n",
       "</svg>\n",
       "<style>/* CSS stylesheet for displaying xarray objects in jupyterlab.\n",
       " *\n",
       " */\n",
       "\n",
       ":root {\n",
       "  --xr-font-color0: var(--jp-content-font-color0, rgba(0, 0, 0, 1));\n",
       "  --xr-font-color2: var(--jp-content-font-color2, rgba(0, 0, 0, 0.54));\n",
       "  --xr-font-color3: var(--jp-content-font-color3, rgba(0, 0, 0, 0.38));\n",
       "  --xr-border-color: var(--jp-border-color2, #e0e0e0);\n",
       "  --xr-disabled-color: var(--jp-layout-color3, #bdbdbd);\n",
       "  --xr-background-color: var(--jp-layout-color0, white);\n",
       "  --xr-background-color-row-even: var(--jp-layout-color1, white);\n",
       "  --xr-background-color-row-odd: var(--jp-layout-color2, #eeeeee);\n",
       "}\n",
       "\n",
       "html[theme=dark],\n",
       "html[data-theme=dark],\n",
       "body[data-theme=dark],\n",
       "body.vscode-dark {\n",
       "  --xr-font-color0: rgba(255, 255, 255, 1);\n",
       "  --xr-font-color2: rgba(255, 255, 255, 0.54);\n",
       "  --xr-font-color3: rgba(255, 255, 255, 0.38);\n",
       "  --xr-border-color: #1F1F1F;\n",
       "  --xr-disabled-color: #515151;\n",
       "  --xr-background-color: #111111;\n",
       "  --xr-background-color-row-even: #111111;\n",
       "  --xr-background-color-row-odd: #313131;\n",
       "}\n",
       "\n",
       ".xr-wrap {\n",
       "  display: block !important;\n",
       "  min-width: 300px;\n",
       "  max-width: 700px;\n",
       "}\n",
       "\n",
       ".xr-text-repr-fallback {\n",
       "  /* fallback to plain text repr when CSS is not injected (untrusted notebook) */\n",
       "  display: none;\n",
       "}\n",
       "\n",
       ".xr-header {\n",
       "  padding-top: 6px;\n",
       "  padding-bottom: 6px;\n",
       "  margin-bottom: 4px;\n",
       "  border-bottom: solid 1px var(--xr-border-color);\n",
       "}\n",
       "\n",
       ".xr-header > div,\n",
       ".xr-header > ul {\n",
       "  display: inline;\n",
       "  margin-top: 0;\n",
       "  margin-bottom: 0;\n",
       "}\n",
       "\n",
       ".xr-obj-type,\n",
       ".xr-array-name {\n",
       "  margin-left: 2px;\n",
       "  margin-right: 10px;\n",
       "}\n",
       "\n",
       ".xr-obj-type {\n",
       "  color: var(--xr-font-color2);\n",
       "}\n",
       "\n",
       ".xr-sections {\n",
       "  padding-left: 0 !important;\n",
       "  display: grid;\n",
       "  grid-template-columns: 150px auto auto 1fr 0 20px 0 20px;\n",
       "}\n",
       "\n",
       ".xr-section-item {\n",
       "  display: contents;\n",
       "}\n",
       "\n",
       ".xr-section-item input {\n",
       "  display: inline-block;\n",
       "  opacity: 0;\n",
       "}\n",
       "\n",
       ".xr-section-item input + label {\n",
       "  color: var(--xr-disabled-color);\n",
       "}\n",
       "\n",
       ".xr-section-item input:enabled + label {\n",
       "  cursor: pointer;\n",
       "  color: var(--xr-font-color2);\n",
       "}\n",
       "\n",
       ".xr-section-item input:focus + label {\n",
       "  border: 2px solid var(--xr-font-color0);\n",
       "}\n",
       "\n",
       ".xr-section-item input:enabled + label:hover {\n",
       "  color: var(--xr-font-color0);\n",
       "}\n",
       "\n",
       ".xr-section-summary {\n",
       "  grid-column: 1;\n",
       "  color: var(--xr-font-color2);\n",
       "  font-weight: 500;\n",
       "}\n",
       "\n",
       ".xr-section-summary > span {\n",
       "  display: inline-block;\n",
       "  padding-left: 0.5em;\n",
       "}\n",
       "\n",
       ".xr-section-summary-in:disabled + label {\n",
       "  color: var(--xr-font-color2);\n",
       "}\n",
       "\n",
       ".xr-section-summary-in + label:before {\n",
       "  display: inline-block;\n",
       "  content: '►';\n",
       "  font-size: 11px;\n",
       "  width: 15px;\n",
       "  text-align: center;\n",
       "}\n",
       "\n",
       ".xr-section-summary-in:disabled + label:before {\n",
       "  color: var(--xr-disabled-color);\n",
       "}\n",
       "\n",
       ".xr-section-summary-in:checked + label:before {\n",
       "  content: '▼';\n",
       "}\n",
       "\n",
       ".xr-section-summary-in:checked + label > span {\n",
       "  display: none;\n",
       "}\n",
       "\n",
       ".xr-section-summary,\n",
       ".xr-section-inline-details {\n",
       "  padding-top: 4px;\n",
       "  padding-bottom: 4px;\n",
       "}\n",
       "\n",
       ".xr-section-inline-details {\n",
       "  grid-column: 2 / -1;\n",
       "}\n",
       "\n",
       ".xr-section-details {\n",
       "  display: none;\n",
       "  grid-column: 1 / -1;\n",
       "  margin-bottom: 5px;\n",
       "}\n",
       "\n",
       ".xr-section-summary-in:checked ~ .xr-section-details {\n",
       "  display: contents;\n",
       "}\n",
       "\n",
       ".xr-array-wrap {\n",
       "  grid-column: 1 / -1;\n",
       "  display: grid;\n",
       "  grid-template-columns: 20px auto;\n",
       "}\n",
       "\n",
       ".xr-array-wrap > label {\n",
       "  grid-column: 1;\n",
       "  vertical-align: top;\n",
       "}\n",
       "\n",
       ".xr-preview {\n",
       "  color: var(--xr-font-color3);\n",
       "}\n",
       "\n",
       ".xr-array-preview,\n",
       ".xr-array-data {\n",
       "  padding: 0 5px !important;\n",
       "  grid-column: 2;\n",
       "}\n",
       "\n",
       ".xr-array-data,\n",
       ".xr-array-in:checked ~ .xr-array-preview {\n",
       "  display: none;\n",
       "}\n",
       "\n",
       ".xr-array-in:checked ~ .xr-array-data,\n",
       ".xr-array-preview {\n",
       "  display: inline-block;\n",
       "}\n",
       "\n",
       ".xr-dim-list {\n",
       "  display: inline-block !important;\n",
       "  list-style: none;\n",
       "  padding: 0 !important;\n",
       "  margin: 0;\n",
       "}\n",
       "\n",
       ".xr-dim-list li {\n",
       "  display: inline-block;\n",
       "  padding: 0;\n",
       "  margin: 0;\n",
       "}\n",
       "\n",
       ".xr-dim-list:before {\n",
       "  content: '(';\n",
       "}\n",
       "\n",
       ".xr-dim-list:after {\n",
       "  content: ')';\n",
       "}\n",
       "\n",
       ".xr-dim-list li:not(:last-child):after {\n",
       "  content: ',';\n",
       "  padding-right: 5px;\n",
       "}\n",
       "\n",
       ".xr-has-index {\n",
       "  font-weight: bold;\n",
       "}\n",
       "\n",
       ".xr-var-list,\n",
       ".xr-var-item {\n",
       "  display: contents;\n",
       "}\n",
       "\n",
       ".xr-var-item > div,\n",
       ".xr-var-item label,\n",
       ".xr-var-item > .xr-var-name span {\n",
       "  background-color: var(--xr-background-color-row-even);\n",
       "  margin-bottom: 0;\n",
       "}\n",
       "\n",
       ".xr-var-item > .xr-var-name:hover span {\n",
       "  padding-right: 5px;\n",
       "}\n",
       "\n",
       ".xr-var-list > li:nth-child(odd) > div,\n",
       ".xr-var-list > li:nth-child(odd) > label,\n",
       ".xr-var-list > li:nth-child(odd) > .xr-var-name span {\n",
       "  background-color: var(--xr-background-color-row-odd);\n",
       "}\n",
       "\n",
       ".xr-var-name {\n",
       "  grid-column: 1;\n",
       "}\n",
       "\n",
       ".xr-var-dims {\n",
       "  grid-column: 2;\n",
       "}\n",
       "\n",
       ".xr-var-dtype {\n",
       "  grid-column: 3;\n",
       "  text-align: right;\n",
       "  color: var(--xr-font-color2);\n",
       "}\n",
       "\n",
       ".xr-var-preview {\n",
       "  grid-column: 4;\n",
       "}\n",
       "\n",
       ".xr-index-preview {\n",
       "  grid-column: 2 / 5;\n",
       "  color: var(--xr-font-color2);\n",
       "}\n",
       "\n",
       ".xr-var-name,\n",
       ".xr-var-dims,\n",
       ".xr-var-dtype,\n",
       ".xr-preview,\n",
       ".xr-attrs dt {\n",
       "  white-space: nowrap;\n",
       "  overflow: hidden;\n",
       "  text-overflow: ellipsis;\n",
       "  padding-right: 10px;\n",
       "}\n",
       "\n",
       ".xr-var-name:hover,\n",
       ".xr-var-dims:hover,\n",
       ".xr-var-dtype:hover,\n",
       ".xr-attrs dt:hover {\n",
       "  overflow: visible;\n",
       "  width: auto;\n",
       "  z-index: 1;\n",
       "}\n",
       "\n",
       ".xr-var-attrs,\n",
       ".xr-var-data,\n",
       ".xr-index-data {\n",
       "  display: none;\n",
       "  background-color: var(--xr-background-color) !important;\n",
       "  padding-bottom: 5px !important;\n",
       "}\n",
       "\n",
       ".xr-var-attrs-in:checked ~ .xr-var-attrs,\n",
       ".xr-var-data-in:checked ~ .xr-var-data,\n",
       ".xr-index-data-in:checked ~ .xr-index-data {\n",
       "  display: block;\n",
       "}\n",
       "\n",
       ".xr-var-data > table {\n",
       "  float: right;\n",
       "}\n",
       "\n",
       ".xr-var-name span,\n",
       ".xr-var-data,\n",
       ".xr-index-name div,\n",
       ".xr-index-data,\n",
       ".xr-attrs {\n",
       "  padding-left: 25px !important;\n",
       "}\n",
       "\n",
       ".xr-attrs,\n",
       ".xr-var-attrs,\n",
       ".xr-var-data,\n",
       ".xr-index-data {\n",
       "  grid-column: 1 / -1;\n",
       "}\n",
       "\n",
       "dl.xr-attrs {\n",
       "  padding: 0;\n",
       "  margin: 0;\n",
       "  display: grid;\n",
       "  grid-template-columns: 125px auto;\n",
       "}\n",
       "\n",
       ".xr-attrs dt,\n",
       ".xr-attrs dd {\n",
       "  padding: 0;\n",
       "  margin: 0;\n",
       "  float: left;\n",
       "  padding-right: 10px;\n",
       "  width: auto;\n",
       "}\n",
       "\n",
       ".xr-attrs dt {\n",
       "  font-weight: normal;\n",
       "  grid-column: 1;\n",
       "}\n",
       "\n",
       ".xr-attrs dt:hover span {\n",
       "  display: inline-block;\n",
       "  background: var(--xr-background-color);\n",
       "  padding-right: 10px;\n",
       "}\n",
       "\n",
       ".xr-attrs dd {\n",
       "  grid-column: 2;\n",
       "  white-space: pre-wrap;\n",
       "  word-break: break-all;\n",
       "}\n",
       "\n",
       ".xr-icon-database,\n",
       ".xr-icon-file-text2,\n",
       ".xr-no-icon {\n",
       "  display: inline-block;\n",
       "  vertical-align: middle;\n",
       "  width: 1em;\n",
       "  height: 1.5em !important;\n",
       "  stroke-width: 0;\n",
       "  stroke: currentColor;\n",
       "  fill: currentColor;\n",
       "}\n",
       "</style><pre class='xr-text-repr-fallback'>&lt;xarray.Dataset&gt; Size: 1MB\n",
       "Dimensions:           (security: 11, time: 1258)\n",
       "Coordinates:\n",
       "  * security          (security) object 88B &#x27;AAPL&#x27; &#x27;ABBV&#x27; ... &#x27;WMT&#x27; &#x27;XOM&#x27;\n",
       "  * time              (time) datetime64[ns] 10kB 2019-10-21 ... 2024-10-18\n",
       "Data variables:\n",
       "    open              (security, time) float64 111kB 59.38 60.29 ... 120.8 120.4\n",
       "    high              (security, time) float64 111kB 60.25 60.55 ... 121.6 120.6\n",
       "    low               (security, time) float64 111kB 59.33 59.91 ... 119.7 119.2\n",
       "    close             (security, time) float64 111kB 60.13 59.99 ... 120.3 120.0\n",
       "    adjClose          (security, time) float64 111kB 58.18 58.05 ... 120.3 120.0\n",
       "    volume            (security, time) float64 111kB 8.947e+07 ... 1.258e+07\n",
       "    unadjustedVolume  (security, time) float64 111kB 8.947e+07 ... 1.258e+07\n",
       "    change            (security, time) float64 111kB 0.7475 -0.3 ... -0.41 -0.43\n",
       "    changePercent     (security, time) float64 111kB 1.26 -0.4976 ... -0.357\n",
       "    vwap              (security, time) float64 111kB 59.77 60.19 ... 120.6 120.1\n",
       "    label             (security, time) object 111kB &#x27;October 21, 19&#x27; ... &#x27;Oct...\n",
       "    changeOverTime    (security, time) float64 111kB 0.0126 ... -0.00357</pre><div class='xr-wrap' style='display:none'><div class='xr-header'><div class='xr-obj-type'>xarray.Dataset</div></div><ul class='xr-sections'><li class='xr-section-item'><input id='section-cacb52c6-6615-4349-8857-8370eaf13938' class='xr-section-summary-in' type='checkbox' disabled ><label for='section-cacb52c6-6615-4349-8857-8370eaf13938' class='xr-section-summary'  title='Expand/collapse section'>Dimensions:</label><div class='xr-section-inline-details'><ul class='xr-dim-list'><li><span class='xr-has-index'>security</span>: 11</li><li><span class='xr-has-index'>time</span>: 1258</li></ul></div><div class='xr-section-details'></div></li><li class='xr-section-item'><input id='section-f90c68ee-3dd3-4794-83e0-e8d181885c15' class='xr-section-summary-in' type='checkbox'  checked><label for='section-f90c68ee-3dd3-4794-83e0-e8d181885c15' class='xr-section-summary' >Coordinates: <span>(2)</span></label><div class='xr-section-inline-details'></div><div class='xr-section-details'><ul class='xr-var-list'><li class='xr-var-item'><div class='xr-var-name'><span class='xr-has-index'>security</span></div><div class='xr-var-dims'>(security)</div><div class='xr-var-dtype'>object</div><div class='xr-var-preview xr-preview'>&#x27;AAPL&#x27; &#x27;ABBV&#x27; ... &#x27;WMT&#x27; &#x27;XOM&#x27;</div><input id='attrs-b50b8773-5663-4084-afb9-2e18f7ec2295' class='xr-var-attrs-in' type='checkbox' disabled><label for='attrs-b50b8773-5663-4084-afb9-2e18f7ec2295' title='Show/Hide attributes'><svg class='icon xr-icon-file-text2'><use xlink:href='#icon-file-text2'></use></svg></label><input id='data-c04fe6d0-d979-42f1-b698-a8c1e855d395' class='xr-var-data-in' type='checkbox'><label for='data-c04fe6d0-d979-42f1-b698-a8c1e855d395' title='Show/Hide data repr'><svg class='icon xr-icon-database'><use xlink:href='#icon-database'></use></svg></label><div class='xr-var-attrs'><dl class='xr-attrs'></dl></div><div class='xr-var-data'><pre>array([&#x27;AAPL&#x27;, &#x27;ABBV&#x27;, &#x27;BRK-B&#x27;, &#x27;CVX&#x27;, &#x27;GM&#x27;, &#x27;JPM&#x27;, &#x27;META&#x27;, &#x27;NVDA&#x27;, &#x27;VZ&#x27;,\n",
       "       &#x27;WMT&#x27;, &#x27;XOM&#x27;], dtype=object)</pre></div></li><li class='xr-var-item'><div class='xr-var-name'><span class='xr-has-index'>time</span></div><div class='xr-var-dims'>(time)</div><div class='xr-var-dtype'>datetime64[ns]</div><div class='xr-var-preview xr-preview'>2019-10-21 ... 2024-10-18</div><input id='attrs-7b517fb9-a761-4c4d-ae19-aadc6ee825ee' class='xr-var-attrs-in' type='checkbox' disabled><label for='attrs-7b517fb9-a761-4c4d-ae19-aadc6ee825ee' title='Show/Hide attributes'><svg class='icon xr-icon-file-text2'><use xlink:href='#icon-file-text2'></use></svg></label><input id='data-82dd7bc2-6dec-4866-b98a-7d0b92eacbaf' class='xr-var-data-in' type='checkbox'><label for='data-82dd7bc2-6dec-4866-b98a-7d0b92eacbaf' title='Show/Hide data repr'><svg class='icon xr-icon-database'><use xlink:href='#icon-database'></use></svg></label><div class='xr-var-attrs'><dl class='xr-attrs'></dl></div><div class='xr-var-data'><pre>array([&#x27;2019-10-21T00:00:00.000000000&#x27;, &#x27;2019-10-22T00:00:00.000000000&#x27;,\n",
       "       &#x27;2019-10-23T00:00:00.000000000&#x27;, ..., &#x27;2024-10-16T00:00:00.000000000&#x27;,\n",
       "       &#x27;2024-10-17T00:00:00.000000000&#x27;, &#x27;2024-10-18T00:00:00.000000000&#x27;],\n",
       "      dtype=&#x27;datetime64[ns]&#x27;)</pre></div></li></ul></div></li><li class='xr-section-item'><input id='section-6f4987a0-8a98-4230-9459-95059b6da892' class='xr-section-summary-in' type='checkbox'  checked><label for='section-6f4987a0-8a98-4230-9459-95059b6da892' class='xr-section-summary' >Data variables: <span>(12)</span></label><div class='xr-section-inline-details'></div><div class='xr-section-details'><ul class='xr-var-list'><li class='xr-var-item'><div class='xr-var-name'><span>open</span></div><div class='xr-var-dims'>(security, time)</div><div class='xr-var-dtype'>float64</div><div class='xr-var-preview xr-preview'>59.38 60.29 60.53 ... 120.8 120.4</div><input id='attrs-22d88c75-f948-467d-9bba-dbb2af677858' class='xr-var-attrs-in' type='checkbox' disabled><label for='attrs-22d88c75-f948-467d-9bba-dbb2af677858' title='Show/Hide attributes'><svg class='icon xr-icon-file-text2'><use xlink:href='#icon-file-text2'></use></svg></label><input id='data-2b7ee67f-3c4f-4c5c-8551-cce38ed33bc1' class='xr-var-data-in' type='checkbox'><label for='data-2b7ee67f-3c4f-4c5c-8551-cce38ed33bc1' title='Show/Hide data repr'><svg class='icon xr-icon-database'><use xlink:href='#icon-database'></use></svg></label><div class='xr-var-attrs'><dl class='xr-attrs'></dl></div><div class='xr-var-data'><pre>array([[ 59.38    ,  60.29    ,  60.53    , ..., 231.6     , 233.43    ,\n",
       "        236.18    ],\n",
       "       [ 76.88    ,  78.05    ,  77.79    , ..., 190.45    , 190.54    ,\n",
       "        188.97    ],\n",
       "       [210.      , 211.029999, 210.5     , ..., 463.25    , 466.1     ,\n",
       "        467.      ],\n",
       "       ...,\n",
       "       [ 61.01    ,  61.23    ,  60.6     , ...,  43.74    ,  43.88    ,\n",
       "         43.83    ],\n",
       "       [ 39.77    ,  39.92    ,  39.72    , ...,  81.53    ,  81.27    ,\n",
       "         80.87    ],\n",
       "       [ 67.82    ,  68.78    ,  68.96    , ..., 120.89    , 120.76    ,\n",
       "        120.44    ]])</pre></div></li><li class='xr-var-item'><div class='xr-var-name'><span>high</span></div><div class='xr-var-dims'>(security, time)</div><div class='xr-var-dtype'>float64</div><div class='xr-var-preview xr-preview'>60.25 60.55 60.81 ... 121.6 120.6</div><input id='attrs-ccaebd72-a981-40eb-95eb-fc8f44150047' class='xr-var-attrs-in' type='checkbox' disabled><label for='attrs-ccaebd72-a981-40eb-95eb-fc8f44150047' title='Show/Hide attributes'><svg class='icon xr-icon-file-text2'><use xlink:href='#icon-file-text2'></use></svg></label><input id='data-610229d4-9d35-414d-81e3-7d9120461208' class='xr-var-data-in' type='checkbox'><label for='data-610229d4-9d35-414d-81e3-7d9120461208' title='Show/Hide data repr'><svg class='icon xr-icon-database'><use xlink:href='#icon-database'></use></svg></label><div class='xr-var-attrs'><dl class='xr-attrs'></dl></div><div class='xr-var-data'><pre>array([[ 60.25    ,  60.55    ,  60.81    , ..., 232.12    , 233.85    ,\n",
       "        236.18    ],\n",
       "       [ 77.85    ,  78.66    ,  78.02    , ..., 191.04    , 191.62    ,\n",
       "        189.69    ],\n",
       "       [211.539993, 211.970001, 211.009995, ..., 466.      , 467.84    ,\n",
       "        467.      ],\n",
       "       ...,\n",
       "       [ 61.23    ,  61.23    ,  61.32    , ...,  44.1     ,  44.      ,\n",
       "         44.17    ],\n",
       "       [ 39.94    ,  40.06    ,  39.95    , ...,  81.66    ,  81.5     ,\n",
       "         81.69    ],\n",
       "       [ 68.77    ,  69.76    ,  69.76    , ..., 121.44    , 121.58    ,\n",
       "        120.64    ]])</pre></div></li><li class='xr-var-item'><div class='xr-var-name'><span>low</span></div><div class='xr-var-dims'>(security, time)</div><div class='xr-var-dtype'>float64</div><div class='xr-var-preview xr-preview'>59.33 59.91 60.31 ... 119.7 119.2</div><input id='attrs-8bd8af5a-87c6-4566-91fe-8e25b64cdf4f' class='xr-var-attrs-in' type='checkbox' disabled><label for='attrs-8bd8af5a-87c6-4566-91fe-8e25b64cdf4f' title='Show/Hide attributes'><svg class='icon xr-icon-file-text2'><use xlink:href='#icon-file-text2'></use></svg></label><input id='data-2c7ea061-b49a-4316-befa-ba5b05ce66cc' class='xr-var-data-in' type='checkbox'><label for='data-2c7ea061-b49a-4316-befa-ba5b05ce66cc' title='Show/Hide data repr'><svg class='icon xr-icon-database'><use xlink:href='#icon-database'></use></svg></label><div class='xr-var-attrs'><dl class='xr-attrs'></dl></div><div class='xr-var-data'><pre>array([[ 59.33    ,  59.91    ,  60.31    , ..., 229.84    , 230.52    ,\n",
       "        234.01    ],\n",
       "       [ 75.85    ,  77.75    ,  77.19    , ..., 188.73    , 188.46    ,\n",
       "        188.16    ],\n",
       "       [209.759995, 210.470001, 209.539993, ..., 462.2     , 464.27    ,\n",
       "        463.25    ],\n",
       "       ...,\n",
       "       [ 57.92    ,  60.51    ,  60.55    , ...,  43.66    ,  43.53    ,\n",
       "         43.67    ],\n",
       "       [ 39.61    ,  39.8     ,  39.56    , ...,  80.62    ,  80.65    ,\n",
       "         80.66    ],\n",
       "       [ 67.82    ,  68.65    ,  68.78    , ..., 120.6     , 119.71    ,\n",
       "        119.15    ]])</pre></div></li><li class='xr-var-item'><div class='xr-var-name'><span>close</span></div><div class='xr-var-dims'>(security, time)</div><div class='xr-var-dtype'>float64</div><div class='xr-var-preview xr-preview'>60.13 59.99 60.8 ... 120.3 120.0</div><input id='attrs-7a2a135b-550e-4dad-ab23-43a7d323d70d' class='xr-var-attrs-in' type='checkbox' disabled><label for='attrs-7a2a135b-550e-4dad-ab23-43a7d323d70d' title='Show/Hide attributes'><svg class='icon xr-icon-file-text2'><use xlink:href='#icon-file-text2'></use></svg></label><input id='data-ef7e0a88-54ad-44ec-96be-ea6489769c26' class='xr-var-data-in' type='checkbox'><label for='data-ef7e0a88-54ad-44ec-96be-ea6489769c26' title='Show/Hide data repr'><svg class='icon xr-icon-database'><use xlink:href='#icon-database'></use></svg></label><div class='xr-var-attrs'><dl class='xr-attrs'></dl></div><div class='xr-var-data'><pre>array([[ 60.13    ,  59.99    ,  60.8     , ..., 231.78    , 232.15    ,\n",
       "        235.      ],\n",
       "       [ 77.3     ,  77.87    ,  77.75    , ..., 190.46    , 188.57    ,\n",
       "        188.86    ],\n",
       "       [211.490005, 210.619995, 210.960007, ..., 465.69    , 465.85    ,\n",
       "        464.8     ],\n",
       "       ...,\n",
       "       [ 60.75    ,  60.77    ,  60.88    , ...,  43.91    ,  43.85    ,\n",
       "         43.99    ],\n",
       "       [ 39.91    ,  39.86    ,  39.78    , ...,  81.22    ,  80.89    ,\n",
       "         81.31    ],\n",
       "       [ 68.74    ,  69.09    ,  69.75    , ..., 120.66    , 120.35    ,\n",
       "        120.01    ]])</pre></div></li><li class='xr-var-item'><div class='xr-var-name'><span>adjClose</span></div><div class='xr-var-dims'>(security, time)</div><div class='xr-var-dtype'>float64</div><div class='xr-var-preview xr-preview'>58.18 58.05 58.83 ... 120.3 120.0</div><input id='attrs-dd8426dd-11f6-4114-9f6e-a65c87cc191d' class='xr-var-attrs-in' type='checkbox' disabled><label for='attrs-dd8426dd-11f6-4114-9f6e-a65c87cc191d' title='Show/Hide attributes'><svg class='icon xr-icon-file-text2'><use xlink:href='#icon-file-text2'></use></svg></label><input id='data-050b8e60-618b-458f-802b-6d873c8e6a2c' class='xr-var-data-in' type='checkbox'><label for='data-050b8e60-618b-458f-802b-6d873c8e6a2c' title='Show/Hide data repr'><svg class='icon xr-icon-database'><use xlink:href='#icon-database'></use></svg></label><div class='xr-var-attrs'><dl class='xr-attrs'></dl></div><div class='xr-var-data'><pre>array([[ 58.18    ,  58.05    ,  58.83    , ..., 231.78    , 232.15    ,\n",
       "        235.      ],\n",
       "       [ 62.38    ,  62.84    ,  62.74    , ..., 190.46    , 188.57    ,\n",
       "        188.86    ],\n",
       "       [211.490005, 210.619995, 210.960007, ..., 465.69    , 465.85    ,\n",
       "        464.8     ],\n",
       "       ...,\n",
       "       [ 46.11    ,  46.13    ,  46.21    , ...,  43.91    ,  43.85    ,\n",
       "         43.99    ],\n",
       "       [ 36.95    ,  36.9     ,  36.83    , ...,  81.22    ,  80.89    ,\n",
       "         81.31    ],\n",
       "       [ 53.73    ,  54.01    ,  54.52    , ..., 120.66    , 120.35    ,\n",
       "        120.01    ]])</pre></div></li><li class='xr-var-item'><div class='xr-var-name'><span>volume</span></div><div class='xr-var-dims'>(security, time)</div><div class='xr-var-dtype'>float64</div><div class='xr-var-preview xr-preview'>8.947e+07 9.074e+07 ... 1.258e+07</div><input id='attrs-2c50fb77-926f-46e4-a0a9-0e965e1334f9' class='xr-var-attrs-in' type='checkbox' disabled><label for='attrs-2c50fb77-926f-46e4-a0a9-0e965e1334f9' title='Show/Hide attributes'><svg class='icon xr-icon-file-text2'><use xlink:href='#icon-file-text2'></use></svg></label><input id='data-f48d98cd-df7c-4669-8678-2a599038fd14' class='xr-var-data-in' type='checkbox'><label for='data-f48d98cd-df7c-4669-8678-2a599038fd14' title='Show/Hide data repr'><svg class='icon xr-icon-database'><use xlink:href='#icon-database'></use></svg></label><div class='xr-var-attrs'><dl class='xr-attrs'></dl></div><div class='xr-var-data'><pre>array([[89469932., 90736004., 79730180., ..., 34082240., 32993810.,\n",
       "        45441281.],\n",
       "       [ 7882560.,  6863955.,  6195542., ...,  5576000.,  4419002.,\n",
       "         5607902.],\n",
       "       [ 3337300.,  2716800.,  2413800., ...,  3166300.,  2520903.,\n",
       "         5635463.],\n",
       "       ...,\n",
       "       [11441991.,  9802244., 10461906., ...,  9459000., 10539459.,\n",
       "        13058370.],\n",
       "       [10417549.,  7789555.,  8606657., ..., 11123300.,  9424705.,\n",
       "        12324148.],\n",
       "       [10473346.,  9503140.,  8722963., ...,  8426800., 11204857.,\n",
       "        12580749.]])</pre></div></li><li class='xr-var-item'><div class='xr-var-name'><span>unadjustedVolume</span></div><div class='xr-var-dims'>(security, time)</div><div class='xr-var-dtype'>float64</div><div class='xr-var-preview xr-preview'>8.947e+07 9.074e+07 ... 1.258e+07</div><input id='attrs-5871065b-17e6-4833-878a-01a863583ffc' class='xr-var-attrs-in' type='checkbox' disabled><label for='attrs-5871065b-17e6-4833-878a-01a863583ffc' title='Show/Hide attributes'><svg class='icon xr-icon-file-text2'><use xlink:href='#icon-file-text2'></use></svg></label><input id='data-937f6d9a-8562-4b88-bfd5-b9a104005ecc' class='xr-var-data-in' type='checkbox'><label for='data-937f6d9a-8562-4b88-bfd5-b9a104005ecc' title='Show/Hide data repr'><svg class='icon xr-icon-database'><use xlink:href='#icon-database'></use></svg></label><div class='xr-var-attrs'><dl class='xr-attrs'></dl></div><div class='xr-var-data'><pre>array([[89469932., 90736004., 79730180., ..., 34082240., 32993810.,\n",
       "        45441281.],\n",
       "       [ 7882560.,  6863955.,  6195542., ...,  5576000.,  4419002.,\n",
       "         5607902.],\n",
       "       [ 3337300.,  2716800.,  2413800., ...,  3166300.,  2520903.,\n",
       "         5635463.],\n",
       "       ...,\n",
       "       [11441991.,  9802244., 10461906., ...,  9459000., 10539459.,\n",
       "        13058370.],\n",
       "       [10417549.,  7789555.,  8606657., ..., 11123300.,  9424705.,\n",
       "        12324148.],\n",
       "       [10473346.,  9503140.,  8722963., ...,  8426800., 11204857.,\n",
       "        12580749.]])</pre></div></li><li class='xr-var-item'><div class='xr-var-name'><span>change</span></div><div class='xr-var-dims'>(security, time)</div><div class='xr-var-dtype'>float64</div><div class='xr-var-preview xr-preview'>0.7475 -0.3 0.27 ... -0.41 -0.43</div><input id='attrs-90103ef9-6156-483f-9eed-af566a878854' class='xr-var-attrs-in' type='checkbox' disabled><label for='attrs-90103ef9-6156-483f-9eed-af566a878854' title='Show/Hide attributes'><svg class='icon xr-icon-file-text2'><use xlink:href='#icon-file-text2'></use></svg></label><input id='data-2ee71c5f-8968-4ac4-9a99-edce840f265f' class='xr-var-data-in' type='checkbox'><label for='data-2ee71c5f-8968-4ac4-9a99-edce840f265f' title='Show/Hide data repr'><svg class='icon xr-icon-database'><use xlink:href='#icon-database'></use></svg></label><div class='xr-var-attrs'><dl class='xr-attrs'></dl></div><div class='xr-var-data'><pre>array([[ 0.7475  , -0.3     ,  0.27    , ...,  0.18    , -1.28    ,\n",
       "        -1.18    ],\n",
       "       [ 0.42    , -0.18    , -0.04    , ...,  0.01    , -1.97    ,\n",
       "        -0.11    ],\n",
       "       [ 1.49    , -0.410004,  0.460007, ...,  2.44    , -0.25    ,\n",
       "        -2.2     ],\n",
       "       ...,\n",
       "       [-0.26    , -0.46    ,  0.28    , ...,  0.17    , -0.03    ,\n",
       "         0.16    ],\n",
       "       [ 0.14667 , -0.056667,  0.06    , ..., -0.31    , -0.38    ,\n",
       "         0.44    ],\n",
       "       [ 0.92    ,  0.31    ,  0.79    , ..., -0.23    , -0.41    ,\n",
       "        -0.43    ]])</pre></div></li><li class='xr-var-item'><div class='xr-var-name'><span>changePercent</span></div><div class='xr-var-dims'>(security, time)</div><div class='xr-var-dtype'>float64</div><div class='xr-var-preview xr-preview'>1.26 -0.4976 ... -0.3395 -0.357</div><input id='attrs-06b8b0ac-6066-47af-8506-63473d8ca76f' class='xr-var-attrs-in' type='checkbox' disabled><label for='attrs-06b8b0ac-6066-47af-8506-63473d8ca76f' title='Show/Hide attributes'><svg class='icon xr-icon-file-text2'><use xlink:href='#icon-file-text2'></use></svg></label><input id='data-8faceb51-05d8-4aeb-b45b-3e028ea372ff' class='xr-var-data-in' type='checkbox'><label for='data-8faceb51-05d8-4aeb-b45b-3e028ea372ff' title='Show/Hide data repr'><svg class='icon xr-icon-database'><use xlink:href='#icon-database'></use></svg></label><div class='xr-var-attrs'><dl class='xr-attrs'></dl></div><div class='xr-var-data'><pre>array([[ 1.26      , -0.49759   ,  0.44606   , ...,  0.07772021,\n",
       "        -0.54834   , -0.49962   ],\n",
       "       [ 0.54631   , -0.23062   , -0.05142049, ...,  0.00525072,\n",
       "        -1.03      , -0.0582103 ],\n",
       "       [ 0.70953   , -0.19429   ,  0.21853   , ...,  0.52671   ,\n",
       "        -0.05363656, -0.47109   ],\n",
       "       ...,\n",
       "       [-0.42616   , -0.75127   ,  0.46205   , ...,  0.38866   ,\n",
       "        -0.06836828,  0.36505   ],\n",
       "       [ 0.35202   , -0.1503    ,  0.15106   , ..., -0.38023   ,\n",
       "        -0.46758   ,  0.54408   ],\n",
       "       [ 1.36      ,  0.45071   ,  1.15      , ..., -0.19026   ,\n",
       "        -0.33952   , -0.35702   ]])</pre></div></li><li class='xr-var-item'><div class='xr-var-name'><span>vwap</span></div><div class='xr-var-dims'>(security, time)</div><div class='xr-var-dtype'>float64</div><div class='xr-var-preview xr-preview'>59.77 60.19 60.61 ... 120.6 120.1</div><input id='attrs-984eebb6-e905-481d-8a06-6d281a37a47f' class='xr-var-attrs-in' type='checkbox' disabled><label for='attrs-984eebb6-e905-481d-8a06-6d281a37a47f' title='Show/Hide attributes'><svg class='icon xr-icon-file-text2'><use xlink:href='#icon-file-text2'></use></svg></label><input id='data-16a07bd7-59f3-401b-9471-6bc45a596eec' class='xr-var-data-in' type='checkbox'><label for='data-16a07bd7-59f3-401b-9471-6bc45a596eec' title='Show/Hide data repr'><svg class='icon xr-icon-database'><use xlink:href='#icon-database'></use></svg></label><div class='xr-var-attrs'><dl class='xr-attrs'></dl></div><div class='xr-var-data'><pre>array([[ 59.7725,  60.185 ,  60.6125, ..., 231.335 , 232.4875, 235.3425],\n",
       "       [ 76.97  ,  78.0825,  77.6875, ..., 190.17  , 189.7975, 188.92  ],\n",
       "       [210.93  , 211.02  , 210.5   , ..., 464.285 , 466.015 , 465.5125],\n",
       "       ...,\n",
       "       [ 60.2275,  60.935 ,  60.8375, ...,  43.8525,  43.815 ,  43.915 ],\n",
       "       [ 39.8075,  39.91  ,  39.7525, ...,  81.2575,  81.0775,  81.1325],\n",
       "       [ 68.2875,  69.07  ,  69.3125, ..., 120.8975, 120.6   , 120.06  ]])</pre></div></li><li class='xr-var-item'><div class='xr-var-name'><span>label</span></div><div class='xr-var-dims'>(security, time)</div><div class='xr-var-dtype'>object</div><div class='xr-var-preview xr-preview'>&#x27;October 21, 19&#x27; ... &#x27;October 18...</div><input id='attrs-92dda882-4b79-4c7d-916f-029c2b2fe68f' class='xr-var-attrs-in' type='checkbox' disabled><label for='attrs-92dda882-4b79-4c7d-916f-029c2b2fe68f' title='Show/Hide attributes'><svg class='icon xr-icon-file-text2'><use xlink:href='#icon-file-text2'></use></svg></label><input id='data-6593824d-c57f-4ca7-9f78-01921ec101ae' class='xr-var-data-in' type='checkbox'><label for='data-6593824d-c57f-4ca7-9f78-01921ec101ae' title='Show/Hide data repr'><svg class='icon xr-icon-database'><use xlink:href='#icon-database'></use></svg></label><div class='xr-var-attrs'><dl class='xr-attrs'></dl></div><div class='xr-var-data'><pre>array([[&#x27;October 21, 19&#x27;, &#x27;October 22, 19&#x27;, &#x27;October 23, 19&#x27;, ...,\n",
       "        &#x27;October 16, 24&#x27;, &#x27;October 17, 24&#x27;, &#x27;October 18, 24&#x27;],\n",
       "       [&#x27;October 21, 19&#x27;, &#x27;October 22, 19&#x27;, &#x27;October 23, 19&#x27;, ...,\n",
       "        &#x27;October 16, 24&#x27;, &#x27;October 17, 24&#x27;, &#x27;October 18, 24&#x27;],\n",
       "       [&#x27;October 21, 19&#x27;, &#x27;October 22, 19&#x27;, &#x27;October 23, 19&#x27;, ...,\n",
       "        &#x27;October 16, 24&#x27;, &#x27;October 17, 24&#x27;, &#x27;October 18, 24&#x27;],\n",
       "       ...,\n",
       "       [&#x27;October 21, 19&#x27;, &#x27;October 22, 19&#x27;, &#x27;October 23, 19&#x27;, ...,\n",
       "        &#x27;October 16, 24&#x27;, &#x27;October 17, 24&#x27;, &#x27;October 18, 24&#x27;],\n",
       "       [&#x27;October 21, 19&#x27;, &#x27;October 22, 19&#x27;, &#x27;October 23, 19&#x27;, ...,\n",
       "        &#x27;October 16, 24&#x27;, &#x27;October 17, 24&#x27;, &#x27;October 18, 24&#x27;],\n",
       "       [&#x27;October 21, 19&#x27;, &#x27;October 22, 19&#x27;, &#x27;October 23, 19&#x27;, ...,\n",
       "        &#x27;October 16, 24&#x27;, &#x27;October 17, 24&#x27;, &#x27;October 18, 24&#x27;]],\n",
       "      dtype=object)</pre></div></li><li class='xr-var-item'><div class='xr-var-name'><span>changeOverTime</span></div><div class='xr-var-dims'>(security, time)</div><div class='xr-var-dtype'>float64</div><div class='xr-var-preview xr-preview'>0.0126 -0.004976 ... -0.00357</div><input id='attrs-c4d4c634-a708-4aec-8def-7d2a1b1bb418' class='xr-var-attrs-in' type='checkbox' disabled><label for='attrs-c4d4c634-a708-4aec-8def-7d2a1b1bb418' title='Show/Hide attributes'><svg class='icon xr-icon-file-text2'><use xlink:href='#icon-file-text2'></use></svg></label><input id='data-7131cb1b-86a4-4263-9e79-d4051876b647' class='xr-var-data-in' type='checkbox'><label for='data-7131cb1b-86a4-4263-9e79-d4051876b647' title='Show/Hide data repr'><svg class='icon xr-icon-database'><use xlink:href='#icon-database'></use></svg></label><div class='xr-var-attrs'><dl class='xr-attrs'></dl></div><div class='xr-var-data'><pre>array([[ 1.260000e-02, -4.975900e-03,  4.460600e-03, ...,  7.772021e-04,\n",
       "        -5.483400e-03, -4.996200e-03],\n",
       "       [ 5.463100e-03, -2.306200e-03, -5.142049e-04, ...,  5.250720e-05,\n",
       "        -1.030000e-02, -5.821030e-04],\n",
       "       [ 7.095300e-03, -1.942900e-03,  2.185300e-03, ...,  5.267100e-03,\n",
       "        -5.363656e-04, -4.710900e-03],\n",
       "       ...,\n",
       "       [-4.261600e-03, -7.512700e-03,  4.620500e-03, ...,  3.886600e-03,\n",
       "        -6.836828e-04,  3.650500e-03],\n",
       "       [ 3.520200e-03, -1.503000e-03,  1.510600e-03, ..., -3.802300e-03,\n",
       "        -4.675800e-03,  5.440800e-03],\n",
       "       [ 1.360000e-02,  4.507100e-03,  1.150000e-02, ..., -1.902600e-03,\n",
       "        -3.395200e-03, -3.570200e-03]])</pre></div></li></ul></div></li><li class='xr-section-item'><input id='section-df734c54-6ef0-4209-860c-98606a2de11d' class='xr-section-summary-in' type='checkbox'  ><label for='section-df734c54-6ef0-4209-860c-98606a2de11d' class='xr-section-summary' >Indexes: <span>(2)</span></label><div class='xr-section-inline-details'></div><div class='xr-section-details'><ul class='xr-var-list'><li class='xr-var-item'><div class='xr-index-name'><div>security</div></div><div class='xr-index-preview'>PandasIndex</div><div></div><input id='index-37656e22-ba3c-4889-9881-049c6c7b9008' class='xr-index-data-in' type='checkbox'/><label for='index-37656e22-ba3c-4889-9881-049c6c7b9008' title='Show/Hide index repr'><svg class='icon xr-icon-database'><use xlink:href='#icon-database'></use></svg></label><div class='xr-index-data'><pre>PandasIndex(Index([&#x27;AAPL&#x27;, &#x27;ABBV&#x27;, &#x27;BRK-B&#x27;, &#x27;CVX&#x27;, &#x27;GM&#x27;, &#x27;JPM&#x27;, &#x27;META&#x27;, &#x27;NVDA&#x27;, &#x27;VZ&#x27;,\n",
       "       &#x27;WMT&#x27;, &#x27;XOM&#x27;],\n",
       "      dtype=&#x27;object&#x27;, name=&#x27;security&#x27;))</pre></div></li><li class='xr-var-item'><div class='xr-index-name'><div>time</div></div><div class='xr-index-preview'>PandasIndex</div><div></div><input id='index-9b071dfd-7d54-44ce-b2ae-73f40e602656' class='xr-index-data-in' type='checkbox'/><label for='index-9b071dfd-7d54-44ce-b2ae-73f40e602656' title='Show/Hide index repr'><svg class='icon xr-icon-database'><use xlink:href='#icon-database'></use></svg></label><div class='xr-index-data'><pre>PandasIndex(DatetimeIndex([&#x27;2019-10-21&#x27;, &#x27;2019-10-22&#x27;, &#x27;2019-10-23&#x27;, &#x27;2019-10-24&#x27;,\n",
       "               &#x27;2019-10-25&#x27;, &#x27;2019-10-28&#x27;, &#x27;2019-10-29&#x27;, &#x27;2019-10-30&#x27;,\n",
       "               &#x27;2019-10-31&#x27;, &#x27;2019-11-01&#x27;,\n",
       "               ...\n",
       "               &#x27;2024-10-07&#x27;, &#x27;2024-10-08&#x27;, &#x27;2024-10-09&#x27;, &#x27;2024-10-10&#x27;,\n",
       "               &#x27;2024-10-11&#x27;, &#x27;2024-10-14&#x27;, &#x27;2024-10-15&#x27;, &#x27;2024-10-16&#x27;,\n",
       "               &#x27;2024-10-17&#x27;, &#x27;2024-10-18&#x27;],\n",
       "              dtype=&#x27;datetime64[ns]&#x27;, name=&#x27;time&#x27;, length=1258, freq=None))</pre></div></li></ul></div></li><li class='xr-section-item'><input id='section-0ca48980-638b-4a04-8573-5789117113bf' class='xr-section-summary-in' type='checkbox' disabled ><label for='section-0ca48980-638b-4a04-8573-5789117113bf' class='xr-section-summary'  title='Expand/collapse section'>Attributes: <span>(0)</span></label><div class='xr-section-inline-details'></div><div class='xr-section-details'><dl class='xr-attrs'></dl></div></li></ul></div></div>"
      ],
      "text/plain": [
       "<xarray.Dataset> Size: 1MB\n",
       "Dimensions:           (security: 11, time: 1258)\n",
       "Coordinates:\n",
       "  * security          (security) object 88B 'AAPL' 'ABBV' ... 'WMT' 'XOM'\n",
       "  * time              (time) datetime64[ns] 10kB 2019-10-21 ... 2024-10-18\n",
       "Data variables:\n",
       "    open              (security, time) float64 111kB 59.38 60.29 ... 120.8 120.4\n",
       "    high              (security, time) float64 111kB 60.25 60.55 ... 121.6 120.6\n",
       "    low               (security, time) float64 111kB 59.33 59.91 ... 119.7 119.2\n",
       "    close             (security, time) float64 111kB 60.13 59.99 ... 120.3 120.0\n",
       "    adjClose          (security, time) float64 111kB 58.18 58.05 ... 120.3 120.0\n",
       "    volume            (security, time) float64 111kB 8.947e+07 ... 1.258e+07\n",
       "    unadjustedVolume  (security, time) float64 111kB 8.947e+07 ... 1.258e+07\n",
       "    change            (security, time) float64 111kB 0.7475 -0.3 ... -0.41 -0.43\n",
       "    changePercent     (security, time) float64 111kB 1.26 -0.4976 ... -0.357\n",
       "    vwap              (security, time) float64 111kB 59.77 60.19 ... 120.6 120.1\n",
       "    label             (security, time) object 111kB 'October 21, 19' ... 'Oct...\n",
       "    changeOverTime    (security, time) float64 111kB 0.0126 ... -0.00357"
      ]
     },
     "execution_count": 4,
     "metadata": {},
     "output_type": "execute_result"
    }
   ],
   "source": [
    "portfolio.data"
   ]
  },
  {
   "cell_type": "code",
   "execution_count": 5,
   "metadata": {},
   "outputs": [],
   "source": [
    "prices = portfolio.data[\"adjClose\"]\n",
    "volume = portfolio.data[\"volume\"]"
   ]
  },
  {
   "cell_type": "code",
   "execution_count": 6,
   "metadata": {},
   "outputs": [
    {
     "data": {
      "text/html": [
       "<div>\n",
       "<style scoped>\n",
       "    .dataframe tbody tr th:only-of-type {\n",
       "        vertical-align: middle;\n",
       "    }\n",
       "\n",
       "    .dataframe tbody tr th {\n",
       "        vertical-align: top;\n",
       "    }\n",
       "\n",
       "    .dataframe thead th {\n",
       "        text-align: right;\n",
       "    }\n",
       "</style>\n",
       "<table border=\"1\" class=\"dataframe\">\n",
       "  <thead>\n",
       "    <tr style=\"text-align: right;\">\n",
       "      <th>security</th>\n",
       "      <th>AAPL</th>\n",
       "      <th>ABBV</th>\n",
       "      <th>BRK-B</th>\n",
       "      <th>CVX</th>\n",
       "      <th>GM</th>\n",
       "      <th>JPM</th>\n",
       "      <th>META</th>\n",
       "      <th>NVDA</th>\n",
       "      <th>VZ</th>\n",
       "      <th>WMT</th>\n",
       "      <th>XOM</th>\n",
       "    </tr>\n",
       "    <tr>\n",
       "      <th>time</th>\n",
       "      <th></th>\n",
       "      <th></th>\n",
       "      <th></th>\n",
       "      <th></th>\n",
       "      <th></th>\n",
       "      <th></th>\n",
       "      <th></th>\n",
       "      <th></th>\n",
       "      <th></th>\n",
       "      <th></th>\n",
       "      <th></th>\n",
       "    </tr>\n",
       "  </thead>\n",
       "  <tbody>\n",
       "    <tr>\n",
       "      <th>2019-10-21</th>\n",
       "      <td>58.18</td>\n",
       "      <td>62.38</td>\n",
       "      <td>211.490005</td>\n",
       "      <td>93.40</td>\n",
       "      <td>34.31</td>\n",
       "      <td>106.92</td>\n",
       "      <td>189.19</td>\n",
       "      <td>4.88</td>\n",
       "      <td>46.11</td>\n",
       "      <td>36.95</td>\n",
       "      <td>53.73</td>\n",
       "    </tr>\n",
       "    <tr>\n",
       "      <th>2019-10-22</th>\n",
       "      <td>58.05</td>\n",
       "      <td>62.84</td>\n",
       "      <td>210.619995</td>\n",
       "      <td>94.35</td>\n",
       "      <td>34.68</td>\n",
       "      <td>108.00</td>\n",
       "      <td>181.79</td>\n",
       "      <td>4.87</td>\n",
       "      <td>46.13</td>\n",
       "      <td>36.90</td>\n",
       "      <td>54.01</td>\n",
       "    </tr>\n",
       "    <tr>\n",
       "      <th>2019-10-23</th>\n",
       "      <td>58.83</td>\n",
       "      <td>62.74</td>\n",
       "      <td>210.960007</td>\n",
       "      <td>94.50</td>\n",
       "      <td>34.96</td>\n",
       "      <td>108.28</td>\n",
       "      <td>185.59</td>\n",
       "      <td>4.85</td>\n",
       "      <td>46.21</td>\n",
       "      <td>36.83</td>\n",
       "      <td>54.52</td>\n",
       "    </tr>\n",
       "    <tr>\n",
       "      <th>2019-10-24</th>\n",
       "      <td>58.92</td>\n",
       "      <td>61.98</td>\n",
       "      <td>210.259995</td>\n",
       "      <td>94.18</td>\n",
       "      <td>34.21</td>\n",
       "      <td>108.21</td>\n",
       "      <td>185.82</td>\n",
       "      <td>4.90</td>\n",
       "      <td>45.98</td>\n",
       "      <td>36.75</td>\n",
       "      <td>54.01</td>\n",
       "    </tr>\n",
       "    <tr>\n",
       "      <th>2019-10-25</th>\n",
       "      <td>59.65</td>\n",
       "      <td>61.76</td>\n",
       "      <td>211.800003</td>\n",
       "      <td>95.05</td>\n",
       "      <td>35.09</td>\n",
       "      <td>109.07</td>\n",
       "      <td>187.33</td>\n",
       "      <td>5.09</td>\n",
       "      <td>45.82</td>\n",
       "      <td>36.73</td>\n",
       "      <td>54.13</td>\n",
       "    </tr>\n",
       "    <tr>\n",
       "      <th>...</th>\n",
       "      <td>...</td>\n",
       "      <td>...</td>\n",
       "      <td>...</td>\n",
       "      <td>...</td>\n",
       "      <td>...</td>\n",
       "      <td>...</td>\n",
       "      <td>...</td>\n",
       "      <td>...</td>\n",
       "      <td>...</td>\n",
       "      <td>...</td>\n",
       "      <td>...</td>\n",
       "    </tr>\n",
       "    <tr>\n",
       "      <th>2024-10-14</th>\n",
       "      <td>231.30</td>\n",
       "      <td>194.10</td>\n",
       "      <td>459.980000</td>\n",
       "      <td>151.78</td>\n",
       "      <td>48.63</td>\n",
       "      <td>221.48</td>\n",
       "      <td>590.42</td>\n",
       "      <td>138.07</td>\n",
       "      <td>43.19</td>\n",
       "      <td>80.29</td>\n",
       "      <td>124.08</td>\n",
       "    </tr>\n",
       "    <tr>\n",
       "      <th>2024-10-15</th>\n",
       "      <td>233.85</td>\n",
       "      <td>191.86</td>\n",
       "      <td>462.680000</td>\n",
       "      <td>147.73</td>\n",
       "      <td>47.85</td>\n",
       "      <td>222.39</td>\n",
       "      <td>586.27</td>\n",
       "      <td>131.60</td>\n",
       "      <td>43.74</td>\n",
       "      <td>81.65</td>\n",
       "      <td>120.35</td>\n",
       "    </tr>\n",
       "    <tr>\n",
       "      <th>2024-10-16</th>\n",
       "      <td>231.78</td>\n",
       "      <td>190.46</td>\n",
       "      <td>465.690000</td>\n",
       "      <td>148.73</td>\n",
       "      <td>49.01</td>\n",
       "      <td>223.64</td>\n",
       "      <td>576.79</td>\n",
       "      <td>135.72</td>\n",
       "      <td>43.91</td>\n",
       "      <td>81.22</td>\n",
       "      <td>120.66</td>\n",
       "    </tr>\n",
       "    <tr>\n",
       "      <th>2024-10-17</th>\n",
       "      <td>232.15</td>\n",
       "      <td>188.57</td>\n",
       "      <td>465.850000</td>\n",
       "      <td>151.20</td>\n",
       "      <td>49.38</td>\n",
       "      <td>224.42</td>\n",
       "      <td>576.93</td>\n",
       "      <td>136.93</td>\n",
       "      <td>43.85</td>\n",
       "      <td>80.89</td>\n",
       "      <td>120.35</td>\n",
       "    </tr>\n",
       "    <tr>\n",
       "      <th>2024-10-18</th>\n",
       "      <td>235.00</td>\n",
       "      <td>188.86</td>\n",
       "      <td>464.800000</td>\n",
       "      <td>150.75</td>\n",
       "      <td>49.18</td>\n",
       "      <td>225.37</td>\n",
       "      <td>576.47</td>\n",
       "      <td>138.00</td>\n",
       "      <td>43.99</td>\n",
       "      <td>81.31</td>\n",
       "      <td>120.01</td>\n",
       "    </tr>\n",
       "  </tbody>\n",
       "</table>\n",
       "<p>1258 rows × 11 columns</p>\n",
       "</div>"
      ],
      "text/plain": [
       "security      AAPL    ABBV       BRK-B     CVX     GM     JPM    META    NVDA  \\\n",
       "time                                                                            \n",
       "2019-10-21   58.18   62.38  211.490005   93.40  34.31  106.92  189.19    4.88   \n",
       "2019-10-22   58.05   62.84  210.619995   94.35  34.68  108.00  181.79    4.87   \n",
       "2019-10-23   58.83   62.74  210.960007   94.50  34.96  108.28  185.59    4.85   \n",
       "2019-10-24   58.92   61.98  210.259995   94.18  34.21  108.21  185.82    4.90   \n",
       "2019-10-25   59.65   61.76  211.800003   95.05  35.09  109.07  187.33    5.09   \n",
       "...            ...     ...         ...     ...    ...     ...     ...     ...   \n",
       "2024-10-14  231.30  194.10  459.980000  151.78  48.63  221.48  590.42  138.07   \n",
       "2024-10-15  233.85  191.86  462.680000  147.73  47.85  222.39  586.27  131.60   \n",
       "2024-10-16  231.78  190.46  465.690000  148.73  49.01  223.64  576.79  135.72   \n",
       "2024-10-17  232.15  188.57  465.850000  151.20  49.38  224.42  576.93  136.93   \n",
       "2024-10-18  235.00  188.86  464.800000  150.75  49.18  225.37  576.47  138.00   \n",
       "\n",
       "security       VZ    WMT     XOM  \n",
       "time                              \n",
       "2019-10-21  46.11  36.95   53.73  \n",
       "2019-10-22  46.13  36.90   54.01  \n",
       "2019-10-23  46.21  36.83   54.52  \n",
       "2019-10-24  45.98  36.75   54.01  \n",
       "2019-10-25  45.82  36.73   54.13  \n",
       "...           ...    ...     ...  \n",
       "2024-10-14  43.19  80.29  124.08  \n",
       "2024-10-15  43.74  81.65  120.35  \n",
       "2024-10-16  43.91  81.22  120.66  \n",
       "2024-10-17  43.85  80.89  120.35  \n",
       "2024-10-18  43.99  81.31  120.01  \n",
       "\n",
       "[1258 rows x 11 columns]"
      ]
     },
     "execution_count": 6,
     "metadata": {},
     "output_type": "execute_result"
    }
   ],
   "source": [
    "df_prices = prices.to_dataframe()\n",
    "# unstack the multi-index\n",
    "df_prices = df_prices.unstack()\n",
    "df_prices.columns = df_prices.columns.droplevel()\n",
    "df_prices = df_prices.T\n",
    "df_prices"
   ]
  },
  {
   "cell_type": "code",
   "execution_count": 7,
   "metadata": {},
   "outputs": [
    {
     "data": {
      "text/html": [
       "<div>\n",
       "<style scoped>\n",
       "    .dataframe tbody tr th:only-of-type {\n",
       "        vertical-align: middle;\n",
       "    }\n",
       "\n",
       "    .dataframe tbody tr th {\n",
       "        vertical-align: top;\n",
       "    }\n",
       "\n",
       "    .dataframe thead th {\n",
       "        text-align: right;\n",
       "    }\n",
       "</style>\n",
       "<table border=\"1\" class=\"dataframe\">\n",
       "  <thead>\n",
       "    <tr style=\"text-align: right;\">\n",
       "      <th>security</th>\n",
       "      <th>AAPL</th>\n",
       "      <th>ABBV</th>\n",
       "      <th>BRK-B</th>\n",
       "      <th>CVX</th>\n",
       "      <th>GM</th>\n",
       "      <th>JPM</th>\n",
       "      <th>META</th>\n",
       "      <th>NVDA</th>\n",
       "      <th>VZ</th>\n",
       "      <th>WMT</th>\n",
       "      <th>XOM</th>\n",
       "    </tr>\n",
       "    <tr>\n",
       "      <th>time</th>\n",
       "      <th></th>\n",
       "      <th></th>\n",
       "      <th></th>\n",
       "      <th></th>\n",
       "      <th></th>\n",
       "      <th></th>\n",
       "      <th></th>\n",
       "      <th></th>\n",
       "      <th></th>\n",
       "      <th></th>\n",
       "      <th></th>\n",
       "    </tr>\n",
       "  </thead>\n",
       "  <tbody>\n",
       "    <tr>\n",
       "      <th>2019-10-21</th>\n",
       "      <td>89469932.0</td>\n",
       "      <td>7882560.0</td>\n",
       "      <td>3337300.0</td>\n",
       "      <td>4153612.0</td>\n",
       "      <td>7429278.0</td>\n",
       "      <td>13272678.0</td>\n",
       "      <td>8580744.0</td>\n",
       "      <td>266967240.0</td>\n",
       "      <td>11441991.0</td>\n",
       "      <td>10417549.0</td>\n",
       "      <td>10473346.0</td>\n",
       "    </tr>\n",
       "    <tr>\n",
       "      <th>2019-10-22</th>\n",
       "      <td>90736004.0</td>\n",
       "      <td>6863955.0</td>\n",
       "      <td>2716800.0</td>\n",
       "      <td>4130577.0</td>\n",
       "      <td>6773553.0</td>\n",
       "      <td>12657085.0</td>\n",
       "      <td>19854192.0</td>\n",
       "      <td>337369120.0</td>\n",
       "      <td>9802244.0</td>\n",
       "      <td>7789555.0</td>\n",
       "      <td>9503140.0</td>\n",
       "    </tr>\n",
       "    <tr>\n",
       "      <th>2019-10-23</th>\n",
       "      <td>79730180.0</td>\n",
       "      <td>6195542.0</td>\n",
       "      <td>2413800.0</td>\n",
       "      <td>4159941.0</td>\n",
       "      <td>6468788.0</td>\n",
       "      <td>9397328.0</td>\n",
       "      <td>12370819.0</td>\n",
       "      <td>285770000.0</td>\n",
       "      <td>10461906.0</td>\n",
       "      <td>8606657.0</td>\n",
       "      <td>8722963.0</td>\n",
       "    </tr>\n",
       "    <tr>\n",
       "      <th>2019-10-24</th>\n",
       "      <td>71665020.0</td>\n",
       "      <td>6332465.0</td>\n",
       "      <td>3147200.0</td>\n",
       "      <td>3893194.0</td>\n",
       "      <td>6813476.0</td>\n",
       "      <td>8057164.0</td>\n",
       "      <td>11505406.0</td>\n",
       "      <td>239037320.0</td>\n",
       "      <td>11215278.0</td>\n",
       "      <td>8767829.0</td>\n",
       "      <td>9069090.0</td>\n",
       "    </tr>\n",
       "    <tr>\n",
       "      <th>2019-10-25</th>\n",
       "      <td>73477184.0</td>\n",
       "      <td>5497019.0</td>\n",
       "      <td>2539200.0</td>\n",
       "      <td>3369139.0</td>\n",
       "      <td>8735581.0</td>\n",
       "      <td>9055700.0</td>\n",
       "      <td>8061240.0</td>\n",
       "      <td>423092000.0</td>\n",
       "      <td>15036400.0</td>\n",
       "      <td>7692979.0</td>\n",
       "      <td>7607192.0</td>\n",
       "    </tr>\n",
       "    <tr>\n",
       "      <th>...</th>\n",
       "      <td>...</td>\n",
       "      <td>...</td>\n",
       "      <td>...</td>\n",
       "      <td>...</td>\n",
       "      <td>...</td>\n",
       "      <td>...</td>\n",
       "      <td>...</td>\n",
       "      <td>...</td>\n",
       "      <td>...</td>\n",
       "      <td>...</td>\n",
       "      <td>...</td>\n",
       "    </tr>\n",
       "    <tr>\n",
       "      <th>2024-10-14</th>\n",
       "      <td>39882100.0</td>\n",
       "      <td>3624123.0</td>\n",
       "      <td>2969800.0</td>\n",
       "      <td>4214721.0</td>\n",
       "      <td>6774134.0</td>\n",
       "      <td>9048925.0</td>\n",
       "      <td>8252000.0</td>\n",
       "      <td>232347700.0</td>\n",
       "      <td>9923500.0</td>\n",
       "      <td>9914500.0</td>\n",
       "      <td>9808122.0</td>\n",
       "    </tr>\n",
       "    <tr>\n",
       "      <th>2024-10-15</th>\n",
       "      <td>64751400.0</td>\n",
       "      <td>6553712.0</td>\n",
       "      <td>3929900.0</td>\n",
       "      <td>6704610.0</td>\n",
       "      <td>12532100.0</td>\n",
       "      <td>9235825.0</td>\n",
       "      <td>9564236.0</td>\n",
       "      <td>377831021.0</td>\n",
       "      <td>15444500.0</td>\n",
       "      <td>13276221.0</td>\n",
       "      <td>15771317.0</td>\n",
       "    </tr>\n",
       "    <tr>\n",
       "      <th>2024-10-16</th>\n",
       "      <td>34082240.0</td>\n",
       "      <td>5576000.0</td>\n",
       "      <td>3166300.0</td>\n",
       "      <td>4303737.0</td>\n",
       "      <td>10152811.0</td>\n",
       "      <td>6382515.0</td>\n",
       "      <td>11268400.0</td>\n",
       "      <td>264879720.0</td>\n",
       "      <td>9459000.0</td>\n",
       "      <td>11123300.0</td>\n",
       "      <td>8426800.0</td>\n",
       "    </tr>\n",
       "    <tr>\n",
       "      <th>2024-10-17</th>\n",
       "      <td>32993810.0</td>\n",
       "      <td>4419002.0</td>\n",
       "      <td>2520903.0</td>\n",
       "      <td>6593136.0</td>\n",
       "      <td>8333573.0</td>\n",
       "      <td>6470186.0</td>\n",
       "      <td>8701158.0</td>\n",
       "      <td>306435921.0</td>\n",
       "      <td>10539459.0</td>\n",
       "      <td>9424705.0</td>\n",
       "      <td>11204857.0</td>\n",
       "    </tr>\n",
       "    <tr>\n",
       "      <th>2024-10-18</th>\n",
       "      <td>45441281.0</td>\n",
       "      <td>5607902.0</td>\n",
       "      <td>5635463.0</td>\n",
       "      <td>5208202.0</td>\n",
       "      <td>9500117.0</td>\n",
       "      <td>7000543.0</td>\n",
       "      <td>7694274.0</td>\n",
       "      <td>176090184.0</td>\n",
       "      <td>13058370.0</td>\n",
       "      <td>12324148.0</td>\n",
       "      <td>12580749.0</td>\n",
       "    </tr>\n",
       "  </tbody>\n",
       "</table>\n",
       "<p>1258 rows × 11 columns</p>\n",
       "</div>"
      ],
      "text/plain": [
       "security          AAPL       ABBV      BRK-B        CVX          GM  \\\n",
       "time                                                                  \n",
       "2019-10-21  89469932.0  7882560.0  3337300.0  4153612.0   7429278.0   \n",
       "2019-10-22  90736004.0  6863955.0  2716800.0  4130577.0   6773553.0   \n",
       "2019-10-23  79730180.0  6195542.0  2413800.0  4159941.0   6468788.0   \n",
       "2019-10-24  71665020.0  6332465.0  3147200.0  3893194.0   6813476.0   \n",
       "2019-10-25  73477184.0  5497019.0  2539200.0  3369139.0   8735581.0   \n",
       "...                ...        ...        ...        ...         ...   \n",
       "2024-10-14  39882100.0  3624123.0  2969800.0  4214721.0   6774134.0   \n",
       "2024-10-15  64751400.0  6553712.0  3929900.0  6704610.0  12532100.0   \n",
       "2024-10-16  34082240.0  5576000.0  3166300.0  4303737.0  10152811.0   \n",
       "2024-10-17  32993810.0  4419002.0  2520903.0  6593136.0   8333573.0   \n",
       "2024-10-18  45441281.0  5607902.0  5635463.0  5208202.0   9500117.0   \n",
       "\n",
       "security           JPM        META         NVDA          VZ         WMT  \\\n",
       "time                                                                      \n",
       "2019-10-21  13272678.0   8580744.0  266967240.0  11441991.0  10417549.0   \n",
       "2019-10-22  12657085.0  19854192.0  337369120.0   9802244.0   7789555.0   \n",
       "2019-10-23   9397328.0  12370819.0  285770000.0  10461906.0   8606657.0   \n",
       "2019-10-24   8057164.0  11505406.0  239037320.0  11215278.0   8767829.0   \n",
       "2019-10-25   9055700.0   8061240.0  423092000.0  15036400.0   7692979.0   \n",
       "...                ...         ...          ...         ...         ...   \n",
       "2024-10-14   9048925.0   8252000.0  232347700.0   9923500.0   9914500.0   \n",
       "2024-10-15   9235825.0   9564236.0  377831021.0  15444500.0  13276221.0   \n",
       "2024-10-16   6382515.0  11268400.0  264879720.0   9459000.0  11123300.0   \n",
       "2024-10-17   6470186.0   8701158.0  306435921.0  10539459.0   9424705.0   \n",
       "2024-10-18   7000543.0   7694274.0  176090184.0  13058370.0  12324148.0   \n",
       "\n",
       "security           XOM  \n",
       "time                    \n",
       "2019-10-21  10473346.0  \n",
       "2019-10-22   9503140.0  \n",
       "2019-10-23   8722963.0  \n",
       "2019-10-24   9069090.0  \n",
       "2019-10-25   7607192.0  \n",
       "...                ...  \n",
       "2024-10-14   9808122.0  \n",
       "2024-10-15  15771317.0  \n",
       "2024-10-16   8426800.0  \n",
       "2024-10-17  11204857.0  \n",
       "2024-10-18  12580749.0  \n",
       "\n",
       "[1258 rows x 11 columns]"
      ]
     },
     "execution_count": 7,
     "metadata": {},
     "output_type": "execute_result"
    }
   ],
   "source": [
    "df_volume = volume.to_dataframe()\n",
    "# unstack the multi-index\n",
    "df_volume = df_volume.unstack()\n",
    "df_volume.columns = df_volume.columns.droplevel()\n",
    "df_volume = df_volume.T\n",
    "df_volume"
   ]
  },
  {
   "cell_type": "markdown",
   "metadata": {},
   "source": [
    "### Train Mean Risk Model"
   ]
  },
  {
   "cell_type": "code",
   "execution_count": 8,
   "metadata": {},
   "outputs": [],
   "source": [
    "X = prices_to_returns(df_prices)\n",
    "X_train, X_test = train_test_split(X, test_size=0.33, shuffle=False)"
   ]
  },
  {
   "cell_type": "code",
   "execution_count": 9,
   "metadata": {},
   "outputs": [],
   "source": [
    "model = MeanRisk()"
   ]
  },
  {
   "cell_type": "code",
   "execution_count": 10,
   "metadata": {},
   "outputs": [
    {
     "name": "stdout",
     "output_type": "stream",
     "text": [
      "[9.73411244e-07 1.95372778e-01 8.53442419e-02 8.41094737e-07\n",
      " 1.14044646e-06 4.75810791e-07 1.12496635e-02 4.34553009e-07\n",
      " 4.55634538e-01 2.52244258e-01 1.50655877e-04]\n"
     ]
    }
   ],
   "source": [
    "model.fit(X_train)\n",
    "print(model.weights_)"
   ]
  },
  {
   "cell_type": "code",
   "execution_count": 11,
   "metadata": {},
   "outputs": [
    {
     "name": "stdout",
     "output_type": "stream",
     "text": [
      "1.8218065176406282\n",
      "--------------------------------------------------\n",
      "Mean                                              0.094%\n",
      "Annualized Mean                                   23.77%\n",
      "Variance                                         0.0068%\n",
      "Annualized Variance                                1.70%\n",
      "Semi-Variance                                    0.0034%\n",
      "Annualized Semi-Variance                           0.85%\n",
      "Standard Deviation                                 0.82%\n",
      "Annualized Standard Deviation                     13.04%\n",
      "Semi-Deviation                                     0.58%\n",
      "Annualized Semi-Deviation                          9.21%\n",
      "Mean Absolute Deviation                            0.59%\n",
      "CVaR at 95%                                        1.78%\n",
      "EVaR at 95%                                        2.39%\n",
      "Worst Realization                                  3.47%\n",
      "CDaR at 95%                                        7.76%\n",
      "MAX Drawdown                                      10.27%\n",
      "Average Drawdown                                   2.26%\n",
      "EDaR at 95%                                        8.53%\n",
      "First Lower Partial Moment                         0.29%\n",
      "Ulcer Index                                        0.032\n",
      "Gini Mean Difference                               0.87%\n",
      "Value at Risk at 95%                               1.19%\n",
      "Drawdown at Risk at 95%                            6.65%\n",
      "Entropic Risk Measure at 95%                        2.99\n",
      "Fourth Central Moment                          0.000003%\n",
      "Fourth Lower Partial Moment                    0.000001%\n",
      "Skew                                              23.84%\n",
      "Kurtosis                                         714.37%\n",
      "Sharpe Ratio                                        0.11\n",
      "Annualized Sharpe Ratio                             1.82\n",
      "Sortino Ratio                                       0.16\n",
      "Annualized Sortino Ratio                            2.58\n",
      "Mean Absolute Deviation Ratio                       0.16\n",
      "First Lower Partial Moment Ratio                    0.32\n",
      "Value at Risk Ratio at 95%                         0.079\n",
      "CVaR Ratio at 95%                                  0.053\n",
      "Entropic Risk Measure Ratio at 95%               0.00031\n",
      "EVaR Ratio at 95%                                  0.039\n",
      "Worst Realization Ratio                            0.027\n",
      "Drawdown at Risk Ratio at 95%                      0.014\n",
      "CDaR Ratio at 95%                                  0.012\n",
      "Calmar Ratio                                      0.0092\n",
      "Average Drawdown Ratio                             0.042\n",
      "EDaR Ratio at 95%                                  0.011\n",
      "Ulcer Index Ratio                                  0.029\n",
      "Gini Mean Difference Ratio                          0.11\n",
      "Effective Number of Assets            3.1564586751797026\n",
      "Assets Number                                         11\n",
      "dtype: object\n"
     ]
    }
   ],
   "source": [
    "port1 = model.predict(X_test)\n",
    "\n",
    "print(port1.annualized_sharpe_ratio)\n",
    "print(\"-\"*50)\n",
    "print(port1.summary())"
   ]
  },
  {
   "cell_type": "markdown",
   "metadata": {},
   "source": [
    "### Model\n",
    "\n",
    "We create a Maximum Sharpe Ratio model and then fit it on the training set. portfolio_params are parameters passed to the Portfolio returned by the predict method. It can be omitted, here we use it to give a name to our maximum Sharpe Ration portfolio:"
   ]
  },
  {
   "cell_type": "code",
   "execution_count": 12,
   "metadata": {},
   "outputs": [
    {
     "name": "stderr",
     "output_type": "stream",
     "text": [
      "/Users/christianl/repos/research/.venv/lib/python3.12/site-packages/skfolio/optimization/convex/_mean_risk.py:608: UserWarning:\n",
      "\n",
      "The annualized risk measure Annualized Variance will be convertedto its non-annualized version Variance\n",
      "\n"
     ]
    },
    {
     "data": {
      "text/plain": [
       "array([3.34966176e-03, 5.84626279e-01, 2.12809131e-11, 1.93307329e-11,\n",
       "       8.93733155e-12, 1.18914899e-11, 7.24519191e-12, 3.01683828e-01,\n",
       "       9.69659330e-12, 4.84028007e-11, 1.10340231e-01])"
      ]
     },
     "execution_count": 12,
     "metadata": {},
     "output_type": "execute_result"
    }
   ],
   "source": [
    "model = MeanRisk(\n",
    "    risk_measure=RiskMeasure.ANNUALIZED_VARIANCE,\n",
    "    objective_function=ObjectiveFunction.MAXIMIZE_RATIO,\n",
    "    portfolio_params=dict(name=\"Max Sharpe\"),\n",
    ")\n",
    "model.fit(X_train)\n",
    "model.weights_"
   ]
  },
  {
   "cell_type": "code",
   "execution_count": 13,
   "metadata": {},
   "outputs": [
    {
     "data": {
      "text/plain": [
       "array([0.08389328, 0.11547621, 0.12192735, 0.07321198, 0.06313561,\n",
       "       0.08267092, 0.06155309, 0.05419695, 0.14644521, 0.12084116,\n",
       "       0.07664825])"
      ]
     },
     "execution_count": 13,
     "metadata": {},
     "output_type": "execute_result"
    }
   ],
   "source": [
    "benchmark = InverseVolatility(portfolio_params=dict(name=\"Inverse Vol\"))\n",
    "benchmark.fit(X_train)\n",
    "benchmark.weights_"
   ]
  },
  {
   "cell_type": "code",
   "execution_count": 14,
   "metadata": {},
   "outputs": [],
   "source": [
    "pred_model = model.predict(X_test)\n",
    "pred_bench = benchmark.predict(X_test)"
   ]
  },
  {
   "cell_type": "code",
   "execution_count": 15,
   "metadata": {},
   "outputs": [
    {
     "name": "stdout",
     "output_type": "stream",
     "text": [
      "2.680034743732841\n",
      "2.8490664336909\n"
     ]
    }
   ],
   "source": [
    "print(pred_model.annualized_sharpe_ratio)\n",
    "print(pred_bench.annualized_sharpe_ratio)"
   ]
  },
  {
   "cell_type": "code",
   "execution_count": 16,
   "metadata": {},
   "outputs": [
    {
     "data": {
      "application/vnd.plotly.v1+json": {
       "config": {
        "plotlyServerURL": "https://plotly.com"
       },
       "data": [
        {
         "alignmentgroup": "True",
         "hovertemplate": "asset=ABBV<br>index=%{x}<br>value=%{y}<extra></extra>",
         "legendgroup": "ABBV",
         "marker": {
          "color": "#636efa",
          "pattern": {
           "shape": ""
          }
         },
         "name": "ABBV",
         "offsetgroup": "ABBV",
         "orientation": "v",
         "showlegend": true,
         "textposition": "auto",
         "type": "bar",
         "x": [
          "Max Sharpe",
          "Inverse Vol"
         ],
         "xaxis": "x",
         "y": [
          0.5846262792571696,
          0.11547620948923147
         ],
         "yaxis": "y"
        },
        {
         "alignmentgroup": "True",
         "hovertemplate": "asset=NVDA<br>index=%{x}<br>value=%{y}<extra></extra>",
         "legendgroup": "NVDA",
         "marker": {
          "color": "#EF553B",
          "pattern": {
           "shape": ""
          }
         },
         "name": "NVDA",
         "offsetgroup": "NVDA",
         "orientation": "v",
         "showlegend": true,
         "textposition": "auto",
         "type": "bar",
         "x": [
          "Max Sharpe",
          "Inverse Vol"
         ],
         "xaxis": "x",
         "y": [
          0.3016838282576418,
          0.05419694640102552
         ],
         "yaxis": "y"
        },
        {
         "alignmentgroup": "True",
         "hovertemplate": "asset=XOM<br>index=%{x}<br>value=%{y}<extra></extra>",
         "legendgroup": "XOM",
         "marker": {
          "color": "#00cc96",
          "pattern": {
           "shape": ""
          }
         },
         "name": "XOM",
         "offsetgroup": "XOM",
         "orientation": "v",
         "showlegend": true,
         "textposition": "auto",
         "type": "bar",
         "x": [
          "Max Sharpe",
          "Inverse Vol"
         ],
         "xaxis": "x",
         "y": [
          0.11034023060060148,
          0.07664825301607116
         ],
         "yaxis": "y"
        },
        {
         "alignmentgroup": "True",
         "hovertemplate": "asset=AAPL<br>index=%{x}<br>value=%{y}<extra></extra>",
         "legendgroup": "AAPL",
         "marker": {
          "color": "#ab63fa",
          "pattern": {
           "shape": ""
          }
         },
         "name": "AAPL",
         "offsetgroup": "AAPL",
         "orientation": "v",
         "showlegend": true,
         "textposition": "auto",
         "type": "bar",
         "x": [
          "Max Sharpe",
          "Inverse Vol"
         ],
         "xaxis": "x",
         "y": [
          0.003349661757801961,
          0.08389328246037145
         ],
         "yaxis": "y"
        },
        {
         "alignmentgroup": "True",
         "hovertemplate": "asset=VZ<br>index=%{x}<br>value=%{y}<extra></extra>",
         "legendgroup": "VZ",
         "marker": {
          "color": "#FFA15A",
          "pattern": {
           "shape": ""
          }
         },
         "name": "VZ",
         "offsetgroup": "VZ",
         "orientation": "v",
         "showlegend": true,
         "textposition": "auto",
         "type": "bar",
         "x": [
          "Max Sharpe",
          "Inverse Vol"
         ],
         "xaxis": "x",
         "y": [
          0,
          0.14644520940381012
         ],
         "yaxis": "y"
        },
        {
         "alignmentgroup": "True",
         "hovertemplate": "asset=BRK-B<br>index=%{x}<br>value=%{y}<extra></extra>",
         "legendgroup": "BRK-B",
         "marker": {
          "color": "#19d3f3",
          "pattern": {
           "shape": ""
          }
         },
         "name": "BRK-B",
         "offsetgroup": "BRK-B",
         "orientation": "v",
         "showlegend": true,
         "textposition": "auto",
         "type": "bar",
         "x": [
          "Max Sharpe",
          "Inverse Vol"
         ],
         "xaxis": "x",
         "y": [
          0,
          0.1219273471902372
         ],
         "yaxis": "y"
        },
        {
         "alignmentgroup": "True",
         "hovertemplate": "asset=WMT<br>index=%{x}<br>value=%{y}<extra></extra>",
         "legendgroup": "WMT",
         "marker": {
          "color": "#FF6692",
          "pattern": {
           "shape": ""
          }
         },
         "name": "WMT",
         "offsetgroup": "WMT",
         "orientation": "v",
         "showlegend": true,
         "textposition": "auto",
         "type": "bar",
         "x": [
          "Max Sharpe",
          "Inverse Vol"
         ],
         "xaxis": "x",
         "y": [
          0,
          0.12084115768714054
         ],
         "yaxis": "y"
        },
        {
         "alignmentgroup": "True",
         "hovertemplate": "asset=JPM<br>index=%{x}<br>value=%{y}<extra></extra>",
         "legendgroup": "JPM",
         "marker": {
          "color": "#B6E880",
          "pattern": {
           "shape": ""
          }
         },
         "name": "JPM",
         "offsetgroup": "JPM",
         "orientation": "v",
         "showlegend": true,
         "textposition": "auto",
         "type": "bar",
         "x": [
          "Max Sharpe",
          "Inverse Vol"
         ],
         "xaxis": "x",
         "y": [
          0,
          0.08267092212446836
         ],
         "yaxis": "y"
        },
        {
         "alignmentgroup": "True",
         "hovertemplate": "asset=CVX<br>index=%{x}<br>value=%{y}<extra></extra>",
         "legendgroup": "CVX",
         "marker": {
          "color": "#FF97FF",
          "pattern": {
           "shape": ""
          }
         },
         "name": "CVX",
         "offsetgroup": "CVX",
         "orientation": "v",
         "showlegend": true,
         "textposition": "auto",
         "type": "bar",
         "x": [
          "Max Sharpe",
          "Inverse Vol"
         ],
         "xaxis": "x",
         "y": [
          0,
          0.07321197782856362
         ],
         "yaxis": "y"
        },
        {
         "alignmentgroup": "True",
         "hovertemplate": "asset=GM<br>index=%{x}<br>value=%{y}<extra></extra>",
         "legendgroup": "GM",
         "marker": {
          "color": "#FECB52",
          "pattern": {
           "shape": ""
          }
         },
         "name": "GM",
         "offsetgroup": "GM",
         "orientation": "v",
         "showlegend": true,
         "textposition": "auto",
         "type": "bar",
         "x": [
          "Max Sharpe",
          "Inverse Vol"
         ],
         "xaxis": "x",
         "y": [
          0,
          0.06313560685142389
         ],
         "yaxis": "y"
        },
        {
         "alignmentgroup": "True",
         "hovertemplate": "asset=META<br>index=%{x}<br>value=%{y}<extra></extra>",
         "legendgroup": "META",
         "marker": {
          "color": "#636efa",
          "pattern": {
           "shape": ""
          }
         },
         "name": "META",
         "offsetgroup": "META",
         "orientation": "v",
         "showlegend": true,
         "textposition": "auto",
         "type": "bar",
         "x": [
          "Max Sharpe",
          "Inverse Vol"
         ],
         "xaxis": "x",
         "y": [
          0,
          0.06155308754765666
         ],
         "yaxis": "y"
        }
       ],
       "layout": {
        "barmode": "relative",
        "legend": {
         "title": {
          "text": "asset"
         },
         "tracegroupgap": 0,
         "x": 1.15,
         "xanchor": "left",
         "y": 0.99,
         "yanchor": "top"
        },
        "margin": {
         "t": 60
        },
        "template": {
         "data": {
          "bar": [
           {
            "error_x": {
             "color": "#2a3f5f"
            },
            "error_y": {
             "color": "#2a3f5f"
            },
            "marker": {
             "line": {
              "color": "#E5ECF6",
              "width": 0.5
             },
             "pattern": {
              "fillmode": "overlay",
              "size": 10,
              "solidity": 0.2
             }
            },
            "type": "bar"
           }
          ],
          "barpolar": [
           {
            "marker": {
             "line": {
              "color": "#E5ECF6",
              "width": 0.5
             },
             "pattern": {
              "fillmode": "overlay",
              "size": 10,
              "solidity": 0.2
             }
            },
            "type": "barpolar"
           }
          ],
          "carpet": [
           {
            "aaxis": {
             "endlinecolor": "#2a3f5f",
             "gridcolor": "white",
             "linecolor": "white",
             "minorgridcolor": "white",
             "startlinecolor": "#2a3f5f"
            },
            "baxis": {
             "endlinecolor": "#2a3f5f",
             "gridcolor": "white",
             "linecolor": "white",
             "minorgridcolor": "white",
             "startlinecolor": "#2a3f5f"
            },
            "type": "carpet"
           }
          ],
          "choropleth": [
           {
            "colorbar": {
             "outlinewidth": 0,
             "ticks": ""
            },
            "type": "choropleth"
           }
          ],
          "contour": [
           {
            "colorbar": {
             "outlinewidth": 0,
             "ticks": ""
            },
            "colorscale": [
             [
              0,
              "#0d0887"
             ],
             [
              0.1111111111111111,
              "#46039f"
             ],
             [
              0.2222222222222222,
              "#7201a8"
             ],
             [
              0.3333333333333333,
              "#9c179e"
             ],
             [
              0.4444444444444444,
              "#bd3786"
             ],
             [
              0.5555555555555556,
              "#d8576b"
             ],
             [
              0.6666666666666666,
              "#ed7953"
             ],
             [
              0.7777777777777778,
              "#fb9f3a"
             ],
             [
              0.8888888888888888,
              "#fdca26"
             ],
             [
              1,
              "#f0f921"
             ]
            ],
            "type": "contour"
           }
          ],
          "contourcarpet": [
           {
            "colorbar": {
             "outlinewidth": 0,
             "ticks": ""
            },
            "type": "contourcarpet"
           }
          ],
          "heatmap": [
           {
            "colorbar": {
             "outlinewidth": 0,
             "ticks": ""
            },
            "colorscale": [
             [
              0,
              "#0d0887"
             ],
             [
              0.1111111111111111,
              "#46039f"
             ],
             [
              0.2222222222222222,
              "#7201a8"
             ],
             [
              0.3333333333333333,
              "#9c179e"
             ],
             [
              0.4444444444444444,
              "#bd3786"
             ],
             [
              0.5555555555555556,
              "#d8576b"
             ],
             [
              0.6666666666666666,
              "#ed7953"
             ],
             [
              0.7777777777777778,
              "#fb9f3a"
             ],
             [
              0.8888888888888888,
              "#fdca26"
             ],
             [
              1,
              "#f0f921"
             ]
            ],
            "type": "heatmap"
           }
          ],
          "heatmapgl": [
           {
            "colorbar": {
             "outlinewidth": 0,
             "ticks": ""
            },
            "colorscale": [
             [
              0,
              "#0d0887"
             ],
             [
              0.1111111111111111,
              "#46039f"
             ],
             [
              0.2222222222222222,
              "#7201a8"
             ],
             [
              0.3333333333333333,
              "#9c179e"
             ],
             [
              0.4444444444444444,
              "#bd3786"
             ],
             [
              0.5555555555555556,
              "#d8576b"
             ],
             [
              0.6666666666666666,
              "#ed7953"
             ],
             [
              0.7777777777777778,
              "#fb9f3a"
             ],
             [
              0.8888888888888888,
              "#fdca26"
             ],
             [
              1,
              "#f0f921"
             ]
            ],
            "type": "heatmapgl"
           }
          ],
          "histogram": [
           {
            "marker": {
             "pattern": {
              "fillmode": "overlay",
              "size": 10,
              "solidity": 0.2
             }
            },
            "type": "histogram"
           }
          ],
          "histogram2d": [
           {
            "colorbar": {
             "outlinewidth": 0,
             "ticks": ""
            },
            "colorscale": [
             [
              0,
              "#0d0887"
             ],
             [
              0.1111111111111111,
              "#46039f"
             ],
             [
              0.2222222222222222,
              "#7201a8"
             ],
             [
              0.3333333333333333,
              "#9c179e"
             ],
             [
              0.4444444444444444,
              "#bd3786"
             ],
             [
              0.5555555555555556,
              "#d8576b"
             ],
             [
              0.6666666666666666,
              "#ed7953"
             ],
             [
              0.7777777777777778,
              "#fb9f3a"
             ],
             [
              0.8888888888888888,
              "#fdca26"
             ],
             [
              1,
              "#f0f921"
             ]
            ],
            "type": "histogram2d"
           }
          ],
          "histogram2dcontour": [
           {
            "colorbar": {
             "outlinewidth": 0,
             "ticks": ""
            },
            "colorscale": [
             [
              0,
              "#0d0887"
             ],
             [
              0.1111111111111111,
              "#46039f"
             ],
             [
              0.2222222222222222,
              "#7201a8"
             ],
             [
              0.3333333333333333,
              "#9c179e"
             ],
             [
              0.4444444444444444,
              "#bd3786"
             ],
             [
              0.5555555555555556,
              "#d8576b"
             ],
             [
              0.6666666666666666,
              "#ed7953"
             ],
             [
              0.7777777777777778,
              "#fb9f3a"
             ],
             [
              0.8888888888888888,
              "#fdca26"
             ],
             [
              1,
              "#f0f921"
             ]
            ],
            "type": "histogram2dcontour"
           }
          ],
          "mesh3d": [
           {
            "colorbar": {
             "outlinewidth": 0,
             "ticks": ""
            },
            "type": "mesh3d"
           }
          ],
          "parcoords": [
           {
            "line": {
             "colorbar": {
              "outlinewidth": 0,
              "ticks": ""
             }
            },
            "type": "parcoords"
           }
          ],
          "pie": [
           {
            "automargin": true,
            "type": "pie"
           }
          ],
          "scatter": [
           {
            "fillpattern": {
             "fillmode": "overlay",
             "size": 10,
             "solidity": 0.2
            },
            "type": "scatter"
           }
          ],
          "scatter3d": [
           {
            "line": {
             "colorbar": {
              "outlinewidth": 0,
              "ticks": ""
             }
            },
            "marker": {
             "colorbar": {
              "outlinewidth": 0,
              "ticks": ""
             }
            },
            "type": "scatter3d"
           }
          ],
          "scattercarpet": [
           {
            "marker": {
             "colorbar": {
              "outlinewidth": 0,
              "ticks": ""
             }
            },
            "type": "scattercarpet"
           }
          ],
          "scattergeo": [
           {
            "marker": {
             "colorbar": {
              "outlinewidth": 0,
              "ticks": ""
             }
            },
            "type": "scattergeo"
           }
          ],
          "scattergl": [
           {
            "marker": {
             "colorbar": {
              "outlinewidth": 0,
              "ticks": ""
             }
            },
            "type": "scattergl"
           }
          ],
          "scattermapbox": [
           {
            "marker": {
             "colorbar": {
              "outlinewidth": 0,
              "ticks": ""
             }
            },
            "type": "scattermapbox"
           }
          ],
          "scatterpolar": [
           {
            "marker": {
             "colorbar": {
              "outlinewidth": 0,
              "ticks": ""
             }
            },
            "type": "scatterpolar"
           }
          ],
          "scatterpolargl": [
           {
            "marker": {
             "colorbar": {
              "outlinewidth": 0,
              "ticks": ""
             }
            },
            "type": "scatterpolargl"
           }
          ],
          "scatterternary": [
           {
            "marker": {
             "colorbar": {
              "outlinewidth": 0,
              "ticks": ""
             }
            },
            "type": "scatterternary"
           }
          ],
          "surface": [
           {
            "colorbar": {
             "outlinewidth": 0,
             "ticks": ""
            },
            "colorscale": [
             [
              0,
              "#0d0887"
             ],
             [
              0.1111111111111111,
              "#46039f"
             ],
             [
              0.2222222222222222,
              "#7201a8"
             ],
             [
              0.3333333333333333,
              "#9c179e"
             ],
             [
              0.4444444444444444,
              "#bd3786"
             ],
             [
              0.5555555555555556,
              "#d8576b"
             ],
             [
              0.6666666666666666,
              "#ed7953"
             ],
             [
              0.7777777777777778,
              "#fb9f3a"
             ],
             [
              0.8888888888888888,
              "#fdca26"
             ],
             [
              1,
              "#f0f921"
             ]
            ],
            "type": "surface"
           }
          ],
          "table": [
           {
            "cells": {
             "fill": {
              "color": "#EBF0F8"
             },
             "line": {
              "color": "white"
             }
            },
            "header": {
             "fill": {
              "color": "#C8D4E3"
             },
             "line": {
              "color": "white"
             }
            },
            "type": "table"
           }
          ]
         },
         "layout": {
          "annotationdefaults": {
           "arrowcolor": "#2a3f5f",
           "arrowhead": 0,
           "arrowwidth": 1
          },
          "autotypenumbers": "strict",
          "coloraxis": {
           "colorbar": {
            "outlinewidth": 0,
            "ticks": ""
           }
          },
          "colorscale": {
           "diverging": [
            [
             0,
             "#8e0152"
            ],
            [
             0.1,
             "#c51b7d"
            ],
            [
             0.2,
             "#de77ae"
            ],
            [
             0.3,
             "#f1b6da"
            ],
            [
             0.4,
             "#fde0ef"
            ],
            [
             0.5,
             "#f7f7f7"
            ],
            [
             0.6,
             "#e6f5d0"
            ],
            [
             0.7,
             "#b8e186"
            ],
            [
             0.8,
             "#7fbc41"
            ],
            [
             0.9,
             "#4d9221"
            ],
            [
             1,
             "#276419"
            ]
           ],
           "sequential": [
            [
             0,
             "#0d0887"
            ],
            [
             0.1111111111111111,
             "#46039f"
            ],
            [
             0.2222222222222222,
             "#7201a8"
            ],
            [
             0.3333333333333333,
             "#9c179e"
            ],
            [
             0.4444444444444444,
             "#bd3786"
            ],
            [
             0.5555555555555556,
             "#d8576b"
            ],
            [
             0.6666666666666666,
             "#ed7953"
            ],
            [
             0.7777777777777778,
             "#fb9f3a"
            ],
            [
             0.8888888888888888,
             "#fdca26"
            ],
            [
             1,
             "#f0f921"
            ]
           ],
           "sequentialminus": [
            [
             0,
             "#0d0887"
            ],
            [
             0.1111111111111111,
             "#46039f"
            ],
            [
             0.2222222222222222,
             "#7201a8"
            ],
            [
             0.3333333333333333,
             "#9c179e"
            ],
            [
             0.4444444444444444,
             "#bd3786"
            ],
            [
             0.5555555555555556,
             "#d8576b"
            ],
            [
             0.6666666666666666,
             "#ed7953"
            ],
            [
             0.7777777777777778,
             "#fb9f3a"
            ],
            [
             0.8888888888888888,
             "#fdca26"
            ],
            [
             1,
             "#f0f921"
            ]
           ]
          },
          "colorway": [
           "#636efa",
           "#EF553B",
           "#00cc96",
           "#ab63fa",
           "#FFA15A",
           "#19d3f3",
           "#FF6692",
           "#B6E880",
           "#FF97FF",
           "#FECB52"
          ],
          "font": {
           "color": "#2a3f5f"
          },
          "geo": {
           "bgcolor": "white",
           "lakecolor": "white",
           "landcolor": "#E5ECF6",
           "showlakes": true,
           "showland": true,
           "subunitcolor": "white"
          },
          "hoverlabel": {
           "align": "left"
          },
          "hovermode": "closest",
          "mapbox": {
           "style": "light"
          },
          "paper_bgcolor": "white",
          "plot_bgcolor": "#E5ECF6",
          "polar": {
           "angularaxis": {
            "gridcolor": "white",
            "linecolor": "white",
            "ticks": ""
           },
           "bgcolor": "#E5ECF6",
           "radialaxis": {
            "gridcolor": "white",
            "linecolor": "white",
            "ticks": ""
           }
          },
          "scene": {
           "xaxis": {
            "backgroundcolor": "#E5ECF6",
            "gridcolor": "white",
            "gridwidth": 2,
            "linecolor": "white",
            "showbackground": true,
            "ticks": "",
            "zerolinecolor": "white"
           },
           "yaxis": {
            "backgroundcolor": "#E5ECF6",
            "gridcolor": "white",
            "gridwidth": 2,
            "linecolor": "white",
            "showbackground": true,
            "ticks": "",
            "zerolinecolor": "white"
           },
           "zaxis": {
            "backgroundcolor": "#E5ECF6",
            "gridcolor": "white",
            "gridwidth": 2,
            "linecolor": "white",
            "showbackground": true,
            "ticks": "",
            "zerolinecolor": "white"
           }
          },
          "shapedefaults": {
           "line": {
            "color": "#2a3f5f"
           }
          },
          "ternary": {
           "aaxis": {
            "gridcolor": "white",
            "linecolor": "white",
            "ticks": ""
           },
           "baxis": {
            "gridcolor": "white",
            "linecolor": "white",
            "ticks": ""
           },
           "bgcolor": "#E5ECF6",
           "caxis": {
            "gridcolor": "white",
            "linecolor": "white",
            "ticks": ""
           }
          },
          "title": {
           "x": 0.05
          },
          "xaxis": {
           "automargin": true,
           "gridcolor": "white",
           "linecolor": "white",
           "ticks": "",
           "title": {
            "standoff": 15
           },
           "zerolinecolor": "white",
           "zerolinewidth": 2
          },
          "yaxis": {
           "automargin": true,
           "gridcolor": "white",
           "linecolor": "white",
           "ticks": "",
           "title": {
            "standoff": 15
           },
           "zerolinecolor": "white",
           "zerolinewidth": 2
          }
         }
        },
        "title": {
         "text": "Portfolios Composition"
        },
        "xaxis": {
         "anchor": "y",
         "domain": [
          0,
          1
         ],
         "title": {
          "text": "Portfolios"
         }
        },
        "yaxis": {
         "anchor": "x",
         "domain": [
          0,
          1
         ],
         "tickformat": ",.0%",
         "title": {
          "text": "Weight"
         }
        }
       }
      }
     },
     "metadata": {},
     "output_type": "display_data"
    }
   ],
   "source": [
    "population = Population([pred_model, pred_bench])\n",
    "population.plot_composition()"
   ]
  },
  {
   "cell_type": "code",
   "execution_count": 17,
   "metadata": {},
   "outputs": [
    {
     "data": {
      "application/vnd.plotly.v1+json": {
       "config": {
        "plotlyServerURL": "https://plotly.com"
       },
       "data": [
        {
         "hovertemplate": "variable=Max Sharpe<br>index=%{x}<br>value=%{y}<extra></extra>",
         "legendgroup": "Max Sharpe",
         "line": {
          "color": "#636efa",
          "dash": "solid"
         },
         "marker": {
          "symbol": "circle"
         },
         "mode": "lines",
         "name": "Max Sharpe",
         "orientation": "v",
         "showlegend": true,
         "type": "scatter",
         "x": [
          "2023-02-27T00:00:00",
          "2023-02-28T00:00:00",
          "2023-03-01T00:00:00",
          "2023-03-02T00:00:00",
          "2023-03-03T00:00:00",
          "2023-03-06T00:00:00",
          "2023-03-07T00:00:00",
          "2023-03-08T00:00:00",
          "2023-03-09T00:00:00",
          "2023-03-10T00:00:00",
          "2023-03-13T00:00:00",
          "2023-03-14T00:00:00",
          "2023-03-15T00:00:00",
          "2023-03-16T00:00:00",
          "2023-03-17T00:00:00",
          "2023-03-20T00:00:00",
          "2023-03-21T00:00:00",
          "2023-03-22T00:00:00",
          "2023-03-23T00:00:00",
          "2023-03-24T00:00:00",
          "2023-03-27T00:00:00",
          "2023-03-28T00:00:00",
          "2023-03-29T00:00:00",
          "2023-03-30T00:00:00",
          "2023-03-31T00:00:00",
          "2023-04-03T00:00:00",
          "2023-04-04T00:00:00",
          "2023-04-05T00:00:00",
          "2023-04-06T00:00:00",
          "2023-04-10T00:00:00",
          "2023-04-11T00:00:00",
          "2023-04-12T00:00:00",
          "2023-04-13T00:00:00",
          "2023-04-14T00:00:00",
          "2023-04-17T00:00:00",
          "2023-04-18T00:00:00",
          "2023-04-19T00:00:00",
          "2023-04-20T00:00:00",
          "2023-04-21T00:00:00",
          "2023-04-24T00:00:00",
          "2023-04-25T00:00:00",
          "2023-04-26T00:00:00",
          "2023-04-27T00:00:00",
          "2023-04-28T00:00:00",
          "2023-05-01T00:00:00",
          "2023-05-02T00:00:00",
          "2023-05-03T00:00:00",
          "2023-05-04T00:00:00",
          "2023-05-05T00:00:00",
          "2023-05-08T00:00:00",
          "2023-05-09T00:00:00",
          "2023-05-10T00:00:00",
          "2023-05-11T00:00:00",
          "2023-05-12T00:00:00",
          "2023-05-15T00:00:00",
          "2023-05-16T00:00:00",
          "2023-05-17T00:00:00",
          "2023-05-18T00:00:00",
          "2023-05-19T00:00:00",
          "2023-05-22T00:00:00",
          "2023-05-23T00:00:00",
          "2023-05-24T00:00:00",
          "2023-05-25T00:00:00",
          "2023-05-26T00:00:00",
          "2023-05-30T00:00:00",
          "2023-05-31T00:00:00",
          "2023-06-01T00:00:00",
          "2023-06-02T00:00:00",
          "2023-06-05T00:00:00",
          "2023-06-06T00:00:00",
          "2023-06-07T00:00:00",
          "2023-06-08T00:00:00",
          "2023-06-09T00:00:00",
          "2023-06-12T00:00:00",
          "2023-06-13T00:00:00",
          "2023-06-14T00:00:00",
          "2023-06-15T00:00:00",
          "2023-06-16T00:00:00",
          "2023-06-20T00:00:00",
          "2023-06-21T00:00:00",
          "2023-06-22T00:00:00",
          "2023-06-23T00:00:00",
          "2023-06-26T00:00:00",
          "2023-06-27T00:00:00",
          "2023-06-28T00:00:00",
          "2023-06-29T00:00:00",
          "2023-06-30T00:00:00",
          "2023-07-03T00:00:00",
          "2023-07-05T00:00:00",
          "2023-07-06T00:00:00",
          "2023-07-07T00:00:00",
          "2023-07-10T00:00:00",
          "2023-07-11T00:00:00",
          "2023-07-12T00:00:00",
          "2023-07-13T00:00:00",
          "2023-07-14T00:00:00",
          "2023-07-17T00:00:00",
          "2023-07-18T00:00:00",
          "2023-07-19T00:00:00",
          "2023-07-20T00:00:00",
          "2023-07-21T00:00:00",
          "2023-07-24T00:00:00",
          "2023-07-25T00:00:00",
          "2023-07-26T00:00:00",
          "2023-07-27T00:00:00",
          "2023-07-28T00:00:00",
          "2023-07-31T00:00:00",
          "2023-08-01T00:00:00",
          "2023-08-02T00:00:00",
          "2023-08-03T00:00:00",
          "2023-08-04T00:00:00",
          "2023-08-07T00:00:00",
          "2023-08-08T00:00:00",
          "2023-08-09T00:00:00",
          "2023-08-10T00:00:00",
          "2023-08-11T00:00:00",
          "2023-08-14T00:00:00",
          "2023-08-15T00:00:00",
          "2023-08-16T00:00:00",
          "2023-08-17T00:00:00",
          "2023-08-18T00:00:00",
          "2023-08-21T00:00:00",
          "2023-08-22T00:00:00",
          "2023-08-23T00:00:00",
          "2023-08-24T00:00:00",
          "2023-08-25T00:00:00",
          "2023-08-28T00:00:00",
          "2023-08-29T00:00:00",
          "2023-08-30T00:00:00",
          "2023-08-31T00:00:00",
          "2023-09-01T00:00:00",
          "2023-09-05T00:00:00",
          "2023-09-06T00:00:00",
          "2023-09-07T00:00:00",
          "2023-09-08T00:00:00",
          "2023-09-11T00:00:00",
          "2023-09-12T00:00:00",
          "2023-09-13T00:00:00",
          "2023-09-14T00:00:00",
          "2023-09-15T00:00:00",
          "2023-09-18T00:00:00",
          "2023-09-19T00:00:00",
          "2023-09-20T00:00:00",
          "2023-09-21T00:00:00",
          "2023-09-22T00:00:00",
          "2023-09-25T00:00:00",
          "2023-09-26T00:00:00",
          "2023-09-27T00:00:00",
          "2023-09-28T00:00:00",
          "2023-09-29T00:00:00",
          "2023-10-02T00:00:00",
          "2023-10-03T00:00:00",
          "2023-10-04T00:00:00",
          "2023-10-05T00:00:00",
          "2023-10-06T00:00:00",
          "2023-10-09T00:00:00",
          "2023-10-10T00:00:00",
          "2023-10-11T00:00:00",
          "2023-10-12T00:00:00",
          "2023-10-13T00:00:00",
          "2023-10-16T00:00:00",
          "2023-10-17T00:00:00",
          "2023-10-18T00:00:00",
          "2023-10-19T00:00:00",
          "2023-10-20T00:00:00",
          "2023-10-23T00:00:00",
          "2023-10-24T00:00:00",
          "2023-10-25T00:00:00",
          "2023-10-26T00:00:00",
          "2023-10-27T00:00:00",
          "2023-10-30T00:00:00",
          "2023-10-31T00:00:00",
          "2023-11-01T00:00:00",
          "2023-11-02T00:00:00",
          "2023-11-03T00:00:00",
          "2023-11-06T00:00:00",
          "2023-11-07T00:00:00",
          "2023-11-08T00:00:00",
          "2023-11-09T00:00:00",
          "2023-11-10T00:00:00",
          "2023-11-13T00:00:00",
          "2023-11-14T00:00:00",
          "2023-11-15T00:00:00",
          "2023-11-16T00:00:00",
          "2023-11-17T00:00:00",
          "2023-11-20T00:00:00",
          "2023-11-21T00:00:00",
          "2023-11-22T00:00:00",
          "2023-11-24T00:00:00",
          "2023-11-27T00:00:00",
          "2023-11-28T00:00:00",
          "2023-11-29T00:00:00",
          "2023-11-30T00:00:00",
          "2023-12-01T00:00:00",
          "2023-12-04T00:00:00",
          "2023-12-05T00:00:00",
          "2023-12-06T00:00:00",
          "2023-12-07T00:00:00",
          "2023-12-08T00:00:00",
          "2023-12-11T00:00:00",
          "2023-12-12T00:00:00",
          "2023-12-13T00:00:00",
          "2023-12-14T00:00:00",
          "2023-12-15T00:00:00",
          "2023-12-18T00:00:00",
          "2023-12-19T00:00:00",
          "2023-12-20T00:00:00",
          "2023-12-21T00:00:00",
          "2023-12-22T00:00:00",
          "2023-12-26T00:00:00",
          "2023-12-27T00:00:00",
          "2023-12-28T00:00:00",
          "2023-12-29T00:00:00",
          "2024-01-02T00:00:00",
          "2024-01-03T00:00:00",
          "2024-01-04T00:00:00",
          "2024-01-05T00:00:00",
          "2024-01-08T00:00:00",
          "2024-01-09T00:00:00",
          "2024-01-10T00:00:00",
          "2024-01-11T00:00:00",
          "2024-01-12T00:00:00",
          "2024-01-16T00:00:00",
          "2024-01-17T00:00:00",
          "2024-01-18T00:00:00",
          "2024-01-19T00:00:00",
          "2024-01-22T00:00:00",
          "2024-01-23T00:00:00",
          "2024-01-24T00:00:00",
          "2024-01-25T00:00:00",
          "2024-01-26T00:00:00",
          "2024-01-29T00:00:00",
          "2024-01-30T00:00:00",
          "2024-01-31T00:00:00",
          "2024-02-01T00:00:00",
          "2024-02-02T00:00:00",
          "2024-02-05T00:00:00",
          "2024-02-06T00:00:00",
          "2024-02-07T00:00:00",
          "2024-02-08T00:00:00",
          "2024-02-09T00:00:00",
          "2024-02-12T00:00:00",
          "2024-02-13T00:00:00",
          "2024-02-14T00:00:00",
          "2024-02-15T00:00:00",
          "2024-02-16T00:00:00",
          "2024-02-20T00:00:00",
          "2024-02-21T00:00:00",
          "2024-02-22T00:00:00",
          "2024-02-23T00:00:00",
          "2024-02-26T00:00:00",
          "2024-02-27T00:00:00",
          "2024-02-28T00:00:00",
          "2024-02-29T00:00:00",
          "2024-03-01T00:00:00",
          "2024-03-04T00:00:00",
          "2024-03-05T00:00:00",
          "2024-03-06T00:00:00",
          "2024-03-07T00:00:00",
          "2024-03-08T00:00:00",
          "2024-03-11T00:00:00",
          "2024-03-12T00:00:00",
          "2024-03-13T00:00:00",
          "2024-03-14T00:00:00",
          "2024-03-15T00:00:00",
          "2024-03-18T00:00:00",
          "2024-03-19T00:00:00",
          "2024-03-20T00:00:00",
          "2024-03-21T00:00:00",
          "2024-03-22T00:00:00",
          "2024-03-25T00:00:00",
          "2024-03-26T00:00:00",
          "2024-03-27T00:00:00",
          "2024-03-28T00:00:00",
          "2024-04-01T00:00:00",
          "2024-04-02T00:00:00",
          "2024-04-03T00:00:00",
          "2024-04-04T00:00:00",
          "2024-04-05T00:00:00",
          "2024-04-08T00:00:00",
          "2024-04-09T00:00:00",
          "2024-04-10T00:00:00",
          "2024-04-11T00:00:00",
          "2024-04-12T00:00:00",
          "2024-04-15T00:00:00",
          "2024-04-16T00:00:00",
          "2024-04-17T00:00:00",
          "2024-04-18T00:00:00",
          "2024-04-19T00:00:00",
          "2024-04-22T00:00:00",
          "2024-04-23T00:00:00",
          "2024-04-24T00:00:00",
          "2024-04-25T00:00:00",
          "2024-04-26T00:00:00",
          "2024-04-29T00:00:00",
          "2024-04-30T00:00:00",
          "2024-05-01T00:00:00",
          "2024-05-02T00:00:00",
          "2024-05-03T00:00:00",
          "2024-05-06T00:00:00",
          "2024-05-07T00:00:00",
          "2024-05-08T00:00:00",
          "2024-05-09T00:00:00",
          "2024-05-10T00:00:00",
          "2024-05-13T00:00:00",
          "2024-05-14T00:00:00",
          "2024-05-15T00:00:00",
          "2024-05-16T00:00:00",
          "2024-05-17T00:00:00",
          "2024-05-20T00:00:00",
          "2024-05-21T00:00:00",
          "2024-05-22T00:00:00",
          "2024-05-23T00:00:00",
          "2024-05-24T00:00:00",
          "2024-05-28T00:00:00",
          "2024-05-29T00:00:00",
          "2024-05-30T00:00:00",
          "2024-05-31T00:00:00",
          "2024-06-03T00:00:00",
          "2024-06-04T00:00:00",
          "2024-06-05T00:00:00",
          "2024-06-06T00:00:00",
          "2024-06-07T00:00:00",
          "2024-06-10T00:00:00",
          "2024-06-11T00:00:00",
          "2024-06-12T00:00:00",
          "2024-06-13T00:00:00",
          "2024-06-14T00:00:00",
          "2024-06-17T00:00:00",
          "2024-06-18T00:00:00",
          "2024-06-20T00:00:00",
          "2024-06-21T00:00:00",
          "2024-06-24T00:00:00",
          "2024-06-25T00:00:00",
          "2024-06-26T00:00:00",
          "2024-06-27T00:00:00",
          "2024-06-28T00:00:00",
          "2024-07-01T00:00:00",
          "2024-07-02T00:00:00",
          "2024-07-03T00:00:00",
          "2024-07-05T00:00:00",
          "2024-07-08T00:00:00",
          "2024-07-09T00:00:00",
          "2024-07-10T00:00:00",
          "2024-07-11T00:00:00",
          "2024-07-12T00:00:00",
          "2024-07-15T00:00:00",
          "2024-07-16T00:00:00",
          "2024-07-17T00:00:00",
          "2024-07-18T00:00:00",
          "2024-07-19T00:00:00",
          "2024-07-22T00:00:00",
          "2024-07-23T00:00:00",
          "2024-07-24T00:00:00",
          "2024-07-25T00:00:00",
          "2024-07-26T00:00:00",
          "2024-07-29T00:00:00",
          "2024-07-30T00:00:00",
          "2024-07-31T00:00:00",
          "2024-08-01T00:00:00",
          "2024-08-02T00:00:00",
          "2024-08-05T00:00:00",
          "2024-08-06T00:00:00",
          "2024-08-07T00:00:00",
          "2024-08-08T00:00:00",
          "2024-08-09T00:00:00",
          "2024-08-12T00:00:00",
          "2024-08-13T00:00:00",
          "2024-08-14T00:00:00",
          "2024-08-15T00:00:00",
          "2024-08-16T00:00:00",
          "2024-08-19T00:00:00",
          "2024-08-20T00:00:00",
          "2024-08-21T00:00:00",
          "2024-08-22T00:00:00",
          "2024-08-23T00:00:00",
          "2024-08-26T00:00:00",
          "2024-08-27T00:00:00",
          "2024-08-28T00:00:00",
          "2024-08-29T00:00:00",
          "2024-08-30T00:00:00",
          "2024-09-03T00:00:00",
          "2024-09-04T00:00:00",
          "2024-09-05T00:00:00",
          "2024-09-06T00:00:00",
          "2024-09-09T00:00:00",
          "2024-09-10T00:00:00",
          "2024-09-11T00:00:00",
          "2024-09-12T00:00:00",
          "2024-09-13T00:00:00",
          "2024-09-16T00:00:00",
          "2024-09-17T00:00:00",
          "2024-09-18T00:00:00",
          "2024-09-19T00:00:00",
          "2024-09-20T00:00:00",
          "2024-09-23T00:00:00",
          "2024-09-24T00:00:00",
          "2024-09-25T00:00:00",
          "2024-09-26T00:00:00",
          "2024-09-27T00:00:00",
          "2024-09-30T00:00:00",
          "2024-10-01T00:00:00",
          "2024-10-02T00:00:00",
          "2024-10-03T00:00:00",
          "2024-10-04T00:00:00",
          "2024-10-07T00:00:00",
          "2024-10-08T00:00:00",
          "2024-10-09T00:00:00",
          "2024-10-10T00:00:00",
          "2024-10-11T00:00:00",
          "2024-10-14T00:00:00",
          "2024-10-15T00:00:00",
          "2024-10-16T00:00:00",
          "2024-10-17T00:00:00",
          "2024-10-18T00:00:00"
         ],
         "xaxis": "x",
         "y": [
          0.00869268486474597,
          0.002858397376296672,
          0.0022667054699579046,
          0.007651592954523471,
          0.022938500016178733,
          0.016886670070061276,
          0.002524920213953159,
          -0.00026781153055934273,
          -0.019332760028175352,
          -0.017439077440671004,
          -0.009894731258312755,
          0.012342463139868904,
          0.009759781174738833,
          0.03020214256859069,
          0.026950049855401843,
          0.03920765178587711,
          0.05012660172158667,
          0.03912493094373754,
          0.05229104906091219,
          0.0581580606459457,
          0.05593272897597096,
          0.05859378239270652,
          0.06611317735969456,
          0.07088745994883469,
          0.08074720045463808,
          0.09323123206000508,
          0.08431972253609801,
          0.08361664845999868,
          0.08625003846789879,
          0.09084791324683185,
          0.08750387805396243,
          0.08333697806225582,
          0.09020144790490109,
          0.08981679285784061,
          0.08990134121662675,
          0.09366297985502067,
          0.10224658736514083,
          0.09430115849521317,
          0.09725303312909299,
          0.10447197910011188,
          0.09685316268780125,
          0.09300633458163578,
          0.05074176747102269,
          0.06688745872519465,
          0.08610917470776105,
          0.06645390237107601,
          0.05073059822537014,
          0.03873335359635409,
          0.05654995763507095,
          0.05967482042839563,
          0.051192434901273204,
          0.051442753947676896,
          0.04687828161590803,
          0.046657226434595106,
          0.051133912153597125,
          0.0380298556950091,
          0.05065851829241855,
          0.06709650996407857,
          0.07051997651808911,
          0.06743630272280024,
          0.05453508459059936,
          0.04865383407831239,
          0.10976042444417611,
          0.11233282283800272,
          0.11561280763087686,
          0.10309139880474694,
          0.10065955101281474,
          0.11492451511707448,
          0.11313594193930208,
          0.10399146301195858,
          0.10184103856992402,
          0.11482536363487869,
          0.11834353162810793,
          0.12099917021413033,
          0.13525412314571525,
          0.13965748417521617,
          0.13662121812199232,
          0.14788536644519035,
          0.14976577234127503,
          0.14166914357009727,
          0.14332593975720698,
          0.13025963226141987,
          0.11689974387218556,
          0.11625544362382666,
          0.11127133641485645,
          0.11369011472925877,
          0.13186533709456486,
          0.13404368045528275,
          0.14406681141473768,
          0.13688947643576493,
          0.13255424436884675,
          0.12742015046410396,
          0.13510291688994588,
          0.14384091304471364,
          0.15642769232573123,
          0.15986653339998053,
          0.16193468058533855,
          0.1757672356252609,
          0.1785920205409852,
          0.18965539545910598,
          0.18849476391610825,
          0.18999312320904843,
          0.19108441769508971,
          0.19008265392602292,
          0.22203994874378202,
          0.23420635561667072,
          0.2323991546576997,
          0.22627921737410106,
          0.21361638386911133,
          0.21593981978106278,
          0.21200136977258954,
          0.22699203990633998,
          0.2197944171957145,
          0.21188909420109225,
          0.21383468738292008,
          0.20752618985018098,
          0.2293944511194756,
          0.22720643188743042,
          0.22006761755340154,
          0.21528806684067084,
          0.2170628340893598,
          0.2414234817826332,
          0.224977022207877,
          0.2291191646512427,
          0.2266775285130223,
          0.22159808880876714,
          0.23089655840053763,
          0.24481629823114182,
          0.2518239719656685,
          0.24732355862590327,
          0.24942221632950354,
          0.24138416185628472,
          0.23105074463683564,
          0.23839751279432422,
          0.23609263355258026,
          0.23216532184177413,
          0.23422890591653595,
          0.24469025182609425,
          0.25695136195484053,
          0.23834293545545487,
          0.24669370731668536,
          0.24170302640176233,
          0.23232361430900023,
          0.22126935982027943,
          0.22324712004865077,
          0.23626095432033803,
          0.23133385373383109,
          0.23598402061910687,
          0.23636234099069262,
          0.2252429253719974,
          0.22913332839139497,
          0.21752638982625955,
          0.2181333545534361,
          0.219110495118245,
          0.22772286864601213,
          0.23184610149997464,
          0.23397558069665225,
          0.23846507656707713,
          0.24108462972873343,
          0.2337169408290656,
          0.23511238790314895,
          0.23012329497789663,
          0.2200905737861111,
          0.2047751578450636,
          0.20050720629774696,
          0.20451219970485013,
          0.21466605857958426,
          0.1976442440593178,
          0.18576746955961215,
          0.15977932706608305,
          0.17755941944888895,
          0.17180381280670426,
          0.18841168229368493,
          0.20374929102487552,
          0.20526788841821242,
          0.20748583301165208,
          0.21111850064621193,
          0.2132966725810935,
          0.19935644047749906,
          0.21148449065273356,
          0.21464066437210297,
          0.21905797746386874,
          0.2117844289778999,
          0.21710370428474485,
          0.21872758578006155,
          0.22511260888339615,
          0.22409747521620543,
          0.2151195502396105,
          0.21069198860696867,
          0.21476710174351196,
          0.20785912882728566,
          0.21000389992495852,
          0.2182655104255516,
          0.22265892921259892,
          0.21700979712409507,
          0.22363577771557008,
          0.22256560415332957,
          0.23546362765549206,
          0.24784696306118942,
          0.24996631067854946,
          0.26264162226583876,
          0.2704347119773134,
          0.2772427280929608,
          0.2766879530443666,
          0.2824625781551684,
          0.28171855423789227,
          0.26351237955183443,
          0.2730077183872049,
          0.28121902374449387,
          0.28302213389339215,
          0.28434011818591387,
          0.28285749880400746,
          0.28343570857204603,
          0.2960172389323795,
          0.2955132013119763,
          0.3008968042825489,
          0.31056988083931214,
          0.3256260911835704,
          0.3325807969704778,
          0.34765079198178006,
          0.3462938132470712,
          0.3477570957118896,
          0.3510974203987192,
          0.35055905376201746,
          0.3606787388182376,
          0.3787803776747362,
          0.38167832843204896,
          0.3915289627462314,
          0.38946630944291805,
          0.3967384859621066,
          0.3922287044846405,
          0.39767704208383003,
          0.40453157085376135,
          0.39450078835030006,
          0.4127697419453813,
          0.431129240666925,
          0.45413221256237685,
          0.4570279097682987,
          0.47105202836633203,
          0.4702686501057555,
          0.4763609437252226,
          0.4749007746937559,
          0.47417059748950147,
          0.4848275616333866,
          0.49017816831295435,
          0.4929750183919418,
          0.47304307481412944,
          0.46468789914956077,
          0.5194816994704728,
          0.5239646372751755,
          0.5278031192806979,
          0.5266825925196269,
          0.5197598459878209,
          0.5191886983169886,
          0.5421282687187869,
          0.5452793453149473,
          0.5560722907070504,
          0.5730467618889049,
          0.5855759784113123,
          0.564333204098703,
          0.5615425023607625,
          0.5866517611302305,
          0.5810112068228738,
          0.5776147186009353,
          0.5663287130607024,
          0.5714986291410854,
          0.5793534019873364,
          0.5715855974718892,
          0.5795703921970787,
          0.5921043097025063,
          0.5957760148958947,
          0.5893247975899201,
          0.5867620785051085,
          0.5940050751314829,
          0.5904058257346511,
          0.5892681026262979,
          0.576786705902468,
          0.5357124650633271,
          0.5519138811004912,
          0.5474895672204234,
          0.5430930980164387,
          0.5461191917958009,
          0.5530789547048277,
          0.5307297657889629,
          0.5203651653446587,
          0.5274563449240561,
          0.5218889682862751,
          0.5255215094860698,
          0.5027684647919094,
          0.5217003424711197,
          0.5389757294378572,
          0.5229716583434895,
          0.5326413230345798,
          0.5213882157341062,
          0.5300756976933095,
          0.5281576419028788,
          0.5110272074516014,
          0.5180492501826159,
          0.5393065570628476,
          0.5475903151972723,
          0.5412234213865066,
          0.5332069329895784,
          0.5296639916293114,
          0.5342985600035132,
          0.5380166410345439,
          0.5430136489107177,
          0.5626553230547959,
          0.5631369194839427,
          0.5661589046828122,
          0.5662520788888219,
          0.5616755906994619,
          0.5461048998207207,
          0.5673529685077007,
          0.5706478647243558,
          0.5867083166006688,
          0.5859285490757152,
          0.5806451954829348,
          0.5999005176272164,
          0.6082387473310629,
          0.6174306536533556,
          0.6453696620330084,
          0.6536587540883642,
          0.6552084692065292,
          0.6612967335019654,
          0.6490347441180393,
          0.6529771533088575,
          0.6644233640041002,
          0.6758553514382962,
          0.6768723198967297,
          0.6942616078858892,
          0.6885253239031017,
          0.6719042636577333,
          0.6630847446409327,
          0.6770830321495819,
          0.6792888867461211,
          0.6666499297349305,
          0.6744408957962387,
          0.6723217295744031,
          0.6525599114899664,
          0.6594431329986508,
          0.6645758544178875,
          0.6665979793621969,
          0.6782318656621019,
          0.6877023086031527,
          0.6782957125418443,
          0.6839764905812044,
          0.6816404877262622,
          0.681620394860018,
          0.6840414913603037,
          0.6792017092521964,
          0.6728216822561287,
          0.6907893072521548,
          0.6851723173424503,
          0.6764219197143758,
          0.6933231387182023,
          0.7049066469070865,
          0.6896787993123032,
          0.6859564316377944,
          0.7204734520050854,
          0.7126260362151361,
          0.7059182923871609,
          0.6693528015914784,
          0.6844355833138605,
          0.6761423164315722,
          0.7058088481857306,
          0.704695151798984,
          0.7179029751829102,
          0.7398624823004432,
          0.7513209334337712,
          0.7654837188089031,
          0.7706999598072782,
          0.7931256290689832,
          0.7809502212133009,
          0.7843209057962698,
          0.7734902588003255,
          0.7922923723920667,
          0.7875745913081331,
          0.7864207757067129,
          0.7774207046832329,
          0.7590670611428508,
          0.7668267653622157,
          0.7397996338003858,
          0.7314255656006879,
          0.7211048456332839,
          0.7098883585191111,
          0.7320019525732874,
          0.7413196959453563,
          0.7508995990168261,
          0.7564743883308571,
          0.7568667749696649,
          0.7570275965944202,
          0.7485954968922105,
          0.741694660608443,
          0.7572379559457662,
          0.7512910476779103,
          0.7550085163395762,
          0.7657503849885563,
          0.7633542729257649,
          0.764743862413358,
          0.7700944143709632,
          0.7796815634436866,
          0.7695532709978882,
          0.7753759147241185,
          0.7824034671204703,
          0.7860615363568985,
          0.7911932660133721,
          0.7987098405656322,
          0.8035481705571788,
          0.8081919341893755,
          0.808083768853231,
          0.8202770598770814,
          0.7961131859088032,
          0.8015465541842213,
          0.7981566038412059,
          0.8011425170977352
         ],
         "yaxis": "y"
        },
        {
         "hovertemplate": "variable=Inverse Vol<br>index=%{x}<br>value=%{y}<extra></extra>",
         "legendgroup": "Inverse Vol",
         "line": {
          "color": "#EF553B",
          "dash": "solid"
         },
         "marker": {
          "symbol": "circle"
         },
         "mode": "lines",
         "name": "Inverse Vol",
         "orientation": "v",
         "showlegend": true,
         "type": "scatter",
         "x": [
          "2023-02-27T00:00:00",
          "2023-02-28T00:00:00",
          "2023-03-01T00:00:00",
          "2023-03-02T00:00:00",
          "2023-03-03T00:00:00",
          "2023-03-06T00:00:00",
          "2023-03-07T00:00:00",
          "2023-03-08T00:00:00",
          "2023-03-09T00:00:00",
          "2023-03-10T00:00:00",
          "2023-03-13T00:00:00",
          "2023-03-14T00:00:00",
          "2023-03-15T00:00:00",
          "2023-03-16T00:00:00",
          "2023-03-17T00:00:00",
          "2023-03-20T00:00:00",
          "2023-03-21T00:00:00",
          "2023-03-22T00:00:00",
          "2023-03-23T00:00:00",
          "2023-03-24T00:00:00",
          "2023-03-27T00:00:00",
          "2023-03-28T00:00:00",
          "2023-03-29T00:00:00",
          "2023-03-30T00:00:00",
          "2023-03-31T00:00:00",
          "2023-04-03T00:00:00",
          "2023-04-04T00:00:00",
          "2023-04-05T00:00:00",
          "2023-04-06T00:00:00",
          "2023-04-10T00:00:00",
          "2023-04-11T00:00:00",
          "2023-04-12T00:00:00",
          "2023-04-13T00:00:00",
          "2023-04-14T00:00:00",
          "2023-04-17T00:00:00",
          "2023-04-18T00:00:00",
          "2023-04-19T00:00:00",
          "2023-04-20T00:00:00",
          "2023-04-21T00:00:00",
          "2023-04-24T00:00:00",
          "2023-04-25T00:00:00",
          "2023-04-26T00:00:00",
          "2023-04-27T00:00:00",
          "2023-04-28T00:00:00",
          "2023-05-01T00:00:00",
          "2023-05-02T00:00:00",
          "2023-05-03T00:00:00",
          "2023-05-04T00:00:00",
          "2023-05-05T00:00:00",
          "2023-05-08T00:00:00",
          "2023-05-09T00:00:00",
          "2023-05-10T00:00:00",
          "2023-05-11T00:00:00",
          "2023-05-12T00:00:00",
          "2023-05-15T00:00:00",
          "2023-05-16T00:00:00",
          "2023-05-17T00:00:00",
          "2023-05-18T00:00:00",
          "2023-05-19T00:00:00",
          "2023-05-22T00:00:00",
          "2023-05-23T00:00:00",
          "2023-05-24T00:00:00",
          "2023-05-25T00:00:00",
          "2023-05-26T00:00:00",
          "2023-05-30T00:00:00",
          "2023-05-31T00:00:00",
          "2023-06-01T00:00:00",
          "2023-06-02T00:00:00",
          "2023-06-05T00:00:00",
          "2023-06-06T00:00:00",
          "2023-06-07T00:00:00",
          "2023-06-08T00:00:00",
          "2023-06-09T00:00:00",
          "2023-06-12T00:00:00",
          "2023-06-13T00:00:00",
          "2023-06-14T00:00:00",
          "2023-06-15T00:00:00",
          "2023-06-16T00:00:00",
          "2023-06-20T00:00:00",
          "2023-06-21T00:00:00",
          "2023-06-22T00:00:00",
          "2023-06-23T00:00:00",
          "2023-06-26T00:00:00",
          "2023-06-27T00:00:00",
          "2023-06-28T00:00:00",
          "2023-06-29T00:00:00",
          "2023-06-30T00:00:00",
          "2023-07-03T00:00:00",
          "2023-07-05T00:00:00",
          "2023-07-06T00:00:00",
          "2023-07-07T00:00:00",
          "2023-07-10T00:00:00",
          "2023-07-11T00:00:00",
          "2023-07-12T00:00:00",
          "2023-07-13T00:00:00",
          "2023-07-14T00:00:00",
          "2023-07-17T00:00:00",
          "2023-07-18T00:00:00",
          "2023-07-19T00:00:00",
          "2023-07-20T00:00:00",
          "2023-07-21T00:00:00",
          "2023-07-24T00:00:00",
          "2023-07-25T00:00:00",
          "2023-07-26T00:00:00",
          "2023-07-27T00:00:00",
          "2023-07-28T00:00:00",
          "2023-07-31T00:00:00",
          "2023-08-01T00:00:00",
          "2023-08-02T00:00:00",
          "2023-08-03T00:00:00",
          "2023-08-04T00:00:00",
          "2023-08-07T00:00:00",
          "2023-08-08T00:00:00",
          "2023-08-09T00:00:00",
          "2023-08-10T00:00:00",
          "2023-08-11T00:00:00",
          "2023-08-14T00:00:00",
          "2023-08-15T00:00:00",
          "2023-08-16T00:00:00",
          "2023-08-17T00:00:00",
          "2023-08-18T00:00:00",
          "2023-08-21T00:00:00",
          "2023-08-22T00:00:00",
          "2023-08-23T00:00:00",
          "2023-08-24T00:00:00",
          "2023-08-25T00:00:00",
          "2023-08-28T00:00:00",
          "2023-08-29T00:00:00",
          "2023-08-30T00:00:00",
          "2023-08-31T00:00:00",
          "2023-09-01T00:00:00",
          "2023-09-05T00:00:00",
          "2023-09-06T00:00:00",
          "2023-09-07T00:00:00",
          "2023-09-08T00:00:00",
          "2023-09-11T00:00:00",
          "2023-09-12T00:00:00",
          "2023-09-13T00:00:00",
          "2023-09-14T00:00:00",
          "2023-09-15T00:00:00",
          "2023-09-18T00:00:00",
          "2023-09-19T00:00:00",
          "2023-09-20T00:00:00",
          "2023-09-21T00:00:00",
          "2023-09-22T00:00:00",
          "2023-09-25T00:00:00",
          "2023-09-26T00:00:00",
          "2023-09-27T00:00:00",
          "2023-09-28T00:00:00",
          "2023-09-29T00:00:00",
          "2023-10-02T00:00:00",
          "2023-10-03T00:00:00",
          "2023-10-04T00:00:00",
          "2023-10-05T00:00:00",
          "2023-10-06T00:00:00",
          "2023-10-09T00:00:00",
          "2023-10-10T00:00:00",
          "2023-10-11T00:00:00",
          "2023-10-12T00:00:00",
          "2023-10-13T00:00:00",
          "2023-10-16T00:00:00",
          "2023-10-17T00:00:00",
          "2023-10-18T00:00:00",
          "2023-10-19T00:00:00",
          "2023-10-20T00:00:00",
          "2023-10-23T00:00:00",
          "2023-10-24T00:00:00",
          "2023-10-25T00:00:00",
          "2023-10-26T00:00:00",
          "2023-10-27T00:00:00",
          "2023-10-30T00:00:00",
          "2023-10-31T00:00:00",
          "2023-11-01T00:00:00",
          "2023-11-02T00:00:00",
          "2023-11-03T00:00:00",
          "2023-11-06T00:00:00",
          "2023-11-07T00:00:00",
          "2023-11-08T00:00:00",
          "2023-11-09T00:00:00",
          "2023-11-10T00:00:00",
          "2023-11-13T00:00:00",
          "2023-11-14T00:00:00",
          "2023-11-15T00:00:00",
          "2023-11-16T00:00:00",
          "2023-11-17T00:00:00",
          "2023-11-20T00:00:00",
          "2023-11-21T00:00:00",
          "2023-11-22T00:00:00",
          "2023-11-24T00:00:00",
          "2023-11-27T00:00:00",
          "2023-11-28T00:00:00",
          "2023-11-29T00:00:00",
          "2023-11-30T00:00:00",
          "2023-12-01T00:00:00",
          "2023-12-04T00:00:00",
          "2023-12-05T00:00:00",
          "2023-12-06T00:00:00",
          "2023-12-07T00:00:00",
          "2023-12-08T00:00:00",
          "2023-12-11T00:00:00",
          "2023-12-12T00:00:00",
          "2023-12-13T00:00:00",
          "2023-12-14T00:00:00",
          "2023-12-15T00:00:00",
          "2023-12-18T00:00:00",
          "2023-12-19T00:00:00",
          "2023-12-20T00:00:00",
          "2023-12-21T00:00:00",
          "2023-12-22T00:00:00",
          "2023-12-26T00:00:00",
          "2023-12-27T00:00:00",
          "2023-12-28T00:00:00",
          "2023-12-29T00:00:00",
          "2024-01-02T00:00:00",
          "2024-01-03T00:00:00",
          "2024-01-04T00:00:00",
          "2024-01-05T00:00:00",
          "2024-01-08T00:00:00",
          "2024-01-09T00:00:00",
          "2024-01-10T00:00:00",
          "2024-01-11T00:00:00",
          "2024-01-12T00:00:00",
          "2024-01-16T00:00:00",
          "2024-01-17T00:00:00",
          "2024-01-18T00:00:00",
          "2024-01-19T00:00:00",
          "2024-01-22T00:00:00",
          "2024-01-23T00:00:00",
          "2024-01-24T00:00:00",
          "2024-01-25T00:00:00",
          "2024-01-26T00:00:00",
          "2024-01-29T00:00:00",
          "2024-01-30T00:00:00",
          "2024-01-31T00:00:00",
          "2024-02-01T00:00:00",
          "2024-02-02T00:00:00",
          "2024-02-05T00:00:00",
          "2024-02-06T00:00:00",
          "2024-02-07T00:00:00",
          "2024-02-08T00:00:00",
          "2024-02-09T00:00:00",
          "2024-02-12T00:00:00",
          "2024-02-13T00:00:00",
          "2024-02-14T00:00:00",
          "2024-02-15T00:00:00",
          "2024-02-16T00:00:00",
          "2024-02-20T00:00:00",
          "2024-02-21T00:00:00",
          "2024-02-22T00:00:00",
          "2024-02-23T00:00:00",
          "2024-02-26T00:00:00",
          "2024-02-27T00:00:00",
          "2024-02-28T00:00:00",
          "2024-02-29T00:00:00",
          "2024-03-01T00:00:00",
          "2024-03-04T00:00:00",
          "2024-03-05T00:00:00",
          "2024-03-06T00:00:00",
          "2024-03-07T00:00:00",
          "2024-03-08T00:00:00",
          "2024-03-11T00:00:00",
          "2024-03-12T00:00:00",
          "2024-03-13T00:00:00",
          "2024-03-14T00:00:00",
          "2024-03-15T00:00:00",
          "2024-03-18T00:00:00",
          "2024-03-19T00:00:00",
          "2024-03-20T00:00:00",
          "2024-03-21T00:00:00",
          "2024-03-22T00:00:00",
          "2024-03-25T00:00:00",
          "2024-03-26T00:00:00",
          "2024-03-27T00:00:00",
          "2024-03-28T00:00:00",
          "2024-04-01T00:00:00",
          "2024-04-02T00:00:00",
          "2024-04-03T00:00:00",
          "2024-04-04T00:00:00",
          "2024-04-05T00:00:00",
          "2024-04-08T00:00:00",
          "2024-04-09T00:00:00",
          "2024-04-10T00:00:00",
          "2024-04-11T00:00:00",
          "2024-04-12T00:00:00",
          "2024-04-15T00:00:00",
          "2024-04-16T00:00:00",
          "2024-04-17T00:00:00",
          "2024-04-18T00:00:00",
          "2024-04-19T00:00:00",
          "2024-04-22T00:00:00",
          "2024-04-23T00:00:00",
          "2024-04-24T00:00:00",
          "2024-04-25T00:00:00",
          "2024-04-26T00:00:00",
          "2024-04-29T00:00:00",
          "2024-04-30T00:00:00",
          "2024-05-01T00:00:00",
          "2024-05-02T00:00:00",
          "2024-05-03T00:00:00",
          "2024-05-06T00:00:00",
          "2024-05-07T00:00:00",
          "2024-05-08T00:00:00",
          "2024-05-09T00:00:00",
          "2024-05-10T00:00:00",
          "2024-05-13T00:00:00",
          "2024-05-14T00:00:00",
          "2024-05-15T00:00:00",
          "2024-05-16T00:00:00",
          "2024-05-17T00:00:00",
          "2024-05-20T00:00:00",
          "2024-05-21T00:00:00",
          "2024-05-22T00:00:00",
          "2024-05-23T00:00:00",
          "2024-05-24T00:00:00",
          "2024-05-28T00:00:00",
          "2024-05-29T00:00:00",
          "2024-05-30T00:00:00",
          "2024-05-31T00:00:00",
          "2024-06-03T00:00:00",
          "2024-06-04T00:00:00",
          "2024-06-05T00:00:00",
          "2024-06-06T00:00:00",
          "2024-06-07T00:00:00",
          "2024-06-10T00:00:00",
          "2024-06-11T00:00:00",
          "2024-06-12T00:00:00",
          "2024-06-13T00:00:00",
          "2024-06-14T00:00:00",
          "2024-06-17T00:00:00",
          "2024-06-18T00:00:00",
          "2024-06-20T00:00:00",
          "2024-06-21T00:00:00",
          "2024-06-24T00:00:00",
          "2024-06-25T00:00:00",
          "2024-06-26T00:00:00",
          "2024-06-27T00:00:00",
          "2024-06-28T00:00:00",
          "2024-07-01T00:00:00",
          "2024-07-02T00:00:00",
          "2024-07-03T00:00:00",
          "2024-07-05T00:00:00",
          "2024-07-08T00:00:00",
          "2024-07-09T00:00:00",
          "2024-07-10T00:00:00",
          "2024-07-11T00:00:00",
          "2024-07-12T00:00:00",
          "2024-07-15T00:00:00",
          "2024-07-16T00:00:00",
          "2024-07-17T00:00:00",
          "2024-07-18T00:00:00",
          "2024-07-19T00:00:00",
          "2024-07-22T00:00:00",
          "2024-07-23T00:00:00",
          "2024-07-24T00:00:00",
          "2024-07-25T00:00:00",
          "2024-07-26T00:00:00",
          "2024-07-29T00:00:00",
          "2024-07-30T00:00:00",
          "2024-07-31T00:00:00",
          "2024-08-01T00:00:00",
          "2024-08-02T00:00:00",
          "2024-08-05T00:00:00",
          "2024-08-06T00:00:00",
          "2024-08-07T00:00:00",
          "2024-08-08T00:00:00",
          "2024-08-09T00:00:00",
          "2024-08-12T00:00:00",
          "2024-08-13T00:00:00",
          "2024-08-14T00:00:00",
          "2024-08-15T00:00:00",
          "2024-08-16T00:00:00",
          "2024-08-19T00:00:00",
          "2024-08-20T00:00:00",
          "2024-08-21T00:00:00",
          "2024-08-22T00:00:00",
          "2024-08-23T00:00:00",
          "2024-08-26T00:00:00",
          "2024-08-27T00:00:00",
          "2024-08-28T00:00:00",
          "2024-08-29T00:00:00",
          "2024-08-30T00:00:00",
          "2024-09-03T00:00:00",
          "2024-09-04T00:00:00",
          "2024-09-05T00:00:00",
          "2024-09-06T00:00:00",
          "2024-09-09T00:00:00",
          "2024-09-10T00:00:00",
          "2024-09-11T00:00:00",
          "2024-09-12T00:00:00",
          "2024-09-13T00:00:00",
          "2024-09-16T00:00:00",
          "2024-09-17T00:00:00",
          "2024-09-18T00:00:00",
          "2024-09-19T00:00:00",
          "2024-09-20T00:00:00",
          "2024-09-23T00:00:00",
          "2024-09-24T00:00:00",
          "2024-09-25T00:00:00",
          "2024-09-26T00:00:00",
          "2024-09-27T00:00:00",
          "2024-09-30T00:00:00",
          "2024-10-01T00:00:00",
          "2024-10-02T00:00:00",
          "2024-10-03T00:00:00",
          "2024-10-04T00:00:00",
          "2024-10-07T00:00:00",
          "2024-10-08T00:00:00",
          "2024-10-09T00:00:00",
          "2024-10-10T00:00:00",
          "2024-10-11T00:00:00",
          "2024-10-14T00:00:00",
          "2024-10-15T00:00:00",
          "2024-10-16T00:00:00",
          "2024-10-17T00:00:00",
          "2024-10-18T00:00:00"
         ],
         "xaxis": "x",
         "y": [
          0.002950844548257352,
          0.0026284130880105264,
          -0.0023495252450200276,
          0.0024078663307909596,
          0.01903295287421184,
          0.020327284004470324,
          0.0063225938688445185,
          0.002298871835567412,
          -0.01988572541992764,
          -0.02255923355490852,
          -0.023843482707788383,
          -0.008122726784304861,
          -0.020215224086832347,
          -0.011557895369282725,
          -0.02403658992295131,
          -0.00885254482056367,
          0.007221441722034903,
          -0.007351577966723246,
          -0.004446352233360255,
          -0.00013608232362631936,
          0.008065541964629424,
          0.008389106952878138,
          0.020892490216416624,
          0.02635078138128276,
          0.0371863528661733,
          0.0489441289716422,
          0.04450117358582629,
          0.047082019594608525,
          0.048344198636545675,
          0.04917206775388908,
          0.048763283918149096,
          0.04534352613367958,
          0.05469407565608665,
          0.06060632989333184,
          0.06371671297657631,
          0.06550181447565424,
          0.06381118089049681,
          0.05392378426102418,
          0.05468314707340282,
          0.06042348057863175,
          0.04979597992940958,
          0.04135734623893581,
          0.05703873162564174,
          0.06467011141193892,
          0.06988111111637418,
          0.0513427541392969,
          0.04155004997610028,
          0.03023885250597711,
          0.049683363248460816,
          0.05279672668997959,
          0.04783551463923742,
          0.04585046309981796,
          0.044397401543424114,
          0.040936345378016714,
          0.04005672861406352,
          0.0277395899911492,
          0.039626287998918,
          0.04898899588996939,
          0.04835754372193546,
          0.043801805650850574,
          0.04145978424692413,
          0.03580907983349654,
          0.04025294193976364,
          0.04755729759838759,
          0.048438294840797286,
          0.045036068097329546,
          0.052928575296230074,
          0.062476686675577264,
          0.05954035709055914,
          0.06312355786307706,
          0.06949819726269017,
          0.07498910064501783,
          0.07684475687630536,
          0.08026908562109396,
          0.08704194844735816,
          0.0883300334000783,
          0.0986014809890554,
          0.09715319342202068,
          0.09016001649525279,
          0.0884632857247687,
          0.0878139052227941,
          0.08144447890657594,
          0.08134304895494081,
          0.0872549439095269,
          0.08975548574068119,
          0.09469706816210079,
          0.10830917047289562,
          0.11073235457251997,
          0.11409865546025122,
          0.10582471970671507,
          0.10045065485394028,
          0.09927036045472674,
          0.10522202931741129,
          0.11232299503610677,
          0.11199730260263634,
          0.10480951614043268,
          0.09738509723002153,
          0.1047541831875411,
          0.11474501271813023,
          0.11880206095579154,
          0.11750320454385979,
          0.12522640208364277,
          0.12419622413844947,
          0.1271199910151184,
          0.13121231486284438,
          0.13815973710065763,
          0.14257755711734618,
          0.13686846789241053,
          0.12696993087394362,
          0.12702644990712536,
          0.11694206167831443,
          0.1266326623258175,
          0.12494265725960552,
          0.11928753422083,
          0.11758950833778914,
          0.12074691370634981,
          0.1269406085404492,
          0.11432296344315405,
          0.10851769477576995,
          0.1021309819433471,
          0.10629466226895362,
          0.11111744996981668,
          0.10491380336336052,
          0.11228294443174029,
          0.10555985192220255,
          0.10818047648353701,
          0.11471266973706115,
          0.1291423280690625,
          0.13326129416669952,
          0.1347685626830201,
          0.13852283764044504,
          0.1333893559710094,
          0.12867695554101438,
          0.12620864262247572,
          0.1268996711452822,
          0.12963311911533654,
          0.13446859878621276,
          0.13503311869754164,
          0.14442978361854486,
          0.13543138073415123,
          0.1375673799135087,
          0.1379979241727362,
          0.1311711650659149,
          0.12060674146142404,
          0.12079848732062702,
          0.1277948595624488,
          0.11988472749730945,
          0.11985326441674649,
          0.124394475028169,
          0.11323699160901948,
          0.10937552789245633,
          0.10145025679292502,
          0.09862299835127346,
          0.09756765051662598,
          0.1003130104770042,
          0.10854508300573608,
          0.11438173213744399,
          0.11087738816434312,
          0.10669054011626923,
          0.10497030342541457,
          0.1120033200529606,
          0.11423316616100873,
          0.10555514864555603,
          0.10213975557450643,
          0.09424898883325858,
          0.09160145726833964,
          0.10566226484270849,
          0.09553338682462889,
          0.08962265029893889,
          0.0685546388638139,
          0.08534209566001331,
          0.09080734584179324,
          0.09916581524358141,
          0.11550098279938324,
          0.11856516437969046,
          0.11510161825661465,
          0.11554893212241604,
          0.11178094763674601,
          0.1061228991517819,
          0.11738985754443422,
          0.11953565497435374,
          0.12982490959389104,
          0.1314659963793642,
          0.12315589686634783,
          0.12776104039652522,
          0.13445940420138827,
          0.1340382853610215,
          0.1338278441516472,
          0.13436083839500665,
          0.13422376181865964,
          0.13705031628709452,
          0.13916039878049644,
          0.1438455207924753,
          0.14638948010366742,
          0.14320760543778174,
          0.14502717385646138,
          0.14106064084021658,
          0.14696465778061352,
          0.1513726394273847,
          0.14896198978496256,
          0.15198245021628556,
          0.15950770236847062,
          0.1711194462080204,
          0.16811039320142027,
          0.1747683674710821,
          0.18044712494669105,
          0.16807202089720294,
          0.17460779585856517,
          0.1772877558723702,
          0.17896304275739375,
          0.1802020252685778,
          0.17968856139398745,
          0.17816943327094364,
          0.18696565120624056,
          0.18860671958642675,
          0.18728704754185405,
          0.1938754100930732,
          0.20115589489011135,
          0.19749276731156648,
          0.20371260696484625,
          0.19614306067663947,
          0.20026844880052702,
          0.19755904446306047,
          0.1926698423816882,
          0.2001142827191355,
          0.21179838047274957,
          0.2139943026112345,
          0.22819055681444528,
          0.22686190430347272,
          0.2405615922740213,
          0.24246380741608198,
          0.24346929075899773,
          0.2542154175983373,
          0.24526177910540667,
          0.25400513853955076,
          0.27290176868241295,
          0.2706451918816481,
          0.273203311489995,
          0.27755658954610785,
          0.27657394877746194,
          0.2745388674307453,
          0.2783287267775597,
          0.2710473531348833,
          0.27613046809589864,
          0.2890026503309937,
          0.2878591014552537,
          0.2879239561244114,
          0.29075617543918425,
          0.3063683283791997,
          0.3066198694267046,
          0.3029302048632434,
          0.30435651520751106,
          0.30511720061742814,
          0.30364796295239627,
          0.31000383136348253,
          0.3061194571785541,
          0.3071257331313972,
          0.31070603540354147,
          0.3113687149957864,
          0.30840329039016556,
          0.31153930870378427,
          0.31972437293458134,
          0.32222361824187873,
          0.3188504649318685,
          0.3171633552429634,
          0.32406046375257536,
          0.33028381518981625,
          0.3357445975523372,
          0.33775013910899787,
          0.3367082596443574,
          0.3379788266189779,
          0.3357627234953381,
          0.3449295391007481,
          0.34852739507189523,
          0.3490312049944001,
          0.34853568341593155,
          0.35008147225570596,
          0.3372493439103325,
          0.3459212651260765,
          0.34139187775741514,
          0.3404538832777568,
          0.3382027446563915,
          0.3398364124223526,
          0.323735692426658,
          0.3172357326924497,
          0.31240135989856843,
          0.30946436857643234,
          0.31277682937730905,
          0.31244682899158716,
          0.31601971571957704,
          0.3282315778590756,
          0.3266851547859147,
          0.32347525884207395,
          0.32075430562126994,
          0.3255331478639523,
          0.3125385434889902,
          0.30681711161634184,
          0.31235532983478337,
          0.32241414359795945,
          0.3301176227732141,
          0.33151698136494157,
          0.332043277780377,
          0.3388511086000915,
          0.3427739806869299,
          0.34331609643975725,
          0.3446045193862621,
          0.35232609362624157,
          0.35929018619030173,
          0.36383032983319924,
          0.35627261785445036,
          0.35622858715183664,
          0.3496445702790438,
          0.34469651067046175,
          0.35329881658661977,
          0.35259344652310065,
          0.3478761081649077,
          0.35489793754858673,
          0.3725704642639912,
          0.37296766655209307,
          0.3735127758174577,
          0.3813882802308599,
          0.38343843740390715,
          0.38286173627700054,
          0.38576199365111635,
          0.38706924722378383,
          0.38514000144518035,
          0.38525840715281934,
          0.3851489624088046,
          0.38910185272328035,
          0.3948736538959209,
          0.39798214984718533,
          0.39094630363379074,
          0.4019000463864059,
          0.3995412712991916,
          0.4007929105389996,
          0.3982628072505549,
          0.4001299184811534,
          0.4046304118649702,
          0.4035915323942368,
          0.40507446751916654,
          0.4138058793631076,
          0.41274354691955883,
          0.4146658429563926,
          0.42391381266455425,
          0.42159259917672626,
          0.4237585187936,
          0.430169925481149,
          0.4361770181008327,
          0.44091526840886897,
          0.43663131165842267,
          0.42764143123719456,
          0.4235429735281732,
          0.415898464006306,
          0.4119179331849453,
          0.4132484596700609,
          0.4201358853617065,
          0.41537925038838386,
          0.419194665917987,
          0.42796465608270085,
          0.42210711298343206,
          0.40874965915175465,
          0.37986437951084995,
          0.39097315270184113,
          0.3904065874594917,
          0.4103119349628149,
          0.41611350024956806,
          0.4186090898656257,
          0.4261988371960678,
          0.4335364660942829,
          0.4477708264326248,
          0.45354273014814,
          0.46189939709709077,
          0.4582247359364953,
          0.46195129617970077,
          0.46078730748405033,
          0.4724941000394376,
          0.4749780277463466,
          0.47615093759447547,
          0.47390572907399164,
          0.47507443908265784,
          0.4832601221900669,
          0.47303265016888907,
          0.46417433208575376,
          0.4566189070080932,
          0.4449239025500637,
          0.4605605719893048,
          0.4564943408621866,
          0.45851073961174077,
          0.4653241945001099,
          0.4676642544952289,
          0.47326205844500857,
          0.4703853995755983,
          0.47211674525853686,
          0.4823239905899814,
          0.4835154051358264,
          0.4865423462040847,
          0.490281611321336,
          0.4836228112271311,
          0.4807395835238683,
          0.4880116724749926,
          0.49411081678264657,
          0.49236548614696946,
          0.49263127113748506,
          0.49182036295985676,
          0.5009924894701858,
          0.49348675955180965,
          0.4960594268281853,
          0.5042632900608486,
          0.5015552737125869,
          0.5084745261146022,
          0.5141293827658746,
          0.5104460882730164,
          0.5129765107810993,
          0.5135973561536051,
          0.5156592812039926
         ],
         "yaxis": "y"
        }
       ],
       "layout": {
        "legend": {
         "title": {
          "text": "Portfolios"
         },
         "tracegroupgap": 0
        },
        "margin": {
         "t": 60
        },
        "template": {
         "data": {
          "bar": [
           {
            "error_x": {
             "color": "#2a3f5f"
            },
            "error_y": {
             "color": "#2a3f5f"
            },
            "marker": {
             "line": {
              "color": "#E5ECF6",
              "width": 0.5
             },
             "pattern": {
              "fillmode": "overlay",
              "size": 10,
              "solidity": 0.2
             }
            },
            "type": "bar"
           }
          ],
          "barpolar": [
           {
            "marker": {
             "line": {
              "color": "#E5ECF6",
              "width": 0.5
             },
             "pattern": {
              "fillmode": "overlay",
              "size": 10,
              "solidity": 0.2
             }
            },
            "type": "barpolar"
           }
          ],
          "carpet": [
           {
            "aaxis": {
             "endlinecolor": "#2a3f5f",
             "gridcolor": "white",
             "linecolor": "white",
             "minorgridcolor": "white",
             "startlinecolor": "#2a3f5f"
            },
            "baxis": {
             "endlinecolor": "#2a3f5f",
             "gridcolor": "white",
             "linecolor": "white",
             "minorgridcolor": "white",
             "startlinecolor": "#2a3f5f"
            },
            "type": "carpet"
           }
          ],
          "choropleth": [
           {
            "colorbar": {
             "outlinewidth": 0,
             "ticks": ""
            },
            "type": "choropleth"
           }
          ],
          "contour": [
           {
            "colorbar": {
             "outlinewidth": 0,
             "ticks": ""
            },
            "colorscale": [
             [
              0,
              "#0d0887"
             ],
             [
              0.1111111111111111,
              "#46039f"
             ],
             [
              0.2222222222222222,
              "#7201a8"
             ],
             [
              0.3333333333333333,
              "#9c179e"
             ],
             [
              0.4444444444444444,
              "#bd3786"
             ],
             [
              0.5555555555555556,
              "#d8576b"
             ],
             [
              0.6666666666666666,
              "#ed7953"
             ],
             [
              0.7777777777777778,
              "#fb9f3a"
             ],
             [
              0.8888888888888888,
              "#fdca26"
             ],
             [
              1,
              "#f0f921"
             ]
            ],
            "type": "contour"
           }
          ],
          "contourcarpet": [
           {
            "colorbar": {
             "outlinewidth": 0,
             "ticks": ""
            },
            "type": "contourcarpet"
           }
          ],
          "heatmap": [
           {
            "colorbar": {
             "outlinewidth": 0,
             "ticks": ""
            },
            "colorscale": [
             [
              0,
              "#0d0887"
             ],
             [
              0.1111111111111111,
              "#46039f"
             ],
             [
              0.2222222222222222,
              "#7201a8"
             ],
             [
              0.3333333333333333,
              "#9c179e"
             ],
             [
              0.4444444444444444,
              "#bd3786"
             ],
             [
              0.5555555555555556,
              "#d8576b"
             ],
             [
              0.6666666666666666,
              "#ed7953"
             ],
             [
              0.7777777777777778,
              "#fb9f3a"
             ],
             [
              0.8888888888888888,
              "#fdca26"
             ],
             [
              1,
              "#f0f921"
             ]
            ],
            "type": "heatmap"
           }
          ],
          "heatmapgl": [
           {
            "colorbar": {
             "outlinewidth": 0,
             "ticks": ""
            },
            "colorscale": [
             [
              0,
              "#0d0887"
             ],
             [
              0.1111111111111111,
              "#46039f"
             ],
             [
              0.2222222222222222,
              "#7201a8"
             ],
             [
              0.3333333333333333,
              "#9c179e"
             ],
             [
              0.4444444444444444,
              "#bd3786"
             ],
             [
              0.5555555555555556,
              "#d8576b"
             ],
             [
              0.6666666666666666,
              "#ed7953"
             ],
             [
              0.7777777777777778,
              "#fb9f3a"
             ],
             [
              0.8888888888888888,
              "#fdca26"
             ],
             [
              1,
              "#f0f921"
             ]
            ],
            "type": "heatmapgl"
           }
          ],
          "histogram": [
           {
            "marker": {
             "pattern": {
              "fillmode": "overlay",
              "size": 10,
              "solidity": 0.2
             }
            },
            "type": "histogram"
           }
          ],
          "histogram2d": [
           {
            "colorbar": {
             "outlinewidth": 0,
             "ticks": ""
            },
            "colorscale": [
             [
              0,
              "#0d0887"
             ],
             [
              0.1111111111111111,
              "#46039f"
             ],
             [
              0.2222222222222222,
              "#7201a8"
             ],
             [
              0.3333333333333333,
              "#9c179e"
             ],
             [
              0.4444444444444444,
              "#bd3786"
             ],
             [
              0.5555555555555556,
              "#d8576b"
             ],
             [
              0.6666666666666666,
              "#ed7953"
             ],
             [
              0.7777777777777778,
              "#fb9f3a"
             ],
             [
              0.8888888888888888,
              "#fdca26"
             ],
             [
              1,
              "#f0f921"
             ]
            ],
            "type": "histogram2d"
           }
          ],
          "histogram2dcontour": [
           {
            "colorbar": {
             "outlinewidth": 0,
             "ticks": ""
            },
            "colorscale": [
             [
              0,
              "#0d0887"
             ],
             [
              0.1111111111111111,
              "#46039f"
             ],
             [
              0.2222222222222222,
              "#7201a8"
             ],
             [
              0.3333333333333333,
              "#9c179e"
             ],
             [
              0.4444444444444444,
              "#bd3786"
             ],
             [
              0.5555555555555556,
              "#d8576b"
             ],
             [
              0.6666666666666666,
              "#ed7953"
             ],
             [
              0.7777777777777778,
              "#fb9f3a"
             ],
             [
              0.8888888888888888,
              "#fdca26"
             ],
             [
              1,
              "#f0f921"
             ]
            ],
            "type": "histogram2dcontour"
           }
          ],
          "mesh3d": [
           {
            "colorbar": {
             "outlinewidth": 0,
             "ticks": ""
            },
            "type": "mesh3d"
           }
          ],
          "parcoords": [
           {
            "line": {
             "colorbar": {
              "outlinewidth": 0,
              "ticks": ""
             }
            },
            "type": "parcoords"
           }
          ],
          "pie": [
           {
            "automargin": true,
            "type": "pie"
           }
          ],
          "scatter": [
           {
            "fillpattern": {
             "fillmode": "overlay",
             "size": 10,
             "solidity": 0.2
            },
            "type": "scatter"
           }
          ],
          "scatter3d": [
           {
            "line": {
             "colorbar": {
              "outlinewidth": 0,
              "ticks": ""
             }
            },
            "marker": {
             "colorbar": {
              "outlinewidth": 0,
              "ticks": ""
             }
            },
            "type": "scatter3d"
           }
          ],
          "scattercarpet": [
           {
            "marker": {
             "colorbar": {
              "outlinewidth": 0,
              "ticks": ""
             }
            },
            "type": "scattercarpet"
           }
          ],
          "scattergeo": [
           {
            "marker": {
             "colorbar": {
              "outlinewidth": 0,
              "ticks": ""
             }
            },
            "type": "scattergeo"
           }
          ],
          "scattergl": [
           {
            "marker": {
             "colorbar": {
              "outlinewidth": 0,
              "ticks": ""
             }
            },
            "type": "scattergl"
           }
          ],
          "scattermapbox": [
           {
            "marker": {
             "colorbar": {
              "outlinewidth": 0,
              "ticks": ""
             }
            },
            "type": "scattermapbox"
           }
          ],
          "scatterpolar": [
           {
            "marker": {
             "colorbar": {
              "outlinewidth": 0,
              "ticks": ""
             }
            },
            "type": "scatterpolar"
           }
          ],
          "scatterpolargl": [
           {
            "marker": {
             "colorbar": {
              "outlinewidth": 0,
              "ticks": ""
             }
            },
            "type": "scatterpolargl"
           }
          ],
          "scatterternary": [
           {
            "marker": {
             "colorbar": {
              "outlinewidth": 0,
              "ticks": ""
             }
            },
            "type": "scatterternary"
           }
          ],
          "surface": [
           {
            "colorbar": {
             "outlinewidth": 0,
             "ticks": ""
            },
            "colorscale": [
             [
              0,
              "#0d0887"
             ],
             [
              0.1111111111111111,
              "#46039f"
             ],
             [
              0.2222222222222222,
              "#7201a8"
             ],
             [
              0.3333333333333333,
              "#9c179e"
             ],
             [
              0.4444444444444444,
              "#bd3786"
             ],
             [
              0.5555555555555556,
              "#d8576b"
             ],
             [
              0.6666666666666666,
              "#ed7953"
             ],
             [
              0.7777777777777778,
              "#fb9f3a"
             ],
             [
              0.8888888888888888,
              "#fdca26"
             ],
             [
              1,
              "#f0f921"
             ]
            ],
            "type": "surface"
           }
          ],
          "table": [
           {
            "cells": {
             "fill": {
              "color": "#EBF0F8"
             },
             "line": {
              "color": "white"
             }
            },
            "header": {
             "fill": {
              "color": "#C8D4E3"
             },
             "line": {
              "color": "white"
             }
            },
            "type": "table"
           }
          ]
         },
         "layout": {
          "annotationdefaults": {
           "arrowcolor": "#2a3f5f",
           "arrowhead": 0,
           "arrowwidth": 1
          },
          "autotypenumbers": "strict",
          "coloraxis": {
           "colorbar": {
            "outlinewidth": 0,
            "ticks": ""
           }
          },
          "colorscale": {
           "diverging": [
            [
             0,
             "#8e0152"
            ],
            [
             0.1,
             "#c51b7d"
            ],
            [
             0.2,
             "#de77ae"
            ],
            [
             0.3,
             "#f1b6da"
            ],
            [
             0.4,
             "#fde0ef"
            ],
            [
             0.5,
             "#f7f7f7"
            ],
            [
             0.6,
             "#e6f5d0"
            ],
            [
             0.7,
             "#b8e186"
            ],
            [
             0.8,
             "#7fbc41"
            ],
            [
             0.9,
             "#4d9221"
            ],
            [
             1,
             "#276419"
            ]
           ],
           "sequential": [
            [
             0,
             "#0d0887"
            ],
            [
             0.1111111111111111,
             "#46039f"
            ],
            [
             0.2222222222222222,
             "#7201a8"
            ],
            [
             0.3333333333333333,
             "#9c179e"
            ],
            [
             0.4444444444444444,
             "#bd3786"
            ],
            [
             0.5555555555555556,
             "#d8576b"
            ],
            [
             0.6666666666666666,
             "#ed7953"
            ],
            [
             0.7777777777777778,
             "#fb9f3a"
            ],
            [
             0.8888888888888888,
             "#fdca26"
            ],
            [
             1,
             "#f0f921"
            ]
           ],
           "sequentialminus": [
            [
             0,
             "#0d0887"
            ],
            [
             0.1111111111111111,
             "#46039f"
            ],
            [
             0.2222222222222222,
             "#7201a8"
            ],
            [
             0.3333333333333333,
             "#9c179e"
            ],
            [
             0.4444444444444444,
             "#bd3786"
            ],
            [
             0.5555555555555556,
             "#d8576b"
            ],
            [
             0.6666666666666666,
             "#ed7953"
            ],
            [
             0.7777777777777778,
             "#fb9f3a"
            ],
            [
             0.8888888888888888,
             "#fdca26"
            ],
            [
             1,
             "#f0f921"
            ]
           ]
          },
          "colorway": [
           "#636efa",
           "#EF553B",
           "#00cc96",
           "#ab63fa",
           "#FFA15A",
           "#19d3f3",
           "#FF6692",
           "#B6E880",
           "#FF97FF",
           "#FECB52"
          ],
          "font": {
           "color": "#2a3f5f"
          },
          "geo": {
           "bgcolor": "white",
           "lakecolor": "white",
           "landcolor": "#E5ECF6",
           "showlakes": true,
           "showland": true,
           "subunitcolor": "white"
          },
          "hoverlabel": {
           "align": "left"
          },
          "hovermode": "closest",
          "mapbox": {
           "style": "light"
          },
          "paper_bgcolor": "white",
          "plot_bgcolor": "#E5ECF6",
          "polar": {
           "angularaxis": {
            "gridcolor": "white",
            "linecolor": "white",
            "ticks": ""
           },
           "bgcolor": "#E5ECF6",
           "radialaxis": {
            "gridcolor": "white",
            "linecolor": "white",
            "ticks": ""
           }
          },
          "scene": {
           "xaxis": {
            "backgroundcolor": "#E5ECF6",
            "gridcolor": "white",
            "gridwidth": 2,
            "linecolor": "white",
            "showbackground": true,
            "ticks": "",
            "zerolinecolor": "white"
           },
           "yaxis": {
            "backgroundcolor": "#E5ECF6",
            "gridcolor": "white",
            "gridwidth": 2,
            "linecolor": "white",
            "showbackground": true,
            "ticks": "",
            "zerolinecolor": "white"
           },
           "zaxis": {
            "backgroundcolor": "#E5ECF6",
            "gridcolor": "white",
            "gridwidth": 2,
            "linecolor": "white",
            "showbackground": true,
            "ticks": "",
            "zerolinecolor": "white"
           }
          },
          "shapedefaults": {
           "line": {
            "color": "#2a3f5f"
           }
          },
          "ternary": {
           "aaxis": {
            "gridcolor": "white",
            "linecolor": "white",
            "ticks": ""
           },
           "baxis": {
            "gridcolor": "white",
            "linecolor": "white",
            "ticks": ""
           },
           "bgcolor": "#E5ECF6",
           "caxis": {
            "gridcolor": "white",
            "linecolor": "white",
            "ticks": ""
           }
          },
          "title": {
           "x": 0.05
          },
          "xaxis": {
           "automargin": true,
           "gridcolor": "white",
           "linecolor": "white",
           "ticks": "",
           "title": {
            "standoff": 15
           },
           "zerolinecolor": "white",
           "zerolinewidth": 2
          },
          "yaxis": {
           "automargin": true,
           "gridcolor": "white",
           "linecolor": "white",
           "ticks": "",
           "title": {
            "standoff": 15
           },
           "zerolinecolor": "white",
           "zerolinewidth": 2
          }
         }
        },
        "title": {
         "text": "Cumulative Returns (non-compounded)"
        },
        "xaxis": {
         "anchor": "y",
         "domain": [
          0,
          1
         ],
         "title": {
          "text": "Observations"
         }
        },
        "yaxis": {
         "anchor": "x",
         "domain": [
          0,
          1
         ],
         "tickformat": ".2%",
         "title": {
          "text": "Cumulative Returns"
         }
        }
       }
      }
     },
     "metadata": {},
     "output_type": "display_data"
    }
   ],
   "source": [
    "fig = population.plot_cumulative_returns()\n",
    "# show(fig) is only used for the documentation sticker.\n",
    "show(fig)"
   ]
  },
  {
   "cell_type": "code",
   "execution_count": 18,
   "metadata": {},
   "outputs": [
    {
     "data": {
      "text/html": [
       "<div>\n",
       "<style scoped>\n",
       "    .dataframe tbody tr th:only-of-type {\n",
       "        vertical-align: middle;\n",
       "    }\n",
       "\n",
       "    .dataframe tbody tr th {\n",
       "        vertical-align: top;\n",
       "    }\n",
       "\n",
       "    .dataframe thead th {\n",
       "        text-align: right;\n",
       "    }\n",
       "</style>\n",
       "<table border=\"1\" class=\"dataframe\">\n",
       "  <thead>\n",
       "    <tr style=\"text-align: right;\">\n",
       "      <th></th>\n",
       "      <th>Max Sharpe</th>\n",
       "      <th>Inverse Vol</th>\n",
       "    </tr>\n",
       "  </thead>\n",
       "  <tbody>\n",
       "    <tr>\n",
       "      <th>Mean</th>\n",
       "      <td>0.19%</td>\n",
       "      <td>0.12%</td>\n",
       "    </tr>\n",
       "    <tr>\n",
       "      <th>Annualized Mean</th>\n",
       "      <td>48.65%</td>\n",
       "      <td>31.31%</td>\n",
       "    </tr>\n",
       "    <tr>\n",
       "      <th>Variance</th>\n",
       "      <td>0.013%</td>\n",
       "      <td>0.0048%</td>\n",
       "    </tr>\n",
       "    <tr>\n",
       "      <th>Annualized Variance</th>\n",
       "      <td>3.29%</td>\n",
       "      <td>1.21%</td>\n",
       "    </tr>\n",
       "    <tr>\n",
       "      <th>Semi-Variance</th>\n",
       "      <td>0.0064%</td>\n",
       "      <td>0.0025%</td>\n",
       "    </tr>\n",
       "    <tr>\n",
       "      <th>Annualized Semi-Variance</th>\n",
       "      <td>1.60%</td>\n",
       "      <td>0.64%</td>\n",
       "    </tr>\n",
       "    <tr>\n",
       "      <th>Standard Deviation</th>\n",
       "      <td>1.14%</td>\n",
       "      <td>0.69%</td>\n",
       "    </tr>\n",
       "    <tr>\n",
       "      <th>Annualized Standard Deviation</th>\n",
       "      <td>18.15%</td>\n",
       "      <td>10.99%</td>\n",
       "    </tr>\n",
       "    <tr>\n",
       "      <th>Semi-Deviation</th>\n",
       "      <td>0.80%</td>\n",
       "      <td>0.50%</td>\n",
       "    </tr>\n",
       "    <tr>\n",
       "      <th>Annualized Semi-Deviation</th>\n",
       "      <td>12.67%</td>\n",
       "      <td>7.99%</td>\n",
       "    </tr>\n",
       "    <tr>\n",
       "      <th>Mean Absolute Deviation</th>\n",
       "      <td>0.85%</td>\n",
       "      <td>0.53%</td>\n",
       "    </tr>\n",
       "    <tr>\n",
       "      <th>CVaR at 95%</th>\n",
       "      <td>2.30%</td>\n",
       "      <td>1.44%</td>\n",
       "    </tr>\n",
       "    <tr>\n",
       "      <th>EVaR at 95%</th>\n",
       "      <td>3.11%</td>\n",
       "      <td>1.98%</td>\n",
       "    </tr>\n",
       "    <tr>\n",
       "      <th>Worst Realization</th>\n",
       "      <td>4.23%</td>\n",
       "      <td>2.89%</td>\n",
       "    </tr>\n",
       "    <tr>\n",
       "      <th>CDaR at 95%</th>\n",
       "      <td>7.57%</td>\n",
       "      <td>4.97%</td>\n",
       "    </tr>\n",
       "    <tr>\n",
       "      <th>MAX Drawdown</th>\n",
       "      <td>9.72%</td>\n",
       "      <td>7.59%</td>\n",
       "    </tr>\n",
       "    <tr>\n",
       "      <th>Average Drawdown</th>\n",
       "      <td>2.08%</td>\n",
       "      <td>1.27%</td>\n",
       "    </tr>\n",
       "    <tr>\n",
       "      <th>EDaR at 95%</th>\n",
       "      <td>8.22%</td>\n",
       "      <td>5.81%</td>\n",
       "    </tr>\n",
       "    <tr>\n",
       "      <th>First Lower Partial Moment</th>\n",
       "      <td>0.42%</td>\n",
       "      <td>0.27%</td>\n",
       "    </tr>\n",
       "    <tr>\n",
       "      <th>Ulcer Index</th>\n",
       "      <td>0.030</td>\n",
       "      <td>0.019</td>\n",
       "    </tr>\n",
       "    <tr>\n",
       "      <th>Gini Mean Difference</th>\n",
       "      <td>1.23%</td>\n",
       "      <td>0.77%</td>\n",
       "    </tr>\n",
       "    <tr>\n",
       "      <th>Value at Risk at 95%</th>\n",
       "      <td>1.60%</td>\n",
       "      <td>1.02%</td>\n",
       "    </tr>\n",
       "    <tr>\n",
       "      <th>Drawdown at Risk at 95%</th>\n",
       "      <td>6.57%</td>\n",
       "      <td>4.21%</td>\n",
       "    </tr>\n",
       "    <tr>\n",
       "      <th>Entropic Risk Measure at 95%</th>\n",
       "      <td>2.99</td>\n",
       "      <td>2.99</td>\n",
       "    </tr>\n",
       "    <tr>\n",
       "      <th>Fourth Central Moment</th>\n",
       "      <td>0.000010%</td>\n",
       "      <td>0.000001%</td>\n",
       "    </tr>\n",
       "    <tr>\n",
       "      <th>Fourth Lower Partial Moment</th>\n",
       "      <td>0.000004%</td>\n",
       "      <td>0.000001%</td>\n",
       "    </tr>\n",
       "    <tr>\n",
       "      <th>Skew</th>\n",
       "      <td>24.26%</td>\n",
       "      <td>-28.83%</td>\n",
       "    </tr>\n",
       "    <tr>\n",
       "      <th>Kurtosis</th>\n",
       "      <td>611.16%</td>\n",
       "      <td>397.29%</td>\n",
       "    </tr>\n",
       "    <tr>\n",
       "      <th>Sharpe Ratio</th>\n",
       "      <td>0.17</td>\n",
       "      <td>0.18</td>\n",
       "    </tr>\n",
       "    <tr>\n",
       "      <th>Annualized Sharpe Ratio</th>\n",
       "      <td>2.68</td>\n",
       "      <td>2.85</td>\n",
       "    </tr>\n",
       "    <tr>\n",
       "      <th>Sortino Ratio</th>\n",
       "      <td>0.24</td>\n",
       "      <td>0.25</td>\n",
       "    </tr>\n",
       "    <tr>\n",
       "      <th>Annualized Sortino Ratio</th>\n",
       "      <td>3.84</td>\n",
       "      <td>3.92</td>\n",
       "    </tr>\n",
       "    <tr>\n",
       "      <th>Mean Absolute Deviation Ratio</th>\n",
       "      <td>0.23</td>\n",
       "      <td>0.23</td>\n",
       "    </tr>\n",
       "    <tr>\n",
       "      <th>First Lower Partial Moment Ratio</th>\n",
       "      <td>0.46</td>\n",
       "      <td>0.47</td>\n",
       "    </tr>\n",
       "    <tr>\n",
       "      <th>Value at Risk Ratio at 95%</th>\n",
       "      <td>0.12</td>\n",
       "      <td>0.12</td>\n",
       "    </tr>\n",
       "    <tr>\n",
       "      <th>CVaR Ratio at 95%</th>\n",
       "      <td>0.084</td>\n",
       "      <td>0.086</td>\n",
       "    </tr>\n",
       "    <tr>\n",
       "      <th>Entropic Risk Measure Ratio at 95%</th>\n",
       "      <td>0.00064</td>\n",
       "      <td>0.00041</td>\n",
       "    </tr>\n",
       "    <tr>\n",
       "      <th>EVaR Ratio at 95%</th>\n",
       "      <td>0.062</td>\n",
       "      <td>0.063</td>\n",
       "    </tr>\n",
       "    <tr>\n",
       "      <th>Worst Realization Ratio</th>\n",
       "      <td>0.046</td>\n",
       "      <td>0.043</td>\n",
       "    </tr>\n",
       "    <tr>\n",
       "      <th>Drawdown at Risk Ratio at 95%</th>\n",
       "      <td>0.029</td>\n",
       "      <td>0.029</td>\n",
       "    </tr>\n",
       "    <tr>\n",
       "      <th>CDaR Ratio at 95%</th>\n",
       "      <td>0.026</td>\n",
       "      <td>0.025</td>\n",
       "    </tr>\n",
       "    <tr>\n",
       "      <th>Calmar Ratio</th>\n",
       "      <td>0.020</td>\n",
       "      <td>0.016</td>\n",
       "    </tr>\n",
       "    <tr>\n",
       "      <th>Average Drawdown Ratio</th>\n",
       "      <td>0.093</td>\n",
       "      <td>0.098</td>\n",
       "    </tr>\n",
       "    <tr>\n",
       "      <th>EDaR Ratio at 95%</th>\n",
       "      <td>0.023</td>\n",
       "      <td>0.021</td>\n",
       "    </tr>\n",
       "    <tr>\n",
       "      <th>Ulcer Index Ratio</th>\n",
       "      <td>0.064</td>\n",
       "      <td>0.064</td>\n",
       "    </tr>\n",
       "    <tr>\n",
       "      <th>Gini Mean Difference Ratio</th>\n",
       "      <td>0.16</td>\n",
       "      <td>0.16</td>\n",
       "    </tr>\n",
       "    <tr>\n",
       "      <th>Effective Number of Assets</th>\n",
       "      <td>2.2472556243642394</td>\n",
       "      <td>9.993052157352208</td>\n",
       "    </tr>\n",
       "    <tr>\n",
       "      <th>Assets Number</th>\n",
       "      <td>11</td>\n",
       "      <td>11</td>\n",
       "    </tr>\n",
       "  </tbody>\n",
       "</table>\n",
       "</div>"
      ],
      "text/plain": [
       "                                            Max Sharpe        Inverse Vol\n",
       "Mean                                             0.19%              0.12%\n",
       "Annualized Mean                                 48.65%             31.31%\n",
       "Variance                                        0.013%            0.0048%\n",
       "Annualized Variance                              3.29%              1.21%\n",
       "Semi-Variance                                  0.0064%            0.0025%\n",
       "Annualized Semi-Variance                         1.60%              0.64%\n",
       "Standard Deviation                               1.14%              0.69%\n",
       "Annualized Standard Deviation                   18.15%             10.99%\n",
       "Semi-Deviation                                   0.80%              0.50%\n",
       "Annualized Semi-Deviation                       12.67%              7.99%\n",
       "Mean Absolute Deviation                          0.85%              0.53%\n",
       "CVaR at 95%                                      2.30%              1.44%\n",
       "EVaR at 95%                                      3.11%              1.98%\n",
       "Worst Realization                                4.23%              2.89%\n",
       "CDaR at 95%                                      7.57%              4.97%\n",
       "MAX Drawdown                                     9.72%              7.59%\n",
       "Average Drawdown                                 2.08%              1.27%\n",
       "EDaR at 95%                                      8.22%              5.81%\n",
       "First Lower Partial Moment                       0.42%              0.27%\n",
       "Ulcer Index                                      0.030              0.019\n",
       "Gini Mean Difference                             1.23%              0.77%\n",
       "Value at Risk at 95%                             1.60%              1.02%\n",
       "Drawdown at Risk at 95%                          6.57%              4.21%\n",
       "Entropic Risk Measure at 95%                      2.99               2.99\n",
       "Fourth Central Moment                        0.000010%          0.000001%\n",
       "Fourth Lower Partial Moment                  0.000004%          0.000001%\n",
       "Skew                                            24.26%            -28.83%\n",
       "Kurtosis                                       611.16%            397.29%\n",
       "Sharpe Ratio                                      0.17               0.18\n",
       "Annualized Sharpe Ratio                           2.68               2.85\n",
       "Sortino Ratio                                     0.24               0.25\n",
       "Annualized Sortino Ratio                          3.84               3.92\n",
       "Mean Absolute Deviation Ratio                     0.23               0.23\n",
       "First Lower Partial Moment Ratio                  0.46               0.47\n",
       "Value at Risk Ratio at 95%                        0.12               0.12\n",
       "CVaR Ratio at 95%                                0.084              0.086\n",
       "Entropic Risk Measure Ratio at 95%             0.00064            0.00041\n",
       "EVaR Ratio at 95%                                0.062              0.063\n",
       "Worst Realization Ratio                          0.046              0.043\n",
       "Drawdown at Risk Ratio at 95%                    0.029              0.029\n",
       "CDaR Ratio at 95%                                0.026              0.025\n",
       "Calmar Ratio                                     0.020              0.016\n",
       "Average Drawdown Ratio                           0.093              0.098\n",
       "EDaR Ratio at 95%                                0.023              0.021\n",
       "Ulcer Index Ratio                                0.064              0.064\n",
       "Gini Mean Difference Ratio                        0.16               0.16\n",
       "Effective Number of Assets          2.2472556243642394  9.993052157352208\n",
       "Assets Number                                       11                 11"
      ]
     },
     "execution_count": 18,
     "metadata": {},
     "output_type": "execute_result"
    }
   ],
   "source": [
    "population.summary()"
   ]
  },
  {
   "cell_type": "code",
   "execution_count": 22,
   "metadata": {},
   "outputs": [],
   "source": [
    "import mlflow"
   ]
  },
  {
   "cell_type": "code",
   "execution_count": 29,
   "metadata": {},
   "outputs": [
    {
     "data": {
      "text/plain": [
       "{'Mean': '0.19%',\n",
       " 'Annualized Mean': '48.65%',\n",
       " 'Variance': '0.013%',\n",
       " 'Annualized Variance': '3.29%',\n",
       " 'Semi-Variance': '0.0064%',\n",
       " 'Annualized Semi-Variance': '1.60%',\n",
       " 'Standard Deviation': '1.14%',\n",
       " 'Annualized Standard Deviation': '18.15%',\n",
       " 'Semi-Deviation': '0.80%',\n",
       " 'Annualized Semi-Deviation': '12.67%',\n",
       " 'Mean Absolute Deviation': '0.85%',\n",
       " 'CVaR at 95%': '2.30%',\n",
       " 'EVaR at 95%': '3.11%',\n",
       " 'Worst Realization': '4.23%',\n",
       " 'CDaR at 95%': '7.57%',\n",
       " 'MAX Drawdown': '9.72%',\n",
       " 'Average Drawdown': '2.08%',\n",
       " 'EDaR at 95%': '8.22%',\n",
       " 'First Lower Partial Moment': '0.42%',\n",
       " 'Ulcer Index': '0.030',\n",
       " 'Gini Mean Difference': '1.23%',\n",
       " 'Value at Risk at 95%': '1.60%',\n",
       " 'Drawdown at Risk at 95%': '6.57%',\n",
       " 'Entropic Risk Measure at 95%': '2.99',\n",
       " 'Fourth Central Moment': '0.000010%',\n",
       " 'Fourth Lower Partial Moment': '0.000004%',\n",
       " 'Skew': '24.26%',\n",
       " 'Kurtosis': '611.16%',\n",
       " 'Sharpe Ratio': '0.17',\n",
       " 'Annualized Sharpe Ratio': '2.68',\n",
       " 'Sortino Ratio': '0.24',\n",
       " 'Annualized Sortino Ratio': '3.84',\n",
       " 'Mean Absolute Deviation Ratio': '0.23',\n",
       " 'First Lower Partial Moment Ratio': '0.46',\n",
       " 'Value at Risk Ratio at 95%': '0.12',\n",
       " 'CVaR Ratio at 95%': '0.084',\n",
       " 'Entropic Risk Measure Ratio at 95%': '0.00064',\n",
       " 'EVaR Ratio at 95%': '0.062',\n",
       " 'Worst Realization Ratio': '0.046',\n",
       " 'Drawdown at Risk Ratio at 95%': '0.029',\n",
       " 'CDaR Ratio at 95%': '0.026',\n",
       " 'Calmar Ratio': '0.020',\n",
       " 'Average Drawdown Ratio': '0.093',\n",
       " 'EDaR Ratio at 95%': '0.023',\n",
       " 'Ulcer Index Ratio': '0.064',\n",
       " 'Gini Mean Difference Ratio': '0.16',\n",
       " 'Effective Number of Assets': '2.2472556243642394',\n",
       " 'Assets Number': '11'}"
      ]
     },
     "execution_count": 29,
     "metadata": {},
     "output_type": "execute_result"
    }
   ],
   "source": [
    "pred_model.summary().to_dict()"
   ]
  },
  {
   "cell_type": "code",
   "execution_count": 43,
   "metadata": {},
   "outputs": [
    {
     "data": {
      "text/plain": [
       "{'Mean': '0.19%',\n",
       " 'Annualized Mean': '48.65%',\n",
       " 'Variance': '0.013%',\n",
       " 'Annualized Variance': '3.29%',\n",
       " 'Semi-Variance': '0.0064%',\n",
       " 'Annualized Semi-Variance': '1.60%',\n",
       " 'Standard Deviation': '1.14%',\n",
       " 'Annualized Standard Deviation': '18.15%',\n",
       " 'Semi-Deviation': '0.80%',\n",
       " 'Annualized Semi-Deviation': '12.67%',\n",
       " 'Mean Absolute Deviation': '0.85%',\n",
       " 'CVaR at 95%': '2.30%',\n",
       " 'EVaR at 95%': '3.11%',\n",
       " 'Worst Realization': '4.23%',\n",
       " 'CDaR at 95%': '7.57%',\n",
       " 'MAX Drawdown': '9.72%',\n",
       " 'Average Drawdown': '2.08%',\n",
       " 'EDaR at 95%': '8.22%',\n",
       " 'First Lower Partial Moment': '0.42%',\n",
       " 'Ulcer Index': '0.030',\n",
       " 'Gini Mean Difference': '1.23%',\n",
       " 'Value at Risk at 95%': '1.60%',\n",
       " 'Drawdown at Risk at 95%': '6.57%',\n",
       " 'Entropic Risk Measure at 95%': '2.99',\n",
       " 'Fourth Central Moment': '0.000010%',\n",
       " 'Fourth Lower Partial Moment': '0.000004%',\n",
       " 'Skew': '24.26%',\n",
       " 'Kurtosis': '611.16%',\n",
       " 'Sharpe Ratio': '0.17',\n",
       " 'Annualized Sharpe Ratio': '2.68',\n",
       " 'Sortino Ratio': '0.24',\n",
       " 'Annualized Sortino Ratio': '3.84',\n",
       " 'Mean Absolute Deviation Ratio': '0.23',\n",
       " 'First Lower Partial Moment Ratio': '0.46',\n",
       " 'Value at Risk Ratio at 95%': '0.12',\n",
       " 'CVaR Ratio at 95%': '0.084',\n",
       " 'Entropic Risk Measure Ratio at 95%': '0.00064',\n",
       " 'EVaR Ratio at 95%': '0.062',\n",
       " 'Worst Realization Ratio': '0.046',\n",
       " 'Drawdown at Risk Ratio at 95%': '0.029',\n",
       " 'CDaR Ratio at 95%': '0.026',\n",
       " 'Calmar Ratio': '0.020',\n",
       " 'Average Drawdown Ratio': '0.093',\n",
       " 'EDaR Ratio at 95%': '0.023',\n",
       " 'Ulcer Index Ratio': '0.064',\n",
       " 'Gini Mean Difference Ratio': '0.16',\n",
       " 'Effective Number of Assets': '2.2472556243642394',\n",
       " 'Assets Number': '11'}"
      ]
     },
     "execution_count": 43,
     "metadata": {},
     "output_type": "execute_result"
    }
   ],
   "source": [
    "metrics = pred_model.summary().to_dict()\n",
    "metrics"
   ]
  },
  {
   "cell_type": "code",
   "execution_count": 51,
   "metadata": {},
   "outputs": [
    {
     "data": {
      "text/plain": [
       "{'Mean': 0.19,\n",
       " 'Annualized_Mean': 48.65,\n",
       " 'Variance': 0.013,\n",
       " 'Annualized_Variance': 3.29,\n",
       " 'Semi-Variance': 0.0064,\n",
       " 'Annualized_Semi-Variance': 1.6,\n",
       " 'Standard_Deviation': 1.14,\n",
       " 'Annualized_Standard_Deviation': 18.15,\n",
       " 'Semi-Deviation': 0.8,\n",
       " 'Annualized_Semi-Deviation': 12.67,\n",
       " 'Mean_Absolute_Deviation': 0.85,\n",
       " 'CVaR_at_95percent': 2.3,\n",
       " 'EVaR_at_95percent': 3.11,\n",
       " 'Worst_Realization': 4.23,\n",
       " 'CDaR_at_95percent': 7.57,\n",
       " 'MAX_Drawdown': 9.72,\n",
       " 'Average_Drawdown': 2.08,\n",
       " 'EDaR_at_95percent': 8.22,\n",
       " 'First_Lower_Partial_Moment': 0.42,\n",
       " 'Ulcer_Index': 0.03,\n",
       " 'Gini_Mean_Difference': 1.23,\n",
       " 'Value_at_Risk_at_95percent': 1.6,\n",
       " 'Drawdown_at_Risk_at_95percent': 6.57,\n",
       " 'Entropic_Risk_Measure_at_95percent': 2.99,\n",
       " 'Fourth_Central_Moment': 1e-05,\n",
       " 'Fourth_Lower_Partial_Moment': 4e-06,\n",
       " 'Skew': 24.26,\n",
       " 'Kurtosis': 611.16,\n",
       " 'Sharpe_Ratio': 0.17,\n",
       " 'Annualized_Sharpe_Ratio': 2.68,\n",
       " 'Sortino_Ratio': 0.24,\n",
       " 'Annualized_Sortino_Ratio': 3.84,\n",
       " 'Mean_Absolute_Deviation_Ratio': 0.23,\n",
       " 'First_Lower_Partial_Moment_Ratio': 0.46,\n",
       " 'Value_at_Risk_Ratio_at_95percent': 0.12,\n",
       " 'CVaR_Ratio_at_95percent': 0.084,\n",
       " 'Entropic_Risk_Measure_Ratio_at_95percent': 0.00064,\n",
       " 'EVaR_Ratio_at_95percent': 0.062,\n",
       " 'Worst_Realization_Ratio': 0.046,\n",
       " 'Drawdown_at_Risk_Ratio_at_95percent': 0.029,\n",
       " 'CDaR_Ratio_at_95percent': 0.026,\n",
       " 'Calmar_Ratio': 0.02,\n",
       " 'Average_Drawdown_Ratio': 0.093,\n",
       " 'EDaR_Ratio_at_95percent': 0.023,\n",
       " 'Ulcer_Index_Ratio': 0.064,\n",
       " 'Gini_Mean_Difference_Ratio': 0.16,\n",
       " 'Effective_Number_of_Assets': 2.2472556243642394,\n",
       " 'Assets_Number': 11.0}"
      ]
     },
     "execution_count": 51,
     "metadata": {},
     "output_type": "execute_result"
    }
   ],
   "source": [
    "# convert the metrics to float or int, resolve percent signs\n",
    "# replace spaces with underscores\n",
    "metrics = {\n",
    "        k.replace(\" \", \"_\").replace(\"%\", \"percent\"): float(v.replace(\"%\", \"\")) if isinstance(v, str) else v\n",
    "        for k, v in pred_model.summary().to_dict().items()\n",
    "        if isinstance(v, (int, float)) or (isinstance(v, str) and v.replace(\"%\", \"\").replace(\".\", \"\").isdigit())\n",
    "    }\n",
    "metrics"
   ]
  },
  {
   "cell_type": "code",
   "execution_count": 64,
   "metadata": {},
   "outputs": [
    {
     "name": "stderr",
     "output_type": "stream",
     "text": [
      "2024/10/20 17:21:52 WARNING mlflow.utils.environment: Failed to resolve installed pip version. ``pip`` will be added to conda.yaml environment spec without a version specifier.\n",
      "2024/10/20 17:21:52 WARNING mlflow.models.model: Model logged without a signature and input example. Please set `input_example` parameter when logging the model to auto infer the model signature.\n",
      "2024/10/20 17:21:52 INFO mlflow.tracking._tracking_service.client: 🏃 View run mean-risk4 at: http://127.0.0.1:5000/#/experiments/721934320915735068/runs/1f1938bf5f5c4328b7d343c171868ba9.\n",
      "2024/10/20 17:21:52 INFO mlflow.tracking._tracking_service.client: 🧪 View experiment at: http://127.0.0.1:5000/#/experiments/721934320915735068.\n"
     ]
    }
   ],
   "source": [
    "import mlflow\n",
    "\n",
    "# Correct the tracking URI\n",
    "mlflow.set_tracking_uri(\"http://127.0.0.1:5000/\")\n",
    "\n",
    "mlflow.set_experiment(\"mean-risk2\")\n",
    "\n",
    "with mlflow.start_run(run_name=\"mean-risk4\"):\n",
    "    mlflow.log_params(\n",
    "        {\n",
    "            \"risk_measure\": \"ANNUALIZED_VARIANCE\",  # Assuming RiskMeasure.ANNUALIZED_VARIANCE is a string\n",
    "            \"objective_function\": \"MAXIMIZE_RATIO\",  # Assuming ObjectiveFunction.MAXIMIZE_RATIO is a string\n",
    "        }\n",
    "    )    \n",
    "    mlflow.log_metrics(metrics)\n",
    "    mlflow.sklearn.log_model(model, \"model\")"
   ]
  },
  {
   "cell_type": "code",
   "execution_count": 54,
   "metadata": {},
   "outputs": [
    {
     "data": {
      "application/vnd.plotly.v1+json": {
       "config": {
        "plotlyServerURL": "https://plotly.com"
       },
       "data": [
        {
         "hovertemplate": "variable=Max Sharpe<br>index=%{x}<br>value=%{y}<extra></extra>",
         "legendgroup": "Max Sharpe",
         "line": {
          "color": "#636efa",
          "dash": "solid"
         },
         "marker": {
          "symbol": "circle"
         },
         "mode": "lines",
         "name": "Max Sharpe",
         "orientation": "v",
         "showlegend": true,
         "type": "scatter",
         "x": [
          "2023-02-27T00:00:00",
          "2023-02-28T00:00:00",
          "2023-03-01T00:00:00",
          "2023-03-02T00:00:00",
          "2023-03-03T00:00:00",
          "2023-03-06T00:00:00",
          "2023-03-07T00:00:00",
          "2023-03-08T00:00:00",
          "2023-03-09T00:00:00",
          "2023-03-10T00:00:00",
          "2023-03-13T00:00:00",
          "2023-03-14T00:00:00",
          "2023-03-15T00:00:00",
          "2023-03-16T00:00:00",
          "2023-03-17T00:00:00",
          "2023-03-20T00:00:00",
          "2023-03-21T00:00:00",
          "2023-03-22T00:00:00",
          "2023-03-23T00:00:00",
          "2023-03-24T00:00:00",
          "2023-03-27T00:00:00",
          "2023-03-28T00:00:00",
          "2023-03-29T00:00:00",
          "2023-03-30T00:00:00",
          "2023-03-31T00:00:00",
          "2023-04-03T00:00:00",
          "2023-04-04T00:00:00",
          "2023-04-05T00:00:00",
          "2023-04-06T00:00:00",
          "2023-04-10T00:00:00",
          "2023-04-11T00:00:00",
          "2023-04-12T00:00:00",
          "2023-04-13T00:00:00",
          "2023-04-14T00:00:00",
          "2023-04-17T00:00:00",
          "2023-04-18T00:00:00",
          "2023-04-19T00:00:00",
          "2023-04-20T00:00:00",
          "2023-04-21T00:00:00",
          "2023-04-24T00:00:00",
          "2023-04-25T00:00:00",
          "2023-04-26T00:00:00",
          "2023-04-27T00:00:00",
          "2023-04-28T00:00:00",
          "2023-05-01T00:00:00",
          "2023-05-02T00:00:00",
          "2023-05-03T00:00:00",
          "2023-05-04T00:00:00",
          "2023-05-05T00:00:00",
          "2023-05-08T00:00:00",
          "2023-05-09T00:00:00",
          "2023-05-10T00:00:00",
          "2023-05-11T00:00:00",
          "2023-05-12T00:00:00",
          "2023-05-15T00:00:00",
          "2023-05-16T00:00:00",
          "2023-05-17T00:00:00",
          "2023-05-18T00:00:00",
          "2023-05-19T00:00:00",
          "2023-05-22T00:00:00",
          "2023-05-23T00:00:00",
          "2023-05-24T00:00:00",
          "2023-05-25T00:00:00",
          "2023-05-26T00:00:00",
          "2023-05-30T00:00:00",
          "2023-05-31T00:00:00",
          "2023-06-01T00:00:00",
          "2023-06-02T00:00:00",
          "2023-06-05T00:00:00",
          "2023-06-06T00:00:00",
          "2023-06-07T00:00:00",
          "2023-06-08T00:00:00",
          "2023-06-09T00:00:00",
          "2023-06-12T00:00:00",
          "2023-06-13T00:00:00",
          "2023-06-14T00:00:00",
          "2023-06-15T00:00:00",
          "2023-06-16T00:00:00",
          "2023-06-20T00:00:00",
          "2023-06-21T00:00:00",
          "2023-06-22T00:00:00",
          "2023-06-23T00:00:00",
          "2023-06-26T00:00:00",
          "2023-06-27T00:00:00",
          "2023-06-28T00:00:00",
          "2023-06-29T00:00:00",
          "2023-06-30T00:00:00",
          "2023-07-03T00:00:00",
          "2023-07-05T00:00:00",
          "2023-07-06T00:00:00",
          "2023-07-07T00:00:00",
          "2023-07-10T00:00:00",
          "2023-07-11T00:00:00",
          "2023-07-12T00:00:00",
          "2023-07-13T00:00:00",
          "2023-07-14T00:00:00",
          "2023-07-17T00:00:00",
          "2023-07-18T00:00:00",
          "2023-07-19T00:00:00",
          "2023-07-20T00:00:00",
          "2023-07-21T00:00:00",
          "2023-07-24T00:00:00",
          "2023-07-25T00:00:00",
          "2023-07-26T00:00:00",
          "2023-07-27T00:00:00",
          "2023-07-28T00:00:00",
          "2023-07-31T00:00:00",
          "2023-08-01T00:00:00",
          "2023-08-02T00:00:00",
          "2023-08-03T00:00:00",
          "2023-08-04T00:00:00",
          "2023-08-07T00:00:00",
          "2023-08-08T00:00:00",
          "2023-08-09T00:00:00",
          "2023-08-10T00:00:00",
          "2023-08-11T00:00:00",
          "2023-08-14T00:00:00",
          "2023-08-15T00:00:00",
          "2023-08-16T00:00:00",
          "2023-08-17T00:00:00",
          "2023-08-18T00:00:00",
          "2023-08-21T00:00:00",
          "2023-08-22T00:00:00",
          "2023-08-23T00:00:00",
          "2023-08-24T00:00:00",
          "2023-08-25T00:00:00",
          "2023-08-28T00:00:00",
          "2023-08-29T00:00:00",
          "2023-08-30T00:00:00",
          "2023-08-31T00:00:00",
          "2023-09-01T00:00:00",
          "2023-09-05T00:00:00",
          "2023-09-06T00:00:00",
          "2023-09-07T00:00:00",
          "2023-09-08T00:00:00",
          "2023-09-11T00:00:00",
          "2023-09-12T00:00:00",
          "2023-09-13T00:00:00",
          "2023-09-14T00:00:00",
          "2023-09-15T00:00:00",
          "2023-09-18T00:00:00",
          "2023-09-19T00:00:00",
          "2023-09-20T00:00:00",
          "2023-09-21T00:00:00",
          "2023-09-22T00:00:00",
          "2023-09-25T00:00:00",
          "2023-09-26T00:00:00",
          "2023-09-27T00:00:00",
          "2023-09-28T00:00:00",
          "2023-09-29T00:00:00",
          "2023-10-02T00:00:00",
          "2023-10-03T00:00:00",
          "2023-10-04T00:00:00",
          "2023-10-05T00:00:00",
          "2023-10-06T00:00:00",
          "2023-10-09T00:00:00",
          "2023-10-10T00:00:00",
          "2023-10-11T00:00:00",
          "2023-10-12T00:00:00",
          "2023-10-13T00:00:00",
          "2023-10-16T00:00:00",
          "2023-10-17T00:00:00",
          "2023-10-18T00:00:00",
          "2023-10-19T00:00:00",
          "2023-10-20T00:00:00",
          "2023-10-23T00:00:00",
          "2023-10-24T00:00:00",
          "2023-10-25T00:00:00",
          "2023-10-26T00:00:00",
          "2023-10-27T00:00:00",
          "2023-10-30T00:00:00",
          "2023-10-31T00:00:00",
          "2023-11-01T00:00:00",
          "2023-11-02T00:00:00",
          "2023-11-03T00:00:00",
          "2023-11-06T00:00:00",
          "2023-11-07T00:00:00",
          "2023-11-08T00:00:00",
          "2023-11-09T00:00:00",
          "2023-11-10T00:00:00",
          "2023-11-13T00:00:00",
          "2023-11-14T00:00:00",
          "2023-11-15T00:00:00",
          "2023-11-16T00:00:00",
          "2023-11-17T00:00:00",
          "2023-11-20T00:00:00",
          "2023-11-21T00:00:00",
          "2023-11-22T00:00:00",
          "2023-11-24T00:00:00",
          "2023-11-27T00:00:00",
          "2023-11-28T00:00:00",
          "2023-11-29T00:00:00",
          "2023-11-30T00:00:00",
          "2023-12-01T00:00:00",
          "2023-12-04T00:00:00",
          "2023-12-05T00:00:00",
          "2023-12-06T00:00:00",
          "2023-12-07T00:00:00",
          "2023-12-08T00:00:00",
          "2023-12-11T00:00:00",
          "2023-12-12T00:00:00",
          "2023-12-13T00:00:00",
          "2023-12-14T00:00:00",
          "2023-12-15T00:00:00",
          "2023-12-18T00:00:00",
          "2023-12-19T00:00:00",
          "2023-12-20T00:00:00",
          "2023-12-21T00:00:00",
          "2023-12-22T00:00:00",
          "2023-12-26T00:00:00",
          "2023-12-27T00:00:00",
          "2023-12-28T00:00:00",
          "2023-12-29T00:00:00",
          "2024-01-02T00:00:00",
          "2024-01-03T00:00:00",
          "2024-01-04T00:00:00",
          "2024-01-05T00:00:00",
          "2024-01-08T00:00:00",
          "2024-01-09T00:00:00",
          "2024-01-10T00:00:00",
          "2024-01-11T00:00:00",
          "2024-01-12T00:00:00",
          "2024-01-16T00:00:00",
          "2024-01-17T00:00:00",
          "2024-01-18T00:00:00",
          "2024-01-19T00:00:00",
          "2024-01-22T00:00:00",
          "2024-01-23T00:00:00",
          "2024-01-24T00:00:00",
          "2024-01-25T00:00:00",
          "2024-01-26T00:00:00",
          "2024-01-29T00:00:00",
          "2024-01-30T00:00:00",
          "2024-01-31T00:00:00",
          "2024-02-01T00:00:00",
          "2024-02-02T00:00:00",
          "2024-02-05T00:00:00",
          "2024-02-06T00:00:00",
          "2024-02-07T00:00:00",
          "2024-02-08T00:00:00",
          "2024-02-09T00:00:00",
          "2024-02-12T00:00:00",
          "2024-02-13T00:00:00",
          "2024-02-14T00:00:00",
          "2024-02-15T00:00:00",
          "2024-02-16T00:00:00",
          "2024-02-20T00:00:00",
          "2024-02-21T00:00:00",
          "2024-02-22T00:00:00",
          "2024-02-23T00:00:00",
          "2024-02-26T00:00:00",
          "2024-02-27T00:00:00",
          "2024-02-28T00:00:00",
          "2024-02-29T00:00:00",
          "2024-03-01T00:00:00",
          "2024-03-04T00:00:00",
          "2024-03-05T00:00:00",
          "2024-03-06T00:00:00",
          "2024-03-07T00:00:00",
          "2024-03-08T00:00:00",
          "2024-03-11T00:00:00",
          "2024-03-12T00:00:00",
          "2024-03-13T00:00:00",
          "2024-03-14T00:00:00",
          "2024-03-15T00:00:00",
          "2024-03-18T00:00:00",
          "2024-03-19T00:00:00",
          "2024-03-20T00:00:00",
          "2024-03-21T00:00:00",
          "2024-03-22T00:00:00",
          "2024-03-25T00:00:00",
          "2024-03-26T00:00:00",
          "2024-03-27T00:00:00",
          "2024-03-28T00:00:00",
          "2024-04-01T00:00:00",
          "2024-04-02T00:00:00",
          "2024-04-03T00:00:00",
          "2024-04-04T00:00:00",
          "2024-04-05T00:00:00",
          "2024-04-08T00:00:00",
          "2024-04-09T00:00:00",
          "2024-04-10T00:00:00",
          "2024-04-11T00:00:00",
          "2024-04-12T00:00:00",
          "2024-04-15T00:00:00",
          "2024-04-16T00:00:00",
          "2024-04-17T00:00:00",
          "2024-04-18T00:00:00",
          "2024-04-19T00:00:00",
          "2024-04-22T00:00:00",
          "2024-04-23T00:00:00",
          "2024-04-24T00:00:00",
          "2024-04-25T00:00:00",
          "2024-04-26T00:00:00",
          "2024-04-29T00:00:00",
          "2024-04-30T00:00:00",
          "2024-05-01T00:00:00",
          "2024-05-02T00:00:00",
          "2024-05-03T00:00:00",
          "2024-05-06T00:00:00",
          "2024-05-07T00:00:00",
          "2024-05-08T00:00:00",
          "2024-05-09T00:00:00",
          "2024-05-10T00:00:00",
          "2024-05-13T00:00:00",
          "2024-05-14T00:00:00",
          "2024-05-15T00:00:00",
          "2024-05-16T00:00:00",
          "2024-05-17T00:00:00",
          "2024-05-20T00:00:00",
          "2024-05-21T00:00:00",
          "2024-05-22T00:00:00",
          "2024-05-23T00:00:00",
          "2024-05-24T00:00:00",
          "2024-05-28T00:00:00",
          "2024-05-29T00:00:00",
          "2024-05-30T00:00:00",
          "2024-05-31T00:00:00",
          "2024-06-03T00:00:00",
          "2024-06-04T00:00:00",
          "2024-06-05T00:00:00",
          "2024-06-06T00:00:00",
          "2024-06-07T00:00:00",
          "2024-06-10T00:00:00",
          "2024-06-11T00:00:00",
          "2024-06-12T00:00:00",
          "2024-06-13T00:00:00",
          "2024-06-14T00:00:00",
          "2024-06-17T00:00:00",
          "2024-06-18T00:00:00",
          "2024-06-20T00:00:00",
          "2024-06-21T00:00:00",
          "2024-06-24T00:00:00",
          "2024-06-25T00:00:00",
          "2024-06-26T00:00:00",
          "2024-06-27T00:00:00",
          "2024-06-28T00:00:00",
          "2024-07-01T00:00:00",
          "2024-07-02T00:00:00",
          "2024-07-03T00:00:00",
          "2024-07-05T00:00:00",
          "2024-07-08T00:00:00",
          "2024-07-09T00:00:00",
          "2024-07-10T00:00:00",
          "2024-07-11T00:00:00",
          "2024-07-12T00:00:00",
          "2024-07-15T00:00:00",
          "2024-07-16T00:00:00",
          "2024-07-17T00:00:00",
          "2024-07-18T00:00:00",
          "2024-07-19T00:00:00",
          "2024-07-22T00:00:00",
          "2024-07-23T00:00:00",
          "2024-07-24T00:00:00",
          "2024-07-25T00:00:00",
          "2024-07-26T00:00:00",
          "2024-07-29T00:00:00",
          "2024-07-30T00:00:00",
          "2024-07-31T00:00:00",
          "2024-08-01T00:00:00",
          "2024-08-02T00:00:00",
          "2024-08-05T00:00:00",
          "2024-08-06T00:00:00",
          "2024-08-07T00:00:00",
          "2024-08-08T00:00:00",
          "2024-08-09T00:00:00",
          "2024-08-12T00:00:00",
          "2024-08-13T00:00:00",
          "2024-08-14T00:00:00",
          "2024-08-15T00:00:00",
          "2024-08-16T00:00:00",
          "2024-08-19T00:00:00",
          "2024-08-20T00:00:00",
          "2024-08-21T00:00:00",
          "2024-08-22T00:00:00",
          "2024-08-23T00:00:00",
          "2024-08-26T00:00:00",
          "2024-08-27T00:00:00",
          "2024-08-28T00:00:00",
          "2024-08-29T00:00:00",
          "2024-08-30T00:00:00",
          "2024-09-03T00:00:00",
          "2024-09-04T00:00:00",
          "2024-09-05T00:00:00",
          "2024-09-06T00:00:00",
          "2024-09-09T00:00:00",
          "2024-09-10T00:00:00",
          "2024-09-11T00:00:00",
          "2024-09-12T00:00:00",
          "2024-09-13T00:00:00",
          "2024-09-16T00:00:00",
          "2024-09-17T00:00:00",
          "2024-09-18T00:00:00",
          "2024-09-19T00:00:00",
          "2024-09-20T00:00:00",
          "2024-09-23T00:00:00",
          "2024-09-24T00:00:00",
          "2024-09-25T00:00:00",
          "2024-09-26T00:00:00",
          "2024-09-27T00:00:00",
          "2024-09-30T00:00:00",
          "2024-10-01T00:00:00",
          "2024-10-02T00:00:00",
          "2024-10-03T00:00:00",
          "2024-10-04T00:00:00",
          "2024-10-07T00:00:00",
          "2024-10-08T00:00:00",
          "2024-10-09T00:00:00",
          "2024-10-10T00:00:00",
          "2024-10-11T00:00:00",
          "2024-10-14T00:00:00",
          "2024-10-15T00:00:00",
          "2024-10-16T00:00:00",
          "2024-10-17T00:00:00",
          "2024-10-18T00:00:00"
         ],
         "xaxis": "x",
         "y": [
          0.00869268486474597,
          0.002858397376296672,
          0.0022667054699579046,
          0.007651592954523471,
          0.022938500016178733,
          0.016886670070061276,
          0.002524920213953159,
          -0.00026781153055934273,
          -0.019332760028175352,
          -0.017439077440671004,
          -0.009894731258312755,
          0.012342463139868904,
          0.009759781174738833,
          0.03020214256859069,
          0.026950049855401843,
          0.03920765178587711,
          0.05012660172158667,
          0.03912493094373754,
          0.05229104906091219,
          0.0581580606459457,
          0.05593272897597096,
          0.05859378239270652,
          0.06611317735969456,
          0.07088745994883469,
          0.08074720045463808,
          0.09323123206000508,
          0.08431972253609801,
          0.08361664845999868,
          0.08625003846789879,
          0.09084791324683185,
          0.08750387805396243,
          0.08333697806225582,
          0.09020144790490109,
          0.08981679285784061,
          0.08990134121662675,
          0.09366297985502067,
          0.10224658736514083,
          0.09430115849521317,
          0.09725303312909299,
          0.10447197910011188,
          0.09685316268780125,
          0.09300633458163578,
          0.05074176747102269,
          0.06688745872519465,
          0.08610917470776105,
          0.06645390237107601,
          0.05073059822537014,
          0.03873335359635409,
          0.05654995763507095,
          0.05967482042839563,
          0.051192434901273204,
          0.051442753947676896,
          0.04687828161590803,
          0.046657226434595106,
          0.051133912153597125,
          0.0380298556950091,
          0.05065851829241855,
          0.06709650996407857,
          0.07051997651808911,
          0.06743630272280024,
          0.05453508459059936,
          0.04865383407831239,
          0.10976042444417611,
          0.11233282283800272,
          0.11561280763087686,
          0.10309139880474694,
          0.10065955101281474,
          0.11492451511707448,
          0.11313594193930208,
          0.10399146301195858,
          0.10184103856992402,
          0.11482536363487869,
          0.11834353162810793,
          0.12099917021413033,
          0.13525412314571525,
          0.13965748417521617,
          0.13662121812199232,
          0.14788536644519035,
          0.14976577234127503,
          0.14166914357009727,
          0.14332593975720698,
          0.13025963226141987,
          0.11689974387218556,
          0.11625544362382666,
          0.11127133641485645,
          0.11369011472925877,
          0.13186533709456486,
          0.13404368045528275,
          0.14406681141473768,
          0.13688947643576493,
          0.13255424436884675,
          0.12742015046410396,
          0.13510291688994588,
          0.14384091304471364,
          0.15642769232573123,
          0.15986653339998053,
          0.16193468058533855,
          0.1757672356252609,
          0.1785920205409852,
          0.18965539545910598,
          0.18849476391610825,
          0.18999312320904843,
          0.19108441769508971,
          0.19008265392602292,
          0.22203994874378202,
          0.23420635561667072,
          0.2323991546576997,
          0.22627921737410106,
          0.21361638386911133,
          0.21593981978106278,
          0.21200136977258954,
          0.22699203990633998,
          0.2197944171957145,
          0.21188909420109225,
          0.21383468738292008,
          0.20752618985018098,
          0.2293944511194756,
          0.22720643188743042,
          0.22006761755340154,
          0.21528806684067084,
          0.2170628340893598,
          0.2414234817826332,
          0.224977022207877,
          0.2291191646512427,
          0.2266775285130223,
          0.22159808880876714,
          0.23089655840053763,
          0.24481629823114182,
          0.2518239719656685,
          0.24732355862590327,
          0.24942221632950354,
          0.24138416185628472,
          0.23105074463683564,
          0.23839751279432422,
          0.23609263355258026,
          0.23216532184177413,
          0.23422890591653595,
          0.24469025182609425,
          0.25695136195484053,
          0.23834293545545487,
          0.24669370731668536,
          0.24170302640176233,
          0.23232361430900023,
          0.22126935982027943,
          0.22324712004865077,
          0.23626095432033803,
          0.23133385373383109,
          0.23598402061910687,
          0.23636234099069262,
          0.2252429253719974,
          0.22913332839139497,
          0.21752638982625955,
          0.2181333545534361,
          0.219110495118245,
          0.22772286864601213,
          0.23184610149997464,
          0.23397558069665225,
          0.23846507656707713,
          0.24108462972873343,
          0.2337169408290656,
          0.23511238790314895,
          0.23012329497789663,
          0.2200905737861111,
          0.2047751578450636,
          0.20050720629774696,
          0.20451219970485013,
          0.21466605857958426,
          0.1976442440593178,
          0.18576746955961215,
          0.15977932706608305,
          0.17755941944888895,
          0.17180381280670426,
          0.18841168229368493,
          0.20374929102487552,
          0.20526788841821242,
          0.20748583301165208,
          0.21111850064621193,
          0.2132966725810935,
          0.19935644047749906,
          0.21148449065273356,
          0.21464066437210297,
          0.21905797746386874,
          0.2117844289778999,
          0.21710370428474485,
          0.21872758578006155,
          0.22511260888339615,
          0.22409747521620543,
          0.2151195502396105,
          0.21069198860696867,
          0.21476710174351196,
          0.20785912882728566,
          0.21000389992495852,
          0.2182655104255516,
          0.22265892921259892,
          0.21700979712409507,
          0.22363577771557008,
          0.22256560415332957,
          0.23546362765549206,
          0.24784696306118942,
          0.24996631067854946,
          0.26264162226583876,
          0.2704347119773134,
          0.2772427280929608,
          0.2766879530443666,
          0.2824625781551684,
          0.28171855423789227,
          0.26351237955183443,
          0.2730077183872049,
          0.28121902374449387,
          0.28302213389339215,
          0.28434011818591387,
          0.28285749880400746,
          0.28343570857204603,
          0.2960172389323795,
          0.2955132013119763,
          0.3008968042825489,
          0.31056988083931214,
          0.3256260911835704,
          0.3325807969704778,
          0.34765079198178006,
          0.3462938132470712,
          0.3477570957118896,
          0.3510974203987192,
          0.35055905376201746,
          0.3606787388182376,
          0.3787803776747362,
          0.38167832843204896,
          0.3915289627462314,
          0.38946630944291805,
          0.3967384859621066,
          0.3922287044846405,
          0.39767704208383003,
          0.40453157085376135,
          0.39450078835030006,
          0.4127697419453813,
          0.431129240666925,
          0.45413221256237685,
          0.4570279097682987,
          0.47105202836633203,
          0.4702686501057555,
          0.4763609437252226,
          0.4749007746937559,
          0.47417059748950147,
          0.4848275616333866,
          0.49017816831295435,
          0.4929750183919418,
          0.47304307481412944,
          0.46468789914956077,
          0.5194816994704728,
          0.5239646372751755,
          0.5278031192806979,
          0.5266825925196269,
          0.5197598459878209,
          0.5191886983169886,
          0.5421282687187869,
          0.5452793453149473,
          0.5560722907070504,
          0.5730467618889049,
          0.5855759784113123,
          0.564333204098703,
          0.5615425023607625,
          0.5866517611302305,
          0.5810112068228738,
          0.5776147186009353,
          0.5663287130607024,
          0.5714986291410854,
          0.5793534019873364,
          0.5715855974718892,
          0.5795703921970787,
          0.5921043097025063,
          0.5957760148958947,
          0.5893247975899201,
          0.5867620785051085,
          0.5940050751314829,
          0.5904058257346511,
          0.5892681026262979,
          0.576786705902468,
          0.5357124650633271,
          0.5519138811004912,
          0.5474895672204234,
          0.5430930980164387,
          0.5461191917958009,
          0.5530789547048277,
          0.5307297657889629,
          0.5203651653446587,
          0.5274563449240561,
          0.5218889682862751,
          0.5255215094860698,
          0.5027684647919094,
          0.5217003424711197,
          0.5389757294378572,
          0.5229716583434895,
          0.5326413230345798,
          0.5213882157341062,
          0.5300756976933095,
          0.5281576419028788,
          0.5110272074516014,
          0.5180492501826159,
          0.5393065570628476,
          0.5475903151972723,
          0.5412234213865066,
          0.5332069329895784,
          0.5296639916293114,
          0.5342985600035132,
          0.5380166410345439,
          0.5430136489107177,
          0.5626553230547959,
          0.5631369194839427,
          0.5661589046828122,
          0.5662520788888219,
          0.5616755906994619,
          0.5461048998207207,
          0.5673529685077007,
          0.5706478647243558,
          0.5867083166006688,
          0.5859285490757152,
          0.5806451954829348,
          0.5999005176272164,
          0.6082387473310629,
          0.6174306536533556,
          0.6453696620330084,
          0.6536587540883642,
          0.6552084692065292,
          0.6612967335019654,
          0.6490347441180393,
          0.6529771533088575,
          0.6644233640041002,
          0.6758553514382962,
          0.6768723198967297,
          0.6942616078858892,
          0.6885253239031017,
          0.6719042636577333,
          0.6630847446409327,
          0.6770830321495819,
          0.6792888867461211,
          0.6666499297349305,
          0.6744408957962387,
          0.6723217295744031,
          0.6525599114899664,
          0.6594431329986508,
          0.6645758544178875,
          0.6665979793621969,
          0.6782318656621019,
          0.6877023086031527,
          0.6782957125418443,
          0.6839764905812044,
          0.6816404877262622,
          0.681620394860018,
          0.6840414913603037,
          0.6792017092521964,
          0.6728216822561287,
          0.6907893072521548,
          0.6851723173424503,
          0.6764219197143758,
          0.6933231387182023,
          0.7049066469070865,
          0.6896787993123032,
          0.6859564316377944,
          0.7204734520050854,
          0.7126260362151361,
          0.7059182923871609,
          0.6693528015914784,
          0.6844355833138605,
          0.6761423164315722,
          0.7058088481857306,
          0.704695151798984,
          0.7179029751829102,
          0.7398624823004432,
          0.7513209334337712,
          0.7654837188089031,
          0.7706999598072782,
          0.7931256290689832,
          0.7809502212133009,
          0.7843209057962698,
          0.7734902588003255,
          0.7922923723920667,
          0.7875745913081331,
          0.7864207757067129,
          0.7774207046832329,
          0.7590670611428508,
          0.7668267653622157,
          0.7397996338003858,
          0.7314255656006879,
          0.7211048456332839,
          0.7098883585191111,
          0.7320019525732874,
          0.7413196959453563,
          0.7508995990168261,
          0.7564743883308571,
          0.7568667749696649,
          0.7570275965944202,
          0.7485954968922105,
          0.741694660608443,
          0.7572379559457662,
          0.7512910476779103,
          0.7550085163395762,
          0.7657503849885563,
          0.7633542729257649,
          0.764743862413358,
          0.7700944143709632,
          0.7796815634436866,
          0.7695532709978882,
          0.7753759147241185,
          0.7824034671204703,
          0.7860615363568985,
          0.7911932660133721,
          0.7987098405656322,
          0.8035481705571788,
          0.8081919341893755,
          0.808083768853231,
          0.8202770598770814,
          0.7961131859088032,
          0.8015465541842213,
          0.7981566038412059,
          0.8011425170977352
         ],
         "yaxis": "y"
        },
        {
         "hovertemplate": "variable=Inverse Vol<br>index=%{x}<br>value=%{y}<extra></extra>",
         "legendgroup": "Inverse Vol",
         "line": {
          "color": "#EF553B",
          "dash": "solid"
         },
         "marker": {
          "symbol": "circle"
         },
         "mode": "lines",
         "name": "Inverse Vol",
         "orientation": "v",
         "showlegend": true,
         "type": "scatter",
         "x": [
          "2023-02-27T00:00:00",
          "2023-02-28T00:00:00",
          "2023-03-01T00:00:00",
          "2023-03-02T00:00:00",
          "2023-03-03T00:00:00",
          "2023-03-06T00:00:00",
          "2023-03-07T00:00:00",
          "2023-03-08T00:00:00",
          "2023-03-09T00:00:00",
          "2023-03-10T00:00:00",
          "2023-03-13T00:00:00",
          "2023-03-14T00:00:00",
          "2023-03-15T00:00:00",
          "2023-03-16T00:00:00",
          "2023-03-17T00:00:00",
          "2023-03-20T00:00:00",
          "2023-03-21T00:00:00",
          "2023-03-22T00:00:00",
          "2023-03-23T00:00:00",
          "2023-03-24T00:00:00",
          "2023-03-27T00:00:00",
          "2023-03-28T00:00:00",
          "2023-03-29T00:00:00",
          "2023-03-30T00:00:00",
          "2023-03-31T00:00:00",
          "2023-04-03T00:00:00",
          "2023-04-04T00:00:00",
          "2023-04-05T00:00:00",
          "2023-04-06T00:00:00",
          "2023-04-10T00:00:00",
          "2023-04-11T00:00:00",
          "2023-04-12T00:00:00",
          "2023-04-13T00:00:00",
          "2023-04-14T00:00:00",
          "2023-04-17T00:00:00",
          "2023-04-18T00:00:00",
          "2023-04-19T00:00:00",
          "2023-04-20T00:00:00",
          "2023-04-21T00:00:00",
          "2023-04-24T00:00:00",
          "2023-04-25T00:00:00",
          "2023-04-26T00:00:00",
          "2023-04-27T00:00:00",
          "2023-04-28T00:00:00",
          "2023-05-01T00:00:00",
          "2023-05-02T00:00:00",
          "2023-05-03T00:00:00",
          "2023-05-04T00:00:00",
          "2023-05-05T00:00:00",
          "2023-05-08T00:00:00",
          "2023-05-09T00:00:00",
          "2023-05-10T00:00:00",
          "2023-05-11T00:00:00",
          "2023-05-12T00:00:00",
          "2023-05-15T00:00:00",
          "2023-05-16T00:00:00",
          "2023-05-17T00:00:00",
          "2023-05-18T00:00:00",
          "2023-05-19T00:00:00",
          "2023-05-22T00:00:00",
          "2023-05-23T00:00:00",
          "2023-05-24T00:00:00",
          "2023-05-25T00:00:00",
          "2023-05-26T00:00:00",
          "2023-05-30T00:00:00",
          "2023-05-31T00:00:00",
          "2023-06-01T00:00:00",
          "2023-06-02T00:00:00",
          "2023-06-05T00:00:00",
          "2023-06-06T00:00:00",
          "2023-06-07T00:00:00",
          "2023-06-08T00:00:00",
          "2023-06-09T00:00:00",
          "2023-06-12T00:00:00",
          "2023-06-13T00:00:00",
          "2023-06-14T00:00:00",
          "2023-06-15T00:00:00",
          "2023-06-16T00:00:00",
          "2023-06-20T00:00:00",
          "2023-06-21T00:00:00",
          "2023-06-22T00:00:00",
          "2023-06-23T00:00:00",
          "2023-06-26T00:00:00",
          "2023-06-27T00:00:00",
          "2023-06-28T00:00:00",
          "2023-06-29T00:00:00",
          "2023-06-30T00:00:00",
          "2023-07-03T00:00:00",
          "2023-07-05T00:00:00",
          "2023-07-06T00:00:00",
          "2023-07-07T00:00:00",
          "2023-07-10T00:00:00",
          "2023-07-11T00:00:00",
          "2023-07-12T00:00:00",
          "2023-07-13T00:00:00",
          "2023-07-14T00:00:00",
          "2023-07-17T00:00:00",
          "2023-07-18T00:00:00",
          "2023-07-19T00:00:00",
          "2023-07-20T00:00:00",
          "2023-07-21T00:00:00",
          "2023-07-24T00:00:00",
          "2023-07-25T00:00:00",
          "2023-07-26T00:00:00",
          "2023-07-27T00:00:00",
          "2023-07-28T00:00:00",
          "2023-07-31T00:00:00",
          "2023-08-01T00:00:00",
          "2023-08-02T00:00:00",
          "2023-08-03T00:00:00",
          "2023-08-04T00:00:00",
          "2023-08-07T00:00:00",
          "2023-08-08T00:00:00",
          "2023-08-09T00:00:00",
          "2023-08-10T00:00:00",
          "2023-08-11T00:00:00",
          "2023-08-14T00:00:00",
          "2023-08-15T00:00:00",
          "2023-08-16T00:00:00",
          "2023-08-17T00:00:00",
          "2023-08-18T00:00:00",
          "2023-08-21T00:00:00",
          "2023-08-22T00:00:00",
          "2023-08-23T00:00:00",
          "2023-08-24T00:00:00",
          "2023-08-25T00:00:00",
          "2023-08-28T00:00:00",
          "2023-08-29T00:00:00",
          "2023-08-30T00:00:00",
          "2023-08-31T00:00:00",
          "2023-09-01T00:00:00",
          "2023-09-05T00:00:00",
          "2023-09-06T00:00:00",
          "2023-09-07T00:00:00",
          "2023-09-08T00:00:00",
          "2023-09-11T00:00:00",
          "2023-09-12T00:00:00",
          "2023-09-13T00:00:00",
          "2023-09-14T00:00:00",
          "2023-09-15T00:00:00",
          "2023-09-18T00:00:00",
          "2023-09-19T00:00:00",
          "2023-09-20T00:00:00",
          "2023-09-21T00:00:00",
          "2023-09-22T00:00:00",
          "2023-09-25T00:00:00",
          "2023-09-26T00:00:00",
          "2023-09-27T00:00:00",
          "2023-09-28T00:00:00",
          "2023-09-29T00:00:00",
          "2023-10-02T00:00:00",
          "2023-10-03T00:00:00",
          "2023-10-04T00:00:00",
          "2023-10-05T00:00:00",
          "2023-10-06T00:00:00",
          "2023-10-09T00:00:00",
          "2023-10-10T00:00:00",
          "2023-10-11T00:00:00",
          "2023-10-12T00:00:00",
          "2023-10-13T00:00:00",
          "2023-10-16T00:00:00",
          "2023-10-17T00:00:00",
          "2023-10-18T00:00:00",
          "2023-10-19T00:00:00",
          "2023-10-20T00:00:00",
          "2023-10-23T00:00:00",
          "2023-10-24T00:00:00",
          "2023-10-25T00:00:00",
          "2023-10-26T00:00:00",
          "2023-10-27T00:00:00",
          "2023-10-30T00:00:00",
          "2023-10-31T00:00:00",
          "2023-11-01T00:00:00",
          "2023-11-02T00:00:00",
          "2023-11-03T00:00:00",
          "2023-11-06T00:00:00",
          "2023-11-07T00:00:00",
          "2023-11-08T00:00:00",
          "2023-11-09T00:00:00",
          "2023-11-10T00:00:00",
          "2023-11-13T00:00:00",
          "2023-11-14T00:00:00",
          "2023-11-15T00:00:00",
          "2023-11-16T00:00:00",
          "2023-11-17T00:00:00",
          "2023-11-20T00:00:00",
          "2023-11-21T00:00:00",
          "2023-11-22T00:00:00",
          "2023-11-24T00:00:00",
          "2023-11-27T00:00:00",
          "2023-11-28T00:00:00",
          "2023-11-29T00:00:00",
          "2023-11-30T00:00:00",
          "2023-12-01T00:00:00",
          "2023-12-04T00:00:00",
          "2023-12-05T00:00:00",
          "2023-12-06T00:00:00",
          "2023-12-07T00:00:00",
          "2023-12-08T00:00:00",
          "2023-12-11T00:00:00",
          "2023-12-12T00:00:00",
          "2023-12-13T00:00:00",
          "2023-12-14T00:00:00",
          "2023-12-15T00:00:00",
          "2023-12-18T00:00:00",
          "2023-12-19T00:00:00",
          "2023-12-20T00:00:00",
          "2023-12-21T00:00:00",
          "2023-12-22T00:00:00",
          "2023-12-26T00:00:00",
          "2023-12-27T00:00:00",
          "2023-12-28T00:00:00",
          "2023-12-29T00:00:00",
          "2024-01-02T00:00:00",
          "2024-01-03T00:00:00",
          "2024-01-04T00:00:00",
          "2024-01-05T00:00:00",
          "2024-01-08T00:00:00",
          "2024-01-09T00:00:00",
          "2024-01-10T00:00:00",
          "2024-01-11T00:00:00",
          "2024-01-12T00:00:00",
          "2024-01-16T00:00:00",
          "2024-01-17T00:00:00",
          "2024-01-18T00:00:00",
          "2024-01-19T00:00:00",
          "2024-01-22T00:00:00",
          "2024-01-23T00:00:00",
          "2024-01-24T00:00:00",
          "2024-01-25T00:00:00",
          "2024-01-26T00:00:00",
          "2024-01-29T00:00:00",
          "2024-01-30T00:00:00",
          "2024-01-31T00:00:00",
          "2024-02-01T00:00:00",
          "2024-02-02T00:00:00",
          "2024-02-05T00:00:00",
          "2024-02-06T00:00:00",
          "2024-02-07T00:00:00",
          "2024-02-08T00:00:00",
          "2024-02-09T00:00:00",
          "2024-02-12T00:00:00",
          "2024-02-13T00:00:00",
          "2024-02-14T00:00:00",
          "2024-02-15T00:00:00",
          "2024-02-16T00:00:00",
          "2024-02-20T00:00:00",
          "2024-02-21T00:00:00",
          "2024-02-22T00:00:00",
          "2024-02-23T00:00:00",
          "2024-02-26T00:00:00",
          "2024-02-27T00:00:00",
          "2024-02-28T00:00:00",
          "2024-02-29T00:00:00",
          "2024-03-01T00:00:00",
          "2024-03-04T00:00:00",
          "2024-03-05T00:00:00",
          "2024-03-06T00:00:00",
          "2024-03-07T00:00:00",
          "2024-03-08T00:00:00",
          "2024-03-11T00:00:00",
          "2024-03-12T00:00:00",
          "2024-03-13T00:00:00",
          "2024-03-14T00:00:00",
          "2024-03-15T00:00:00",
          "2024-03-18T00:00:00",
          "2024-03-19T00:00:00",
          "2024-03-20T00:00:00",
          "2024-03-21T00:00:00",
          "2024-03-22T00:00:00",
          "2024-03-25T00:00:00",
          "2024-03-26T00:00:00",
          "2024-03-27T00:00:00",
          "2024-03-28T00:00:00",
          "2024-04-01T00:00:00",
          "2024-04-02T00:00:00",
          "2024-04-03T00:00:00",
          "2024-04-04T00:00:00",
          "2024-04-05T00:00:00",
          "2024-04-08T00:00:00",
          "2024-04-09T00:00:00",
          "2024-04-10T00:00:00",
          "2024-04-11T00:00:00",
          "2024-04-12T00:00:00",
          "2024-04-15T00:00:00",
          "2024-04-16T00:00:00",
          "2024-04-17T00:00:00",
          "2024-04-18T00:00:00",
          "2024-04-19T00:00:00",
          "2024-04-22T00:00:00",
          "2024-04-23T00:00:00",
          "2024-04-24T00:00:00",
          "2024-04-25T00:00:00",
          "2024-04-26T00:00:00",
          "2024-04-29T00:00:00",
          "2024-04-30T00:00:00",
          "2024-05-01T00:00:00",
          "2024-05-02T00:00:00",
          "2024-05-03T00:00:00",
          "2024-05-06T00:00:00",
          "2024-05-07T00:00:00",
          "2024-05-08T00:00:00",
          "2024-05-09T00:00:00",
          "2024-05-10T00:00:00",
          "2024-05-13T00:00:00",
          "2024-05-14T00:00:00",
          "2024-05-15T00:00:00",
          "2024-05-16T00:00:00",
          "2024-05-17T00:00:00",
          "2024-05-20T00:00:00",
          "2024-05-21T00:00:00",
          "2024-05-22T00:00:00",
          "2024-05-23T00:00:00",
          "2024-05-24T00:00:00",
          "2024-05-28T00:00:00",
          "2024-05-29T00:00:00",
          "2024-05-30T00:00:00",
          "2024-05-31T00:00:00",
          "2024-06-03T00:00:00",
          "2024-06-04T00:00:00",
          "2024-06-05T00:00:00",
          "2024-06-06T00:00:00",
          "2024-06-07T00:00:00",
          "2024-06-10T00:00:00",
          "2024-06-11T00:00:00",
          "2024-06-12T00:00:00",
          "2024-06-13T00:00:00",
          "2024-06-14T00:00:00",
          "2024-06-17T00:00:00",
          "2024-06-18T00:00:00",
          "2024-06-20T00:00:00",
          "2024-06-21T00:00:00",
          "2024-06-24T00:00:00",
          "2024-06-25T00:00:00",
          "2024-06-26T00:00:00",
          "2024-06-27T00:00:00",
          "2024-06-28T00:00:00",
          "2024-07-01T00:00:00",
          "2024-07-02T00:00:00",
          "2024-07-03T00:00:00",
          "2024-07-05T00:00:00",
          "2024-07-08T00:00:00",
          "2024-07-09T00:00:00",
          "2024-07-10T00:00:00",
          "2024-07-11T00:00:00",
          "2024-07-12T00:00:00",
          "2024-07-15T00:00:00",
          "2024-07-16T00:00:00",
          "2024-07-17T00:00:00",
          "2024-07-18T00:00:00",
          "2024-07-19T00:00:00",
          "2024-07-22T00:00:00",
          "2024-07-23T00:00:00",
          "2024-07-24T00:00:00",
          "2024-07-25T00:00:00",
          "2024-07-26T00:00:00",
          "2024-07-29T00:00:00",
          "2024-07-30T00:00:00",
          "2024-07-31T00:00:00",
          "2024-08-01T00:00:00",
          "2024-08-02T00:00:00",
          "2024-08-05T00:00:00",
          "2024-08-06T00:00:00",
          "2024-08-07T00:00:00",
          "2024-08-08T00:00:00",
          "2024-08-09T00:00:00",
          "2024-08-12T00:00:00",
          "2024-08-13T00:00:00",
          "2024-08-14T00:00:00",
          "2024-08-15T00:00:00",
          "2024-08-16T00:00:00",
          "2024-08-19T00:00:00",
          "2024-08-20T00:00:00",
          "2024-08-21T00:00:00",
          "2024-08-22T00:00:00",
          "2024-08-23T00:00:00",
          "2024-08-26T00:00:00",
          "2024-08-27T00:00:00",
          "2024-08-28T00:00:00",
          "2024-08-29T00:00:00",
          "2024-08-30T00:00:00",
          "2024-09-03T00:00:00",
          "2024-09-04T00:00:00",
          "2024-09-05T00:00:00",
          "2024-09-06T00:00:00",
          "2024-09-09T00:00:00",
          "2024-09-10T00:00:00",
          "2024-09-11T00:00:00",
          "2024-09-12T00:00:00",
          "2024-09-13T00:00:00",
          "2024-09-16T00:00:00",
          "2024-09-17T00:00:00",
          "2024-09-18T00:00:00",
          "2024-09-19T00:00:00",
          "2024-09-20T00:00:00",
          "2024-09-23T00:00:00",
          "2024-09-24T00:00:00",
          "2024-09-25T00:00:00",
          "2024-09-26T00:00:00",
          "2024-09-27T00:00:00",
          "2024-09-30T00:00:00",
          "2024-10-01T00:00:00",
          "2024-10-02T00:00:00",
          "2024-10-03T00:00:00",
          "2024-10-04T00:00:00",
          "2024-10-07T00:00:00",
          "2024-10-08T00:00:00",
          "2024-10-09T00:00:00",
          "2024-10-10T00:00:00",
          "2024-10-11T00:00:00",
          "2024-10-14T00:00:00",
          "2024-10-15T00:00:00",
          "2024-10-16T00:00:00",
          "2024-10-17T00:00:00",
          "2024-10-18T00:00:00"
         ],
         "xaxis": "x",
         "y": [
          0.002950844548257352,
          0.0026284130880105264,
          -0.0023495252450200276,
          0.0024078663307909596,
          0.01903295287421184,
          0.020327284004470324,
          0.0063225938688445185,
          0.002298871835567412,
          -0.01988572541992764,
          -0.02255923355490852,
          -0.023843482707788383,
          -0.008122726784304861,
          -0.020215224086832347,
          -0.011557895369282725,
          -0.02403658992295131,
          -0.00885254482056367,
          0.007221441722034903,
          -0.007351577966723246,
          -0.004446352233360255,
          -0.00013608232362631936,
          0.008065541964629424,
          0.008389106952878138,
          0.020892490216416624,
          0.02635078138128276,
          0.0371863528661733,
          0.0489441289716422,
          0.04450117358582629,
          0.047082019594608525,
          0.048344198636545675,
          0.04917206775388908,
          0.048763283918149096,
          0.04534352613367958,
          0.05469407565608665,
          0.06060632989333184,
          0.06371671297657631,
          0.06550181447565424,
          0.06381118089049681,
          0.05392378426102418,
          0.05468314707340282,
          0.06042348057863175,
          0.04979597992940958,
          0.04135734623893581,
          0.05703873162564174,
          0.06467011141193892,
          0.06988111111637418,
          0.0513427541392969,
          0.04155004997610028,
          0.03023885250597711,
          0.049683363248460816,
          0.05279672668997959,
          0.04783551463923742,
          0.04585046309981796,
          0.044397401543424114,
          0.040936345378016714,
          0.04005672861406352,
          0.0277395899911492,
          0.039626287998918,
          0.04898899588996939,
          0.04835754372193546,
          0.043801805650850574,
          0.04145978424692413,
          0.03580907983349654,
          0.04025294193976364,
          0.04755729759838759,
          0.048438294840797286,
          0.045036068097329546,
          0.052928575296230074,
          0.062476686675577264,
          0.05954035709055914,
          0.06312355786307706,
          0.06949819726269017,
          0.07498910064501783,
          0.07684475687630536,
          0.08026908562109396,
          0.08704194844735816,
          0.0883300334000783,
          0.0986014809890554,
          0.09715319342202068,
          0.09016001649525279,
          0.0884632857247687,
          0.0878139052227941,
          0.08144447890657594,
          0.08134304895494081,
          0.0872549439095269,
          0.08975548574068119,
          0.09469706816210079,
          0.10830917047289562,
          0.11073235457251997,
          0.11409865546025122,
          0.10582471970671507,
          0.10045065485394028,
          0.09927036045472674,
          0.10522202931741129,
          0.11232299503610677,
          0.11199730260263634,
          0.10480951614043268,
          0.09738509723002153,
          0.1047541831875411,
          0.11474501271813023,
          0.11880206095579154,
          0.11750320454385979,
          0.12522640208364277,
          0.12419622413844947,
          0.1271199910151184,
          0.13121231486284438,
          0.13815973710065763,
          0.14257755711734618,
          0.13686846789241053,
          0.12696993087394362,
          0.12702644990712536,
          0.11694206167831443,
          0.1266326623258175,
          0.12494265725960552,
          0.11928753422083,
          0.11758950833778914,
          0.12074691370634981,
          0.1269406085404492,
          0.11432296344315405,
          0.10851769477576995,
          0.1021309819433471,
          0.10629466226895362,
          0.11111744996981668,
          0.10491380336336052,
          0.11228294443174029,
          0.10555985192220255,
          0.10818047648353701,
          0.11471266973706115,
          0.1291423280690625,
          0.13326129416669952,
          0.1347685626830201,
          0.13852283764044504,
          0.1333893559710094,
          0.12867695554101438,
          0.12620864262247572,
          0.1268996711452822,
          0.12963311911533654,
          0.13446859878621276,
          0.13503311869754164,
          0.14442978361854486,
          0.13543138073415123,
          0.1375673799135087,
          0.1379979241727362,
          0.1311711650659149,
          0.12060674146142404,
          0.12079848732062702,
          0.1277948595624488,
          0.11988472749730945,
          0.11985326441674649,
          0.124394475028169,
          0.11323699160901948,
          0.10937552789245633,
          0.10145025679292502,
          0.09862299835127346,
          0.09756765051662598,
          0.1003130104770042,
          0.10854508300573608,
          0.11438173213744399,
          0.11087738816434312,
          0.10669054011626923,
          0.10497030342541457,
          0.1120033200529606,
          0.11423316616100873,
          0.10555514864555603,
          0.10213975557450643,
          0.09424898883325858,
          0.09160145726833964,
          0.10566226484270849,
          0.09553338682462889,
          0.08962265029893889,
          0.0685546388638139,
          0.08534209566001331,
          0.09080734584179324,
          0.09916581524358141,
          0.11550098279938324,
          0.11856516437969046,
          0.11510161825661465,
          0.11554893212241604,
          0.11178094763674601,
          0.1061228991517819,
          0.11738985754443422,
          0.11953565497435374,
          0.12982490959389104,
          0.1314659963793642,
          0.12315589686634783,
          0.12776104039652522,
          0.13445940420138827,
          0.1340382853610215,
          0.1338278441516472,
          0.13436083839500665,
          0.13422376181865964,
          0.13705031628709452,
          0.13916039878049644,
          0.1438455207924753,
          0.14638948010366742,
          0.14320760543778174,
          0.14502717385646138,
          0.14106064084021658,
          0.14696465778061352,
          0.1513726394273847,
          0.14896198978496256,
          0.15198245021628556,
          0.15950770236847062,
          0.1711194462080204,
          0.16811039320142027,
          0.1747683674710821,
          0.18044712494669105,
          0.16807202089720294,
          0.17460779585856517,
          0.1772877558723702,
          0.17896304275739375,
          0.1802020252685778,
          0.17968856139398745,
          0.17816943327094364,
          0.18696565120624056,
          0.18860671958642675,
          0.18728704754185405,
          0.1938754100930732,
          0.20115589489011135,
          0.19749276731156648,
          0.20371260696484625,
          0.19614306067663947,
          0.20026844880052702,
          0.19755904446306047,
          0.1926698423816882,
          0.2001142827191355,
          0.21179838047274957,
          0.2139943026112345,
          0.22819055681444528,
          0.22686190430347272,
          0.2405615922740213,
          0.24246380741608198,
          0.24346929075899773,
          0.2542154175983373,
          0.24526177910540667,
          0.25400513853955076,
          0.27290176868241295,
          0.2706451918816481,
          0.273203311489995,
          0.27755658954610785,
          0.27657394877746194,
          0.2745388674307453,
          0.2783287267775597,
          0.2710473531348833,
          0.27613046809589864,
          0.2890026503309937,
          0.2878591014552537,
          0.2879239561244114,
          0.29075617543918425,
          0.3063683283791997,
          0.3066198694267046,
          0.3029302048632434,
          0.30435651520751106,
          0.30511720061742814,
          0.30364796295239627,
          0.31000383136348253,
          0.3061194571785541,
          0.3071257331313972,
          0.31070603540354147,
          0.3113687149957864,
          0.30840329039016556,
          0.31153930870378427,
          0.31972437293458134,
          0.32222361824187873,
          0.3188504649318685,
          0.3171633552429634,
          0.32406046375257536,
          0.33028381518981625,
          0.3357445975523372,
          0.33775013910899787,
          0.3367082596443574,
          0.3379788266189779,
          0.3357627234953381,
          0.3449295391007481,
          0.34852739507189523,
          0.3490312049944001,
          0.34853568341593155,
          0.35008147225570596,
          0.3372493439103325,
          0.3459212651260765,
          0.34139187775741514,
          0.3404538832777568,
          0.3382027446563915,
          0.3398364124223526,
          0.323735692426658,
          0.3172357326924497,
          0.31240135989856843,
          0.30946436857643234,
          0.31277682937730905,
          0.31244682899158716,
          0.31601971571957704,
          0.3282315778590756,
          0.3266851547859147,
          0.32347525884207395,
          0.32075430562126994,
          0.3255331478639523,
          0.3125385434889902,
          0.30681711161634184,
          0.31235532983478337,
          0.32241414359795945,
          0.3301176227732141,
          0.33151698136494157,
          0.332043277780377,
          0.3388511086000915,
          0.3427739806869299,
          0.34331609643975725,
          0.3446045193862621,
          0.35232609362624157,
          0.35929018619030173,
          0.36383032983319924,
          0.35627261785445036,
          0.35622858715183664,
          0.3496445702790438,
          0.34469651067046175,
          0.35329881658661977,
          0.35259344652310065,
          0.3478761081649077,
          0.35489793754858673,
          0.3725704642639912,
          0.37296766655209307,
          0.3735127758174577,
          0.3813882802308599,
          0.38343843740390715,
          0.38286173627700054,
          0.38576199365111635,
          0.38706924722378383,
          0.38514000144518035,
          0.38525840715281934,
          0.3851489624088046,
          0.38910185272328035,
          0.3948736538959209,
          0.39798214984718533,
          0.39094630363379074,
          0.4019000463864059,
          0.3995412712991916,
          0.4007929105389996,
          0.3982628072505549,
          0.4001299184811534,
          0.4046304118649702,
          0.4035915323942368,
          0.40507446751916654,
          0.4138058793631076,
          0.41274354691955883,
          0.4146658429563926,
          0.42391381266455425,
          0.42159259917672626,
          0.4237585187936,
          0.430169925481149,
          0.4361770181008327,
          0.44091526840886897,
          0.43663131165842267,
          0.42764143123719456,
          0.4235429735281732,
          0.415898464006306,
          0.4119179331849453,
          0.4132484596700609,
          0.4201358853617065,
          0.41537925038838386,
          0.419194665917987,
          0.42796465608270085,
          0.42210711298343206,
          0.40874965915175465,
          0.37986437951084995,
          0.39097315270184113,
          0.3904065874594917,
          0.4103119349628149,
          0.41611350024956806,
          0.4186090898656257,
          0.4261988371960678,
          0.4335364660942829,
          0.4477708264326248,
          0.45354273014814,
          0.46189939709709077,
          0.4582247359364953,
          0.46195129617970077,
          0.46078730748405033,
          0.4724941000394376,
          0.4749780277463466,
          0.47615093759447547,
          0.47390572907399164,
          0.47507443908265784,
          0.4832601221900669,
          0.47303265016888907,
          0.46417433208575376,
          0.4566189070080932,
          0.4449239025500637,
          0.4605605719893048,
          0.4564943408621866,
          0.45851073961174077,
          0.4653241945001099,
          0.4676642544952289,
          0.47326205844500857,
          0.4703853995755983,
          0.47211674525853686,
          0.4823239905899814,
          0.4835154051358264,
          0.4865423462040847,
          0.490281611321336,
          0.4836228112271311,
          0.4807395835238683,
          0.4880116724749926,
          0.49411081678264657,
          0.49236548614696946,
          0.49263127113748506,
          0.49182036295985676,
          0.5009924894701858,
          0.49348675955180965,
          0.4960594268281853,
          0.5042632900608486,
          0.5015552737125869,
          0.5084745261146022,
          0.5141293827658746,
          0.5104460882730164,
          0.5129765107810993,
          0.5135973561536051,
          0.5156592812039926
         ],
         "yaxis": "y"
        }
       ],
       "layout": {
        "legend": {
         "title": {
          "text": "Portfolios"
         },
         "tracegroupgap": 0
        },
        "margin": {
         "t": 60
        },
        "template": {
         "data": {
          "bar": [
           {
            "error_x": {
             "color": "#2a3f5f"
            },
            "error_y": {
             "color": "#2a3f5f"
            },
            "marker": {
             "line": {
              "color": "#E5ECF6",
              "width": 0.5
             },
             "pattern": {
              "fillmode": "overlay",
              "size": 10,
              "solidity": 0.2
             }
            },
            "type": "bar"
           }
          ],
          "barpolar": [
           {
            "marker": {
             "line": {
              "color": "#E5ECF6",
              "width": 0.5
             },
             "pattern": {
              "fillmode": "overlay",
              "size": 10,
              "solidity": 0.2
             }
            },
            "type": "barpolar"
           }
          ],
          "carpet": [
           {
            "aaxis": {
             "endlinecolor": "#2a3f5f",
             "gridcolor": "white",
             "linecolor": "white",
             "minorgridcolor": "white",
             "startlinecolor": "#2a3f5f"
            },
            "baxis": {
             "endlinecolor": "#2a3f5f",
             "gridcolor": "white",
             "linecolor": "white",
             "minorgridcolor": "white",
             "startlinecolor": "#2a3f5f"
            },
            "type": "carpet"
           }
          ],
          "choropleth": [
           {
            "colorbar": {
             "outlinewidth": 0,
             "ticks": ""
            },
            "type": "choropleth"
           }
          ],
          "contour": [
           {
            "colorbar": {
             "outlinewidth": 0,
             "ticks": ""
            },
            "colorscale": [
             [
              0,
              "#0d0887"
             ],
             [
              0.1111111111111111,
              "#46039f"
             ],
             [
              0.2222222222222222,
              "#7201a8"
             ],
             [
              0.3333333333333333,
              "#9c179e"
             ],
             [
              0.4444444444444444,
              "#bd3786"
             ],
             [
              0.5555555555555556,
              "#d8576b"
             ],
             [
              0.6666666666666666,
              "#ed7953"
             ],
             [
              0.7777777777777778,
              "#fb9f3a"
             ],
             [
              0.8888888888888888,
              "#fdca26"
             ],
             [
              1,
              "#f0f921"
             ]
            ],
            "type": "contour"
           }
          ],
          "contourcarpet": [
           {
            "colorbar": {
             "outlinewidth": 0,
             "ticks": ""
            },
            "type": "contourcarpet"
           }
          ],
          "heatmap": [
           {
            "colorbar": {
             "outlinewidth": 0,
             "ticks": ""
            },
            "colorscale": [
             [
              0,
              "#0d0887"
             ],
             [
              0.1111111111111111,
              "#46039f"
             ],
             [
              0.2222222222222222,
              "#7201a8"
             ],
             [
              0.3333333333333333,
              "#9c179e"
             ],
             [
              0.4444444444444444,
              "#bd3786"
             ],
             [
              0.5555555555555556,
              "#d8576b"
             ],
             [
              0.6666666666666666,
              "#ed7953"
             ],
             [
              0.7777777777777778,
              "#fb9f3a"
             ],
             [
              0.8888888888888888,
              "#fdca26"
             ],
             [
              1,
              "#f0f921"
             ]
            ],
            "type": "heatmap"
           }
          ],
          "heatmapgl": [
           {
            "colorbar": {
             "outlinewidth": 0,
             "ticks": ""
            },
            "colorscale": [
             [
              0,
              "#0d0887"
             ],
             [
              0.1111111111111111,
              "#46039f"
             ],
             [
              0.2222222222222222,
              "#7201a8"
             ],
             [
              0.3333333333333333,
              "#9c179e"
             ],
             [
              0.4444444444444444,
              "#bd3786"
             ],
             [
              0.5555555555555556,
              "#d8576b"
             ],
             [
              0.6666666666666666,
              "#ed7953"
             ],
             [
              0.7777777777777778,
              "#fb9f3a"
             ],
             [
              0.8888888888888888,
              "#fdca26"
             ],
             [
              1,
              "#f0f921"
             ]
            ],
            "type": "heatmapgl"
           }
          ],
          "histogram": [
           {
            "marker": {
             "pattern": {
              "fillmode": "overlay",
              "size": 10,
              "solidity": 0.2
             }
            },
            "type": "histogram"
           }
          ],
          "histogram2d": [
           {
            "colorbar": {
             "outlinewidth": 0,
             "ticks": ""
            },
            "colorscale": [
             [
              0,
              "#0d0887"
             ],
             [
              0.1111111111111111,
              "#46039f"
             ],
             [
              0.2222222222222222,
              "#7201a8"
             ],
             [
              0.3333333333333333,
              "#9c179e"
             ],
             [
              0.4444444444444444,
              "#bd3786"
             ],
             [
              0.5555555555555556,
              "#d8576b"
             ],
             [
              0.6666666666666666,
              "#ed7953"
             ],
             [
              0.7777777777777778,
              "#fb9f3a"
             ],
             [
              0.8888888888888888,
              "#fdca26"
             ],
             [
              1,
              "#f0f921"
             ]
            ],
            "type": "histogram2d"
           }
          ],
          "histogram2dcontour": [
           {
            "colorbar": {
             "outlinewidth": 0,
             "ticks": ""
            },
            "colorscale": [
             [
              0,
              "#0d0887"
             ],
             [
              0.1111111111111111,
              "#46039f"
             ],
             [
              0.2222222222222222,
              "#7201a8"
             ],
             [
              0.3333333333333333,
              "#9c179e"
             ],
             [
              0.4444444444444444,
              "#bd3786"
             ],
             [
              0.5555555555555556,
              "#d8576b"
             ],
             [
              0.6666666666666666,
              "#ed7953"
             ],
             [
              0.7777777777777778,
              "#fb9f3a"
             ],
             [
              0.8888888888888888,
              "#fdca26"
             ],
             [
              1,
              "#f0f921"
             ]
            ],
            "type": "histogram2dcontour"
           }
          ],
          "mesh3d": [
           {
            "colorbar": {
             "outlinewidth": 0,
             "ticks": ""
            },
            "type": "mesh3d"
           }
          ],
          "parcoords": [
           {
            "line": {
             "colorbar": {
              "outlinewidth": 0,
              "ticks": ""
             }
            },
            "type": "parcoords"
           }
          ],
          "pie": [
           {
            "automargin": true,
            "type": "pie"
           }
          ],
          "scatter": [
           {
            "fillpattern": {
             "fillmode": "overlay",
             "size": 10,
             "solidity": 0.2
            },
            "type": "scatter"
           }
          ],
          "scatter3d": [
           {
            "line": {
             "colorbar": {
              "outlinewidth": 0,
              "ticks": ""
             }
            },
            "marker": {
             "colorbar": {
              "outlinewidth": 0,
              "ticks": ""
             }
            },
            "type": "scatter3d"
           }
          ],
          "scattercarpet": [
           {
            "marker": {
             "colorbar": {
              "outlinewidth": 0,
              "ticks": ""
             }
            },
            "type": "scattercarpet"
           }
          ],
          "scattergeo": [
           {
            "marker": {
             "colorbar": {
              "outlinewidth": 0,
              "ticks": ""
             }
            },
            "type": "scattergeo"
           }
          ],
          "scattergl": [
           {
            "marker": {
             "colorbar": {
              "outlinewidth": 0,
              "ticks": ""
             }
            },
            "type": "scattergl"
           }
          ],
          "scattermapbox": [
           {
            "marker": {
             "colorbar": {
              "outlinewidth": 0,
              "ticks": ""
             }
            },
            "type": "scattermapbox"
           }
          ],
          "scatterpolar": [
           {
            "marker": {
             "colorbar": {
              "outlinewidth": 0,
              "ticks": ""
             }
            },
            "type": "scatterpolar"
           }
          ],
          "scatterpolargl": [
           {
            "marker": {
             "colorbar": {
              "outlinewidth": 0,
              "ticks": ""
             }
            },
            "type": "scatterpolargl"
           }
          ],
          "scatterternary": [
           {
            "marker": {
             "colorbar": {
              "outlinewidth": 0,
              "ticks": ""
             }
            },
            "type": "scatterternary"
           }
          ],
          "surface": [
           {
            "colorbar": {
             "outlinewidth": 0,
             "ticks": ""
            },
            "colorscale": [
             [
              0,
              "#0d0887"
             ],
             [
              0.1111111111111111,
              "#46039f"
             ],
             [
              0.2222222222222222,
              "#7201a8"
             ],
             [
              0.3333333333333333,
              "#9c179e"
             ],
             [
              0.4444444444444444,
              "#bd3786"
             ],
             [
              0.5555555555555556,
              "#d8576b"
             ],
             [
              0.6666666666666666,
              "#ed7953"
             ],
             [
              0.7777777777777778,
              "#fb9f3a"
             ],
             [
              0.8888888888888888,
              "#fdca26"
             ],
             [
              1,
              "#f0f921"
             ]
            ],
            "type": "surface"
           }
          ],
          "table": [
           {
            "cells": {
             "fill": {
              "color": "#EBF0F8"
             },
             "line": {
              "color": "white"
             }
            },
            "header": {
             "fill": {
              "color": "#C8D4E3"
             },
             "line": {
              "color": "white"
             }
            },
            "type": "table"
           }
          ]
         },
         "layout": {
          "annotationdefaults": {
           "arrowcolor": "#2a3f5f",
           "arrowhead": 0,
           "arrowwidth": 1
          },
          "autotypenumbers": "strict",
          "coloraxis": {
           "colorbar": {
            "outlinewidth": 0,
            "ticks": ""
           }
          },
          "colorscale": {
           "diverging": [
            [
             0,
             "#8e0152"
            ],
            [
             0.1,
             "#c51b7d"
            ],
            [
             0.2,
             "#de77ae"
            ],
            [
             0.3,
             "#f1b6da"
            ],
            [
             0.4,
             "#fde0ef"
            ],
            [
             0.5,
             "#f7f7f7"
            ],
            [
             0.6,
             "#e6f5d0"
            ],
            [
             0.7,
             "#b8e186"
            ],
            [
             0.8,
             "#7fbc41"
            ],
            [
             0.9,
             "#4d9221"
            ],
            [
             1,
             "#276419"
            ]
           ],
           "sequential": [
            [
             0,
             "#0d0887"
            ],
            [
             0.1111111111111111,
             "#46039f"
            ],
            [
             0.2222222222222222,
             "#7201a8"
            ],
            [
             0.3333333333333333,
             "#9c179e"
            ],
            [
             0.4444444444444444,
             "#bd3786"
            ],
            [
             0.5555555555555556,
             "#d8576b"
            ],
            [
             0.6666666666666666,
             "#ed7953"
            ],
            [
             0.7777777777777778,
             "#fb9f3a"
            ],
            [
             0.8888888888888888,
             "#fdca26"
            ],
            [
             1,
             "#f0f921"
            ]
           ],
           "sequentialminus": [
            [
             0,
             "#0d0887"
            ],
            [
             0.1111111111111111,
             "#46039f"
            ],
            [
             0.2222222222222222,
             "#7201a8"
            ],
            [
             0.3333333333333333,
             "#9c179e"
            ],
            [
             0.4444444444444444,
             "#bd3786"
            ],
            [
             0.5555555555555556,
             "#d8576b"
            ],
            [
             0.6666666666666666,
             "#ed7953"
            ],
            [
             0.7777777777777778,
             "#fb9f3a"
            ],
            [
             0.8888888888888888,
             "#fdca26"
            ],
            [
             1,
             "#f0f921"
            ]
           ]
          },
          "colorway": [
           "#636efa",
           "#EF553B",
           "#00cc96",
           "#ab63fa",
           "#FFA15A",
           "#19d3f3",
           "#FF6692",
           "#B6E880",
           "#FF97FF",
           "#FECB52"
          ],
          "font": {
           "color": "#2a3f5f"
          },
          "geo": {
           "bgcolor": "white",
           "lakecolor": "white",
           "landcolor": "#E5ECF6",
           "showlakes": true,
           "showland": true,
           "subunitcolor": "white"
          },
          "hoverlabel": {
           "align": "left"
          },
          "hovermode": "closest",
          "mapbox": {
           "style": "light"
          },
          "paper_bgcolor": "white",
          "plot_bgcolor": "#E5ECF6",
          "polar": {
           "angularaxis": {
            "gridcolor": "white",
            "linecolor": "white",
            "ticks": ""
           },
           "bgcolor": "#E5ECF6",
           "radialaxis": {
            "gridcolor": "white",
            "linecolor": "white",
            "ticks": ""
           }
          },
          "scene": {
           "xaxis": {
            "backgroundcolor": "#E5ECF6",
            "gridcolor": "white",
            "gridwidth": 2,
            "linecolor": "white",
            "showbackground": true,
            "ticks": "",
            "zerolinecolor": "white"
           },
           "yaxis": {
            "backgroundcolor": "#E5ECF6",
            "gridcolor": "white",
            "gridwidth": 2,
            "linecolor": "white",
            "showbackground": true,
            "ticks": "",
            "zerolinecolor": "white"
           },
           "zaxis": {
            "backgroundcolor": "#E5ECF6",
            "gridcolor": "white",
            "gridwidth": 2,
            "linecolor": "white",
            "showbackground": true,
            "ticks": "",
            "zerolinecolor": "white"
           }
          },
          "shapedefaults": {
           "line": {
            "color": "#2a3f5f"
           }
          },
          "ternary": {
           "aaxis": {
            "gridcolor": "white",
            "linecolor": "white",
            "ticks": ""
           },
           "baxis": {
            "gridcolor": "white",
            "linecolor": "white",
            "ticks": ""
           },
           "bgcolor": "#E5ECF6",
           "caxis": {
            "gridcolor": "white",
            "linecolor": "white",
            "ticks": ""
           }
          },
          "title": {
           "x": 0.05
          },
          "xaxis": {
           "automargin": true,
           "gridcolor": "white",
           "linecolor": "white",
           "ticks": "",
           "title": {
            "standoff": 15
           },
           "zerolinecolor": "white",
           "zerolinewidth": 2
          },
          "yaxis": {
           "automargin": true,
           "gridcolor": "white",
           "linecolor": "white",
           "ticks": "",
           "title": {
            "standoff": 15
           },
           "zerolinecolor": "white",
           "zerolinewidth": 2
          }
         }
        },
        "title": {
         "text": "Cumulative Returns (non-compounded)"
        },
        "xaxis": {
         "anchor": "y",
         "domain": [
          0,
          1
         ],
         "title": {
          "text": "Observations"
         }
        },
        "yaxis": {
         "anchor": "x",
         "domain": [
          0,
          1
         ],
         "tickformat": ".2%",
         "title": {
          "text": "Cumulative Returns"
         }
        }
       }
      }
     },
     "metadata": {},
     "output_type": "display_data"
    }
   ],
   "source": [
    "fig.show()"
   ]
  },
  {
   "cell_type": "code",
   "execution_count": 57,
   "metadata": {},
   "outputs": [],
   "source": [
    "fig_json = fig.to_json()\n",
    "\n",
    "with open(\"fig.json\", \"w\") as f:\n",
    "    f.write(fig_json)"
   ]
  },
  {
   "cell_type": "code",
   "execution_count": 65,
   "metadata": {},
   "outputs": [
    {
     "name": "stderr",
     "output_type": "stream",
     "text": [
      "Registered model 'mean-risk' already exists. Creating a new version of this model...\n",
      "2024/10/20 17:22:25 INFO mlflow.store.model_registry.abstract_store: Waiting up to 300 seconds for model version to finish creation. Model name: mean-risk, version 3\n",
      "Created version '3' of model 'mean-risk'.\n"
     ]
    }
   ],
   "source": [
    "model_name = \"mean-risk\"\n",
    "run_id = input(\"Enter the run ID: \")\n",
    "model_uri = f\"runs:/{run_id}/model\"\n",
    "\n",
    "result = mlflow.register_model(model_uri, model_name)"
   ]
  },
  {
   "cell_type": "code",
   "execution_count": 66,
   "metadata": {},
   "outputs": [],
   "source": [
    "model_version = 2\n",
    "model_uri = f\"models:/{model_name}@challenger\"\n",
    "\n",
    "loaded_model = mlflow.sklearn.load_model(model_uri)\n",
    "y_pred = loaded_model.predict(X_test)"
   ]
  },
  {
   "cell_type": "code",
   "execution_count": 74,
   "metadata": {},
   "outputs": [
    {
     "data": {
      "application/vnd.plotly.v1+json": {
       "config": {
        "plotlyServerURL": "https://plotly.com"
       },
       "data": [
        {
         "hovertemplate": "variable=cumulative_returns<br>index=%{x}<br>value=%{y}<extra></extra>",
         "legendgroup": "cumulative_returns",
         "line": {
          "color": "#636efa",
          "dash": "solid"
         },
         "marker": {
          "symbol": "circle"
         },
         "mode": "lines",
         "name": "cumulative_returns",
         "orientation": "v",
         "showlegend": true,
         "type": "scatter",
         "x": [
          "2023-02-27T00:00:00",
          "2023-02-28T00:00:00",
          "2023-03-01T00:00:00",
          "2023-03-02T00:00:00",
          "2023-03-03T00:00:00",
          "2023-03-06T00:00:00",
          "2023-03-07T00:00:00",
          "2023-03-08T00:00:00",
          "2023-03-09T00:00:00",
          "2023-03-10T00:00:00",
          "2023-03-13T00:00:00",
          "2023-03-14T00:00:00",
          "2023-03-15T00:00:00",
          "2023-03-16T00:00:00",
          "2023-03-17T00:00:00",
          "2023-03-20T00:00:00",
          "2023-03-21T00:00:00",
          "2023-03-22T00:00:00",
          "2023-03-23T00:00:00",
          "2023-03-24T00:00:00",
          "2023-03-27T00:00:00",
          "2023-03-28T00:00:00",
          "2023-03-29T00:00:00",
          "2023-03-30T00:00:00",
          "2023-03-31T00:00:00",
          "2023-04-03T00:00:00",
          "2023-04-04T00:00:00",
          "2023-04-05T00:00:00",
          "2023-04-06T00:00:00",
          "2023-04-10T00:00:00",
          "2023-04-11T00:00:00",
          "2023-04-12T00:00:00",
          "2023-04-13T00:00:00",
          "2023-04-14T00:00:00",
          "2023-04-17T00:00:00",
          "2023-04-18T00:00:00",
          "2023-04-19T00:00:00",
          "2023-04-20T00:00:00",
          "2023-04-21T00:00:00",
          "2023-04-24T00:00:00",
          "2023-04-25T00:00:00",
          "2023-04-26T00:00:00",
          "2023-04-27T00:00:00",
          "2023-04-28T00:00:00",
          "2023-05-01T00:00:00",
          "2023-05-02T00:00:00",
          "2023-05-03T00:00:00",
          "2023-05-04T00:00:00",
          "2023-05-05T00:00:00",
          "2023-05-08T00:00:00",
          "2023-05-09T00:00:00",
          "2023-05-10T00:00:00",
          "2023-05-11T00:00:00",
          "2023-05-12T00:00:00",
          "2023-05-15T00:00:00",
          "2023-05-16T00:00:00",
          "2023-05-17T00:00:00",
          "2023-05-18T00:00:00",
          "2023-05-19T00:00:00",
          "2023-05-22T00:00:00",
          "2023-05-23T00:00:00",
          "2023-05-24T00:00:00",
          "2023-05-25T00:00:00",
          "2023-05-26T00:00:00",
          "2023-05-30T00:00:00",
          "2023-05-31T00:00:00",
          "2023-06-01T00:00:00",
          "2023-06-02T00:00:00",
          "2023-06-05T00:00:00",
          "2023-06-06T00:00:00",
          "2023-06-07T00:00:00",
          "2023-06-08T00:00:00",
          "2023-06-09T00:00:00",
          "2023-06-12T00:00:00",
          "2023-06-13T00:00:00",
          "2023-06-14T00:00:00",
          "2023-06-15T00:00:00",
          "2023-06-16T00:00:00",
          "2023-06-20T00:00:00",
          "2023-06-21T00:00:00",
          "2023-06-22T00:00:00",
          "2023-06-23T00:00:00",
          "2023-06-26T00:00:00",
          "2023-06-27T00:00:00",
          "2023-06-28T00:00:00",
          "2023-06-29T00:00:00",
          "2023-06-30T00:00:00",
          "2023-07-03T00:00:00",
          "2023-07-05T00:00:00",
          "2023-07-06T00:00:00",
          "2023-07-07T00:00:00",
          "2023-07-10T00:00:00",
          "2023-07-11T00:00:00",
          "2023-07-12T00:00:00",
          "2023-07-13T00:00:00",
          "2023-07-14T00:00:00",
          "2023-07-17T00:00:00",
          "2023-07-18T00:00:00",
          "2023-07-19T00:00:00",
          "2023-07-20T00:00:00",
          "2023-07-21T00:00:00",
          "2023-07-24T00:00:00",
          "2023-07-25T00:00:00",
          "2023-07-26T00:00:00",
          "2023-07-27T00:00:00",
          "2023-07-28T00:00:00",
          "2023-07-31T00:00:00",
          "2023-08-01T00:00:00",
          "2023-08-02T00:00:00",
          "2023-08-03T00:00:00",
          "2023-08-04T00:00:00",
          "2023-08-07T00:00:00",
          "2023-08-08T00:00:00",
          "2023-08-09T00:00:00",
          "2023-08-10T00:00:00",
          "2023-08-11T00:00:00",
          "2023-08-14T00:00:00",
          "2023-08-15T00:00:00",
          "2023-08-16T00:00:00",
          "2023-08-17T00:00:00",
          "2023-08-18T00:00:00",
          "2023-08-21T00:00:00",
          "2023-08-22T00:00:00",
          "2023-08-23T00:00:00",
          "2023-08-24T00:00:00",
          "2023-08-25T00:00:00",
          "2023-08-28T00:00:00",
          "2023-08-29T00:00:00",
          "2023-08-30T00:00:00",
          "2023-08-31T00:00:00",
          "2023-09-01T00:00:00",
          "2023-09-05T00:00:00",
          "2023-09-06T00:00:00",
          "2023-09-07T00:00:00",
          "2023-09-08T00:00:00",
          "2023-09-11T00:00:00",
          "2023-09-12T00:00:00",
          "2023-09-13T00:00:00",
          "2023-09-14T00:00:00",
          "2023-09-15T00:00:00",
          "2023-09-18T00:00:00",
          "2023-09-19T00:00:00",
          "2023-09-20T00:00:00",
          "2023-09-21T00:00:00",
          "2023-09-22T00:00:00",
          "2023-09-25T00:00:00",
          "2023-09-26T00:00:00",
          "2023-09-27T00:00:00",
          "2023-09-28T00:00:00",
          "2023-09-29T00:00:00",
          "2023-10-02T00:00:00",
          "2023-10-03T00:00:00",
          "2023-10-04T00:00:00",
          "2023-10-05T00:00:00",
          "2023-10-06T00:00:00",
          "2023-10-09T00:00:00",
          "2023-10-10T00:00:00",
          "2023-10-11T00:00:00",
          "2023-10-12T00:00:00",
          "2023-10-13T00:00:00",
          "2023-10-16T00:00:00",
          "2023-10-17T00:00:00",
          "2023-10-18T00:00:00",
          "2023-10-19T00:00:00",
          "2023-10-20T00:00:00",
          "2023-10-23T00:00:00",
          "2023-10-24T00:00:00",
          "2023-10-25T00:00:00",
          "2023-10-26T00:00:00",
          "2023-10-27T00:00:00",
          "2023-10-30T00:00:00",
          "2023-10-31T00:00:00",
          "2023-11-01T00:00:00",
          "2023-11-02T00:00:00",
          "2023-11-03T00:00:00",
          "2023-11-06T00:00:00",
          "2023-11-07T00:00:00",
          "2023-11-08T00:00:00",
          "2023-11-09T00:00:00",
          "2023-11-10T00:00:00",
          "2023-11-13T00:00:00",
          "2023-11-14T00:00:00",
          "2023-11-15T00:00:00",
          "2023-11-16T00:00:00",
          "2023-11-17T00:00:00",
          "2023-11-20T00:00:00",
          "2023-11-21T00:00:00",
          "2023-11-22T00:00:00",
          "2023-11-24T00:00:00",
          "2023-11-27T00:00:00",
          "2023-11-28T00:00:00",
          "2023-11-29T00:00:00",
          "2023-11-30T00:00:00",
          "2023-12-01T00:00:00",
          "2023-12-04T00:00:00",
          "2023-12-05T00:00:00",
          "2023-12-06T00:00:00",
          "2023-12-07T00:00:00",
          "2023-12-08T00:00:00",
          "2023-12-11T00:00:00",
          "2023-12-12T00:00:00",
          "2023-12-13T00:00:00",
          "2023-12-14T00:00:00",
          "2023-12-15T00:00:00",
          "2023-12-18T00:00:00",
          "2023-12-19T00:00:00",
          "2023-12-20T00:00:00",
          "2023-12-21T00:00:00",
          "2023-12-22T00:00:00",
          "2023-12-26T00:00:00",
          "2023-12-27T00:00:00",
          "2023-12-28T00:00:00",
          "2023-12-29T00:00:00",
          "2024-01-02T00:00:00",
          "2024-01-03T00:00:00",
          "2024-01-04T00:00:00",
          "2024-01-05T00:00:00",
          "2024-01-08T00:00:00",
          "2024-01-09T00:00:00",
          "2024-01-10T00:00:00",
          "2024-01-11T00:00:00",
          "2024-01-12T00:00:00",
          "2024-01-16T00:00:00",
          "2024-01-17T00:00:00",
          "2024-01-18T00:00:00",
          "2024-01-19T00:00:00",
          "2024-01-22T00:00:00",
          "2024-01-23T00:00:00",
          "2024-01-24T00:00:00",
          "2024-01-25T00:00:00",
          "2024-01-26T00:00:00",
          "2024-01-29T00:00:00",
          "2024-01-30T00:00:00",
          "2024-01-31T00:00:00",
          "2024-02-01T00:00:00",
          "2024-02-02T00:00:00",
          "2024-02-05T00:00:00",
          "2024-02-06T00:00:00",
          "2024-02-07T00:00:00",
          "2024-02-08T00:00:00",
          "2024-02-09T00:00:00",
          "2024-02-12T00:00:00",
          "2024-02-13T00:00:00",
          "2024-02-14T00:00:00",
          "2024-02-15T00:00:00",
          "2024-02-16T00:00:00",
          "2024-02-20T00:00:00",
          "2024-02-21T00:00:00",
          "2024-02-22T00:00:00",
          "2024-02-23T00:00:00",
          "2024-02-26T00:00:00",
          "2024-02-27T00:00:00",
          "2024-02-28T00:00:00",
          "2024-02-29T00:00:00",
          "2024-03-01T00:00:00",
          "2024-03-04T00:00:00",
          "2024-03-05T00:00:00",
          "2024-03-06T00:00:00",
          "2024-03-07T00:00:00",
          "2024-03-08T00:00:00",
          "2024-03-11T00:00:00",
          "2024-03-12T00:00:00",
          "2024-03-13T00:00:00",
          "2024-03-14T00:00:00",
          "2024-03-15T00:00:00",
          "2024-03-18T00:00:00",
          "2024-03-19T00:00:00",
          "2024-03-20T00:00:00",
          "2024-03-21T00:00:00",
          "2024-03-22T00:00:00",
          "2024-03-25T00:00:00",
          "2024-03-26T00:00:00",
          "2024-03-27T00:00:00",
          "2024-03-28T00:00:00",
          "2024-04-01T00:00:00",
          "2024-04-02T00:00:00",
          "2024-04-03T00:00:00",
          "2024-04-04T00:00:00",
          "2024-04-05T00:00:00",
          "2024-04-08T00:00:00",
          "2024-04-09T00:00:00",
          "2024-04-10T00:00:00",
          "2024-04-11T00:00:00",
          "2024-04-12T00:00:00",
          "2024-04-15T00:00:00",
          "2024-04-16T00:00:00",
          "2024-04-17T00:00:00",
          "2024-04-18T00:00:00",
          "2024-04-19T00:00:00",
          "2024-04-22T00:00:00",
          "2024-04-23T00:00:00",
          "2024-04-24T00:00:00",
          "2024-04-25T00:00:00",
          "2024-04-26T00:00:00",
          "2024-04-29T00:00:00",
          "2024-04-30T00:00:00",
          "2024-05-01T00:00:00",
          "2024-05-02T00:00:00",
          "2024-05-03T00:00:00",
          "2024-05-06T00:00:00",
          "2024-05-07T00:00:00",
          "2024-05-08T00:00:00",
          "2024-05-09T00:00:00",
          "2024-05-10T00:00:00",
          "2024-05-13T00:00:00",
          "2024-05-14T00:00:00",
          "2024-05-15T00:00:00",
          "2024-05-16T00:00:00",
          "2024-05-17T00:00:00",
          "2024-05-20T00:00:00",
          "2024-05-21T00:00:00",
          "2024-05-22T00:00:00",
          "2024-05-23T00:00:00",
          "2024-05-24T00:00:00",
          "2024-05-28T00:00:00",
          "2024-05-29T00:00:00",
          "2024-05-30T00:00:00",
          "2024-05-31T00:00:00",
          "2024-06-03T00:00:00",
          "2024-06-04T00:00:00",
          "2024-06-05T00:00:00",
          "2024-06-06T00:00:00",
          "2024-06-07T00:00:00",
          "2024-06-10T00:00:00",
          "2024-06-11T00:00:00",
          "2024-06-12T00:00:00",
          "2024-06-13T00:00:00",
          "2024-06-14T00:00:00",
          "2024-06-17T00:00:00",
          "2024-06-18T00:00:00",
          "2024-06-20T00:00:00",
          "2024-06-21T00:00:00",
          "2024-06-24T00:00:00",
          "2024-06-25T00:00:00",
          "2024-06-26T00:00:00",
          "2024-06-27T00:00:00",
          "2024-06-28T00:00:00",
          "2024-07-01T00:00:00",
          "2024-07-02T00:00:00",
          "2024-07-03T00:00:00",
          "2024-07-05T00:00:00",
          "2024-07-08T00:00:00",
          "2024-07-09T00:00:00",
          "2024-07-10T00:00:00",
          "2024-07-11T00:00:00",
          "2024-07-12T00:00:00",
          "2024-07-15T00:00:00",
          "2024-07-16T00:00:00",
          "2024-07-17T00:00:00",
          "2024-07-18T00:00:00",
          "2024-07-19T00:00:00",
          "2024-07-22T00:00:00",
          "2024-07-23T00:00:00",
          "2024-07-24T00:00:00",
          "2024-07-25T00:00:00",
          "2024-07-26T00:00:00",
          "2024-07-29T00:00:00",
          "2024-07-30T00:00:00",
          "2024-07-31T00:00:00",
          "2024-08-01T00:00:00",
          "2024-08-02T00:00:00",
          "2024-08-05T00:00:00",
          "2024-08-06T00:00:00",
          "2024-08-07T00:00:00",
          "2024-08-08T00:00:00",
          "2024-08-09T00:00:00",
          "2024-08-12T00:00:00",
          "2024-08-13T00:00:00",
          "2024-08-14T00:00:00",
          "2024-08-15T00:00:00",
          "2024-08-16T00:00:00",
          "2024-08-19T00:00:00",
          "2024-08-20T00:00:00",
          "2024-08-21T00:00:00",
          "2024-08-22T00:00:00",
          "2024-08-23T00:00:00",
          "2024-08-26T00:00:00",
          "2024-08-27T00:00:00",
          "2024-08-28T00:00:00",
          "2024-08-29T00:00:00",
          "2024-08-30T00:00:00",
          "2024-09-03T00:00:00",
          "2024-09-04T00:00:00",
          "2024-09-05T00:00:00",
          "2024-09-06T00:00:00",
          "2024-09-09T00:00:00",
          "2024-09-10T00:00:00",
          "2024-09-11T00:00:00",
          "2024-09-12T00:00:00",
          "2024-09-13T00:00:00",
          "2024-09-16T00:00:00",
          "2024-09-17T00:00:00",
          "2024-09-18T00:00:00",
          "2024-09-19T00:00:00",
          "2024-09-20T00:00:00",
          "2024-09-23T00:00:00",
          "2024-09-24T00:00:00",
          "2024-09-25T00:00:00",
          "2024-09-26T00:00:00",
          "2024-09-27T00:00:00",
          "2024-09-30T00:00:00",
          "2024-10-01T00:00:00",
          "2024-10-02T00:00:00",
          "2024-10-03T00:00:00",
          "2024-10-04T00:00:00",
          "2024-10-07T00:00:00",
          "2024-10-08T00:00:00",
          "2024-10-09T00:00:00",
          "2024-10-10T00:00:00",
          "2024-10-11T00:00:00",
          "2024-10-14T00:00:00",
          "2024-10-15T00:00:00",
          "2024-10-16T00:00:00",
          "2024-10-17T00:00:00",
          "2024-10-18T00:00:00"
         ],
         "xaxis": "x",
         "y": [
          0.00869268486474597,
          0.002858397376296672,
          0.0022667054699579046,
          0.007651592954523471,
          0.022938500016178733,
          0.016886670070061276,
          0.002524920213953159,
          -0.00026781153055934273,
          -0.019332760028175352,
          -0.017439077440671004,
          -0.009894731258312755,
          0.012342463139868904,
          0.009759781174738833,
          0.03020214256859069,
          0.026950049855401843,
          0.03920765178587711,
          0.05012660172158667,
          0.03912493094373754,
          0.05229104906091219,
          0.0581580606459457,
          0.05593272897597096,
          0.05859378239270652,
          0.06611317735969456,
          0.07088745994883469,
          0.08074720045463808,
          0.09323123206000508,
          0.08431972253609801,
          0.08361664845999868,
          0.08625003846789879,
          0.09084791324683185,
          0.08750387805396243,
          0.08333697806225582,
          0.09020144790490109,
          0.08981679285784061,
          0.08990134121662675,
          0.09366297985502067,
          0.10224658736514083,
          0.09430115849521317,
          0.09725303312909299,
          0.10447197910011188,
          0.09685316268780125,
          0.09300633458163578,
          0.05074176747102269,
          0.06688745872519465,
          0.08610917470776105,
          0.06645390237107601,
          0.05073059822537014,
          0.03873335359635409,
          0.05654995763507095,
          0.05967482042839563,
          0.051192434901273204,
          0.051442753947676896,
          0.04687828161590803,
          0.046657226434595106,
          0.051133912153597125,
          0.0380298556950091,
          0.05065851829241855,
          0.06709650996407857,
          0.07051997651808911,
          0.06743630272280024,
          0.05453508459059936,
          0.04865383407831239,
          0.10976042444417611,
          0.11233282283800272,
          0.11561280763087686,
          0.10309139880474694,
          0.10065955101281474,
          0.11492451511707448,
          0.11313594193930208,
          0.10399146301195858,
          0.10184103856992402,
          0.11482536363487869,
          0.11834353162810793,
          0.12099917021413033,
          0.13525412314571525,
          0.13965748417521617,
          0.13662121812199232,
          0.14788536644519035,
          0.14976577234127503,
          0.14166914357009727,
          0.14332593975720698,
          0.13025963226141987,
          0.11689974387218556,
          0.11625544362382666,
          0.11127133641485645,
          0.11369011472925877,
          0.13186533709456486,
          0.13404368045528275,
          0.14406681141473768,
          0.13688947643576493,
          0.13255424436884675,
          0.12742015046410396,
          0.13510291688994588,
          0.14384091304471364,
          0.15642769232573123,
          0.15986653339998053,
          0.16193468058533855,
          0.1757672356252609,
          0.1785920205409852,
          0.18965539545910598,
          0.18849476391610825,
          0.18999312320904843,
          0.19108441769508971,
          0.19008265392602292,
          0.22203994874378202,
          0.23420635561667072,
          0.2323991546576997,
          0.22627921737410106,
          0.21361638386911133,
          0.21593981978106278,
          0.21200136977258954,
          0.22699203990633998,
          0.2197944171957145,
          0.21188909420109225,
          0.21383468738292008,
          0.20752618985018098,
          0.2293944511194756,
          0.22720643188743042,
          0.22006761755340154,
          0.21528806684067084,
          0.2170628340893598,
          0.2414234817826332,
          0.224977022207877,
          0.2291191646512427,
          0.2266775285130223,
          0.22159808880876714,
          0.23089655840053763,
          0.24481629823114182,
          0.2518239719656685,
          0.24732355862590327,
          0.24942221632950354,
          0.24138416185628472,
          0.23105074463683564,
          0.23839751279432422,
          0.23609263355258026,
          0.23216532184177413,
          0.23422890591653595,
          0.24469025182609425,
          0.25695136195484053,
          0.23834293545545487,
          0.24669370731668536,
          0.24170302640176233,
          0.23232361430900023,
          0.22126935982027943,
          0.22324712004865077,
          0.23626095432033803,
          0.23133385373383109,
          0.23598402061910687,
          0.23636234099069262,
          0.2252429253719974,
          0.22913332839139497,
          0.21752638982625955,
          0.2181333545534361,
          0.219110495118245,
          0.22772286864601213,
          0.23184610149997464,
          0.23397558069665225,
          0.23846507656707713,
          0.24108462972873343,
          0.2337169408290656,
          0.23511238790314895,
          0.23012329497789663,
          0.2200905737861111,
          0.2047751578450636,
          0.20050720629774696,
          0.20451219970485013,
          0.21466605857958426,
          0.1976442440593178,
          0.18576746955961215,
          0.15977932706608305,
          0.17755941944888895,
          0.17180381280670426,
          0.18841168229368493,
          0.20374929102487552,
          0.20526788841821242,
          0.20748583301165208,
          0.21111850064621193,
          0.2132966725810935,
          0.19935644047749906,
          0.21148449065273356,
          0.21464066437210297,
          0.21905797746386874,
          0.2117844289778999,
          0.21710370428474485,
          0.21872758578006155,
          0.22511260888339615,
          0.22409747521620543,
          0.2151195502396105,
          0.21069198860696867,
          0.21476710174351196,
          0.20785912882728566,
          0.21000389992495852,
          0.2182655104255516,
          0.22265892921259892,
          0.21700979712409507,
          0.22363577771557008,
          0.22256560415332957,
          0.23546362765549206,
          0.24784696306118942,
          0.24996631067854946,
          0.26264162226583876,
          0.2704347119773134,
          0.2772427280929608,
          0.2766879530443666,
          0.2824625781551684,
          0.28171855423789227,
          0.26351237955183443,
          0.2730077183872049,
          0.28121902374449387,
          0.28302213389339215,
          0.28434011818591387,
          0.28285749880400746,
          0.28343570857204603,
          0.2960172389323795,
          0.2955132013119763,
          0.3008968042825489,
          0.31056988083931214,
          0.3256260911835704,
          0.3325807969704778,
          0.34765079198178006,
          0.3462938132470712,
          0.3477570957118896,
          0.3510974203987192,
          0.35055905376201746,
          0.3606787388182376,
          0.3787803776747362,
          0.38167832843204896,
          0.3915289627462314,
          0.38946630944291805,
          0.3967384859621066,
          0.3922287044846405,
          0.39767704208383003,
          0.40453157085376135,
          0.39450078835030006,
          0.4127697419453813,
          0.431129240666925,
          0.45413221256237685,
          0.4570279097682987,
          0.47105202836633203,
          0.4702686501057555,
          0.4763609437252226,
          0.4749007746937559,
          0.47417059748950147,
          0.4848275616333866,
          0.49017816831295435,
          0.4929750183919418,
          0.47304307481412944,
          0.46468789914956077,
          0.5194816994704728,
          0.5239646372751755,
          0.5278031192806979,
          0.5266825925196269,
          0.5197598459878209,
          0.5191886983169886,
          0.5421282687187869,
          0.5452793453149473,
          0.5560722907070504,
          0.5730467618889049,
          0.5855759784113123,
          0.564333204098703,
          0.5615425023607625,
          0.5866517611302305,
          0.5810112068228738,
          0.5776147186009353,
          0.5663287130607024,
          0.5714986291410854,
          0.5793534019873364,
          0.5715855974718892,
          0.5795703921970787,
          0.5921043097025063,
          0.5957760148958947,
          0.5893247975899201,
          0.5867620785051085,
          0.5940050751314829,
          0.5904058257346511,
          0.5892681026262979,
          0.576786705902468,
          0.5357124650633271,
          0.5519138811004912,
          0.5474895672204234,
          0.5430930980164387,
          0.5461191917958009,
          0.5530789547048277,
          0.5307297657889629,
          0.5203651653446587,
          0.5274563449240561,
          0.5218889682862751,
          0.5255215094860698,
          0.5027684647919094,
          0.5217003424711197,
          0.5389757294378572,
          0.5229716583434895,
          0.5326413230345798,
          0.5213882157341062,
          0.5300756976933095,
          0.5281576419028788,
          0.5110272074516014,
          0.5180492501826159,
          0.5393065570628476,
          0.5475903151972723,
          0.5412234213865066,
          0.5332069329895784,
          0.5296639916293114,
          0.5342985600035132,
          0.5380166410345439,
          0.5430136489107177,
          0.5626553230547959,
          0.5631369194839427,
          0.5661589046828122,
          0.5662520788888219,
          0.5616755906994619,
          0.5461048998207207,
          0.5673529685077007,
          0.5706478647243558,
          0.5867083166006688,
          0.5859285490757152,
          0.5806451954829348,
          0.5999005176272164,
          0.6082387473310629,
          0.6174306536533556,
          0.6453696620330084,
          0.6536587540883642,
          0.6552084692065292,
          0.6612967335019654,
          0.6490347441180393,
          0.6529771533088575,
          0.6644233640041002,
          0.6758553514382962,
          0.6768723198967297,
          0.6942616078858892,
          0.6885253239031017,
          0.6719042636577333,
          0.6630847446409327,
          0.6770830321495819,
          0.6792888867461211,
          0.6666499297349305,
          0.6744408957962387,
          0.6723217295744031,
          0.6525599114899664,
          0.6594431329986508,
          0.6645758544178875,
          0.6665979793621969,
          0.6782318656621019,
          0.6877023086031527,
          0.6782957125418443,
          0.6839764905812044,
          0.6816404877262622,
          0.681620394860018,
          0.6840414913603037,
          0.6792017092521964,
          0.6728216822561287,
          0.6907893072521548,
          0.6851723173424503,
          0.6764219197143758,
          0.6933231387182023,
          0.7049066469070865,
          0.6896787993123032,
          0.6859564316377944,
          0.7204734520050854,
          0.7126260362151361,
          0.7059182923871609,
          0.6693528015914784,
          0.6844355833138605,
          0.6761423164315722,
          0.7058088481857306,
          0.704695151798984,
          0.7179029751829102,
          0.7398624823004432,
          0.7513209334337712,
          0.7654837188089031,
          0.7706999598072782,
          0.7931256290689832,
          0.7809502212133009,
          0.7843209057962698,
          0.7734902588003255,
          0.7922923723920667,
          0.7875745913081331,
          0.7864207757067129,
          0.7774207046832329,
          0.7590670611428508,
          0.7668267653622157,
          0.7397996338003858,
          0.7314255656006879,
          0.7211048456332839,
          0.7098883585191111,
          0.7320019525732874,
          0.7413196959453563,
          0.7508995990168261,
          0.7564743883308571,
          0.7568667749696649,
          0.7570275965944202,
          0.7485954968922105,
          0.741694660608443,
          0.7572379559457662,
          0.7512910476779103,
          0.7550085163395762,
          0.7657503849885563,
          0.7633542729257649,
          0.764743862413358,
          0.7700944143709632,
          0.7796815634436866,
          0.7695532709978882,
          0.7753759147241185,
          0.7824034671204703,
          0.7860615363568985,
          0.7911932660133721,
          0.7987098405656322,
          0.8035481705571788,
          0.8081919341893755,
          0.808083768853231,
          0.8202770598770814,
          0.7961131859088032,
          0.8015465541842213,
          0.7981566038412059,
          0.8011425170977352
         ],
         "yaxis": "y"
        }
       ],
       "layout": {
        "legend": {
         "title": {
          "text": "variable"
         },
         "tracegroupgap": 0
        },
        "margin": {
         "t": 60
        },
        "showlegend": false,
        "template": {
         "data": {
          "bar": [
           {
            "error_x": {
             "color": "#2a3f5f"
            },
            "error_y": {
             "color": "#2a3f5f"
            },
            "marker": {
             "line": {
              "color": "#E5ECF6",
              "width": 0.5
             },
             "pattern": {
              "fillmode": "overlay",
              "size": 10,
              "solidity": 0.2
             }
            },
            "type": "bar"
           }
          ],
          "barpolar": [
           {
            "marker": {
             "line": {
              "color": "#E5ECF6",
              "width": 0.5
             },
             "pattern": {
              "fillmode": "overlay",
              "size": 10,
              "solidity": 0.2
             }
            },
            "type": "barpolar"
           }
          ],
          "carpet": [
           {
            "aaxis": {
             "endlinecolor": "#2a3f5f",
             "gridcolor": "white",
             "linecolor": "white",
             "minorgridcolor": "white",
             "startlinecolor": "#2a3f5f"
            },
            "baxis": {
             "endlinecolor": "#2a3f5f",
             "gridcolor": "white",
             "linecolor": "white",
             "minorgridcolor": "white",
             "startlinecolor": "#2a3f5f"
            },
            "type": "carpet"
           }
          ],
          "choropleth": [
           {
            "colorbar": {
             "outlinewidth": 0,
             "ticks": ""
            },
            "type": "choropleth"
           }
          ],
          "contour": [
           {
            "colorbar": {
             "outlinewidth": 0,
             "ticks": ""
            },
            "colorscale": [
             [
              0,
              "#0d0887"
             ],
             [
              0.1111111111111111,
              "#46039f"
             ],
             [
              0.2222222222222222,
              "#7201a8"
             ],
             [
              0.3333333333333333,
              "#9c179e"
             ],
             [
              0.4444444444444444,
              "#bd3786"
             ],
             [
              0.5555555555555556,
              "#d8576b"
             ],
             [
              0.6666666666666666,
              "#ed7953"
             ],
             [
              0.7777777777777778,
              "#fb9f3a"
             ],
             [
              0.8888888888888888,
              "#fdca26"
             ],
             [
              1,
              "#f0f921"
             ]
            ],
            "type": "contour"
           }
          ],
          "contourcarpet": [
           {
            "colorbar": {
             "outlinewidth": 0,
             "ticks": ""
            },
            "type": "contourcarpet"
           }
          ],
          "heatmap": [
           {
            "colorbar": {
             "outlinewidth": 0,
             "ticks": ""
            },
            "colorscale": [
             [
              0,
              "#0d0887"
             ],
             [
              0.1111111111111111,
              "#46039f"
             ],
             [
              0.2222222222222222,
              "#7201a8"
             ],
             [
              0.3333333333333333,
              "#9c179e"
             ],
             [
              0.4444444444444444,
              "#bd3786"
             ],
             [
              0.5555555555555556,
              "#d8576b"
             ],
             [
              0.6666666666666666,
              "#ed7953"
             ],
             [
              0.7777777777777778,
              "#fb9f3a"
             ],
             [
              0.8888888888888888,
              "#fdca26"
             ],
             [
              1,
              "#f0f921"
             ]
            ],
            "type": "heatmap"
           }
          ],
          "heatmapgl": [
           {
            "colorbar": {
             "outlinewidth": 0,
             "ticks": ""
            },
            "colorscale": [
             [
              0,
              "#0d0887"
             ],
             [
              0.1111111111111111,
              "#46039f"
             ],
             [
              0.2222222222222222,
              "#7201a8"
             ],
             [
              0.3333333333333333,
              "#9c179e"
             ],
             [
              0.4444444444444444,
              "#bd3786"
             ],
             [
              0.5555555555555556,
              "#d8576b"
             ],
             [
              0.6666666666666666,
              "#ed7953"
             ],
             [
              0.7777777777777778,
              "#fb9f3a"
             ],
             [
              0.8888888888888888,
              "#fdca26"
             ],
             [
              1,
              "#f0f921"
             ]
            ],
            "type": "heatmapgl"
           }
          ],
          "histogram": [
           {
            "marker": {
             "pattern": {
              "fillmode": "overlay",
              "size": 10,
              "solidity": 0.2
             }
            },
            "type": "histogram"
           }
          ],
          "histogram2d": [
           {
            "colorbar": {
             "outlinewidth": 0,
             "ticks": ""
            },
            "colorscale": [
             [
              0,
              "#0d0887"
             ],
             [
              0.1111111111111111,
              "#46039f"
             ],
             [
              0.2222222222222222,
              "#7201a8"
             ],
             [
              0.3333333333333333,
              "#9c179e"
             ],
             [
              0.4444444444444444,
              "#bd3786"
             ],
             [
              0.5555555555555556,
              "#d8576b"
             ],
             [
              0.6666666666666666,
              "#ed7953"
             ],
             [
              0.7777777777777778,
              "#fb9f3a"
             ],
             [
              0.8888888888888888,
              "#fdca26"
             ],
             [
              1,
              "#f0f921"
             ]
            ],
            "type": "histogram2d"
           }
          ],
          "histogram2dcontour": [
           {
            "colorbar": {
             "outlinewidth": 0,
             "ticks": ""
            },
            "colorscale": [
             [
              0,
              "#0d0887"
             ],
             [
              0.1111111111111111,
              "#46039f"
             ],
             [
              0.2222222222222222,
              "#7201a8"
             ],
             [
              0.3333333333333333,
              "#9c179e"
             ],
             [
              0.4444444444444444,
              "#bd3786"
             ],
             [
              0.5555555555555556,
              "#d8576b"
             ],
             [
              0.6666666666666666,
              "#ed7953"
             ],
             [
              0.7777777777777778,
              "#fb9f3a"
             ],
             [
              0.8888888888888888,
              "#fdca26"
             ],
             [
              1,
              "#f0f921"
             ]
            ],
            "type": "histogram2dcontour"
           }
          ],
          "mesh3d": [
           {
            "colorbar": {
             "outlinewidth": 0,
             "ticks": ""
            },
            "type": "mesh3d"
           }
          ],
          "parcoords": [
           {
            "line": {
             "colorbar": {
              "outlinewidth": 0,
              "ticks": ""
             }
            },
            "type": "parcoords"
           }
          ],
          "pie": [
           {
            "automargin": true,
            "type": "pie"
           }
          ],
          "scatter": [
           {
            "fillpattern": {
             "fillmode": "overlay",
             "size": 10,
             "solidity": 0.2
            },
            "type": "scatter"
           }
          ],
          "scatter3d": [
           {
            "line": {
             "colorbar": {
              "outlinewidth": 0,
              "ticks": ""
             }
            },
            "marker": {
             "colorbar": {
              "outlinewidth": 0,
              "ticks": ""
             }
            },
            "type": "scatter3d"
           }
          ],
          "scattercarpet": [
           {
            "marker": {
             "colorbar": {
              "outlinewidth": 0,
              "ticks": ""
             }
            },
            "type": "scattercarpet"
           }
          ],
          "scattergeo": [
           {
            "marker": {
             "colorbar": {
              "outlinewidth": 0,
              "ticks": ""
             }
            },
            "type": "scattergeo"
           }
          ],
          "scattergl": [
           {
            "marker": {
             "colorbar": {
              "outlinewidth": 0,
              "ticks": ""
             }
            },
            "type": "scattergl"
           }
          ],
          "scattermapbox": [
           {
            "marker": {
             "colorbar": {
              "outlinewidth": 0,
              "ticks": ""
             }
            },
            "type": "scattermapbox"
           }
          ],
          "scatterpolar": [
           {
            "marker": {
             "colorbar": {
              "outlinewidth": 0,
              "ticks": ""
             }
            },
            "type": "scatterpolar"
           }
          ],
          "scatterpolargl": [
           {
            "marker": {
             "colorbar": {
              "outlinewidth": 0,
              "ticks": ""
             }
            },
            "type": "scatterpolargl"
           }
          ],
          "scatterternary": [
           {
            "marker": {
             "colorbar": {
              "outlinewidth": 0,
              "ticks": ""
             }
            },
            "type": "scatterternary"
           }
          ],
          "surface": [
           {
            "colorbar": {
             "outlinewidth": 0,
             "ticks": ""
            },
            "colorscale": [
             [
              0,
              "#0d0887"
             ],
             [
              0.1111111111111111,
              "#46039f"
             ],
             [
              0.2222222222222222,
              "#7201a8"
             ],
             [
              0.3333333333333333,
              "#9c179e"
             ],
             [
              0.4444444444444444,
              "#bd3786"
             ],
             [
              0.5555555555555556,
              "#d8576b"
             ],
             [
              0.6666666666666666,
              "#ed7953"
             ],
             [
              0.7777777777777778,
              "#fb9f3a"
             ],
             [
              0.8888888888888888,
              "#fdca26"
             ],
             [
              1,
              "#f0f921"
             ]
            ],
            "type": "surface"
           }
          ],
          "table": [
           {
            "cells": {
             "fill": {
              "color": "#EBF0F8"
             },
             "line": {
              "color": "white"
             }
            },
            "header": {
             "fill": {
              "color": "#C8D4E3"
             },
             "line": {
              "color": "white"
             }
            },
            "type": "table"
           }
          ]
         },
         "layout": {
          "annotationdefaults": {
           "arrowcolor": "#2a3f5f",
           "arrowhead": 0,
           "arrowwidth": 1
          },
          "autotypenumbers": "strict",
          "coloraxis": {
           "colorbar": {
            "outlinewidth": 0,
            "ticks": ""
           }
          },
          "colorscale": {
           "diverging": [
            [
             0,
             "#8e0152"
            ],
            [
             0.1,
             "#c51b7d"
            ],
            [
             0.2,
             "#de77ae"
            ],
            [
             0.3,
             "#f1b6da"
            ],
            [
             0.4,
             "#fde0ef"
            ],
            [
             0.5,
             "#f7f7f7"
            ],
            [
             0.6,
             "#e6f5d0"
            ],
            [
             0.7,
             "#b8e186"
            ],
            [
             0.8,
             "#7fbc41"
            ],
            [
             0.9,
             "#4d9221"
            ],
            [
             1,
             "#276419"
            ]
           ],
           "sequential": [
            [
             0,
             "#0d0887"
            ],
            [
             0.1111111111111111,
             "#46039f"
            ],
            [
             0.2222222222222222,
             "#7201a8"
            ],
            [
             0.3333333333333333,
             "#9c179e"
            ],
            [
             0.4444444444444444,
             "#bd3786"
            ],
            [
             0.5555555555555556,
             "#d8576b"
            ],
            [
             0.6666666666666666,
             "#ed7953"
            ],
            [
             0.7777777777777778,
             "#fb9f3a"
            ],
            [
             0.8888888888888888,
             "#fdca26"
            ],
            [
             1,
             "#f0f921"
            ]
           ],
           "sequentialminus": [
            [
             0,
             "#0d0887"
            ],
            [
             0.1111111111111111,
             "#46039f"
            ],
            [
             0.2222222222222222,
             "#7201a8"
            ],
            [
             0.3333333333333333,
             "#9c179e"
            ],
            [
             0.4444444444444444,
             "#bd3786"
            ],
            [
             0.5555555555555556,
             "#d8576b"
            ],
            [
             0.6666666666666666,
             "#ed7953"
            ],
            [
             0.7777777777777778,
             "#fb9f3a"
            ],
            [
             0.8888888888888888,
             "#fdca26"
            ],
            [
             1,
             "#f0f921"
            ]
           ]
          },
          "colorway": [
           "#636efa",
           "#EF553B",
           "#00cc96",
           "#ab63fa",
           "#FFA15A",
           "#19d3f3",
           "#FF6692",
           "#B6E880",
           "#FF97FF",
           "#FECB52"
          ],
          "font": {
           "color": "#2a3f5f"
          },
          "geo": {
           "bgcolor": "white",
           "lakecolor": "white",
           "landcolor": "#E5ECF6",
           "showlakes": true,
           "showland": true,
           "subunitcolor": "white"
          },
          "hoverlabel": {
           "align": "left"
          },
          "hovermode": "closest",
          "mapbox": {
           "style": "light"
          },
          "paper_bgcolor": "white",
          "plot_bgcolor": "#E5ECF6",
          "polar": {
           "angularaxis": {
            "gridcolor": "white",
            "linecolor": "white",
            "ticks": ""
           },
           "bgcolor": "#E5ECF6",
           "radialaxis": {
            "gridcolor": "white",
            "linecolor": "white",
            "ticks": ""
           }
          },
          "scene": {
           "xaxis": {
            "backgroundcolor": "#E5ECF6",
            "gridcolor": "white",
            "gridwidth": 2,
            "linecolor": "white",
            "showbackground": true,
            "ticks": "",
            "zerolinecolor": "white"
           },
           "yaxis": {
            "backgroundcolor": "#E5ECF6",
            "gridcolor": "white",
            "gridwidth": 2,
            "linecolor": "white",
            "showbackground": true,
            "ticks": "",
            "zerolinecolor": "white"
           },
           "zaxis": {
            "backgroundcolor": "#E5ECF6",
            "gridcolor": "white",
            "gridwidth": 2,
            "linecolor": "white",
            "showbackground": true,
            "ticks": "",
            "zerolinecolor": "white"
           }
          },
          "shapedefaults": {
           "line": {
            "color": "#2a3f5f"
           }
          },
          "ternary": {
           "aaxis": {
            "gridcolor": "white",
            "linecolor": "white",
            "ticks": ""
           },
           "baxis": {
            "gridcolor": "white",
            "linecolor": "white",
            "ticks": ""
           },
           "bgcolor": "#E5ECF6",
           "caxis": {
            "gridcolor": "white",
            "linecolor": "white",
            "ticks": ""
           }
          },
          "title": {
           "x": 0.05
          },
          "xaxis": {
           "automargin": true,
           "gridcolor": "white",
           "linecolor": "white",
           "ticks": "",
           "title": {
            "standoff": 15
           },
           "zerolinecolor": "white",
           "zerolinewidth": 2
          },
          "yaxis": {
           "automargin": true,
           "gridcolor": "white",
           "linecolor": "white",
           "ticks": "",
           "title": {
            "standoff": 15
           },
           "zerolinecolor": "white",
           "zerolinewidth": 2
          }
         }
        },
        "title": {
         "text": "Cumulative Returns (non-compounded)"
        },
        "xaxis": {
         "anchor": "y",
         "domain": [
          0,
          1
         ],
         "title": {
          "text": "Observations"
         }
        },
        "yaxis": {
         "anchor": "x",
         "domain": [
          0,
          1
         ],
         "tickformat": ".2%",
         "title": {
          "text": "Cumulative Returns"
         }
        }
       }
      }
     },
     "metadata": {},
     "output_type": "display_data"
    }
   ],
   "source": [
    "# plot the cumulative returns\n",
    "y_pred.plot_cumulative_returns()"
   ]
  },
  {
   "cell_type": "code",
   "execution_count": null,
   "metadata": {},
   "outputs": [],
   "source": []
  }
 ],
 "metadata": {
  "kernelspec": {
   "display_name": ".venv",
   "language": "python",
   "name": "python3"
  },
  "language_info": {
   "codemirror_mode": {
    "name": "ipython",
    "version": 3
   },
   "file_extension": ".py",
   "mimetype": "text/x-python",
   "name": "python",
   "nbconvert_exporter": "python",
   "pygments_lexer": "ipython3",
   "version": "3.12.5"
  }
 },
 "nbformat": 4,
 "nbformat_minor": 2
}
